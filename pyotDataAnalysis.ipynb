{
 "metadata": {
  "name": ""
 },
 "nbformat": 3,
 "nbformat_minor": 0,
 "worksheets": [
  {
   "cells": [
    {
     "cell_type": "heading",
     "level": 2,
     "metadata": {},
     "source": [
      "PyoT Data Analysis"
     ]
    },
    {
     "cell_type": "code",
     "collapsed": false,
     "input": [
      "%matplotlib inline\n",
      "import pandas as pd\n",
      "from pyot.models import *"
     ],
     "language": "python",
     "metadata": {},
     "outputs": []
    },
    {
     "cell_type": "code",
     "collapsed": false,
     "input": [
      "from datetime import timedelta, datetime\n",
      "#TFMT = \"%Y-%m-%d %H:%M:%S\"\n",
      "TFMT = \"%H:%M\"\n",
      "lSens = Resource.objects.filter(title='Light')\n",
      "d = {}\n",
      "\n",
      "for l in lSens:\n",
      "    lightSeries = CoapMsg.objects.filter(resource=l, timeadded__gt=datetime.now() - timedelta(hours=6))\n",
      "\n",
      "    values = []\n",
      "    indexes = []\n",
      "    for i in lightSeries:\n",
      "        try:\n",
      "            values.append(int(i.payload))\n",
      "        except:\n",
      "            values.append(int(i.payload.split(';')[0]))\n",
      "        indexes.append(i.timeadded.strftime(TFMT))\n",
      "    \n",
      "    d[str(l.host.ip6address)[-5:]] = pd.Series(values, indexes).groupby(level=0).last()\n",
      "#print d\n",
      "df = pd.DataFrame(d)\n",
      "df.plot()"
     ],
     "language": "python",
     "metadata": {},
     "outputs": []
    }
   ],
   "metadata": {}
  }
 ]
}