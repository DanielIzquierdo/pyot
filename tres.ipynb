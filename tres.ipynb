{
 "metadata": {
  "name": "",
  "signature": "sha256:7ac851885c01d3003be756c7f0e024f2a2b6196ee1e31cd9cba4aa4c92593225"
 },
 "nbformat": 3,
 "nbformat_minor": 0,
 "worksheets": [
  {
   "cells": [
    {
     "cell_type": "heading",
     "level": 1,
     "metadata": {},
     "source": [
      "T-Res API demo"
     ]
    },
    {
     "cell_type": "heading",
     "level": 3,
     "metadata": {},
     "source": [
      "Create processing function"
     ]
    },
    {
     "cell_type": "code",
     "collapsed": false,
     "input": [
      "from pyot.models import *\n",
      "from pyot.tres.tresApp import *"
     ],
     "language": "python",
     "metadata": {},
     "outputs": []
    },
    {
     "cell_type": "code",
     "collapsed": false,
     "input": [
      "halve = \"\"\"\n",
      "from tres_pymite import *\n",
      "i = getInputList()\n",
      "print \"list:\",\n",
      "print len(i), i\n",
      "if len(i) != 0:\n",
      "  a = sum(i) / len(i)\n",
      "  setOutput(a)\n",
      "  print a\n",
      "\"\"\"\n",
      "\n",
      "t1 = TResPF.fromSource(halve, 'halve')\n",
      "\n",
      "rin = Resource.objects.filter(uri='/sensors/light', host__network__hostname='cooja@pyot')\n",
      "rout = Resource.objects.filter(uri='/actuator')[0]\n",
      "print rin, rout\n",
      "\n",
      "tresTask = TResTask(TresPf=t1, inputS=rin, output=rout, period=10)\n",
      "print tresTask\n",
      "\n",
      "\n",
      "r = Resource.objects.get(uri='/tasks')\n",
      "print r.host, '    is a t-res node'\n",
      "tresTask.deploy(r)\n",
      "#tresTask.emulate(120)\n"
     ],
     "language": "python",
     "metadata": {},
     "outputs": []
    },
    {
     "cell_type": "heading",
     "level": 3,
     "metadata": {},
     "source": [
      "Start Tres Task"
     ]
    },
    {
     "cell_type": "code",
     "collapsed": false,
     "input": [
      "r = tresTask.start()\n",
      "print r"
     ],
     "language": "python",
     "metadata": {},
     "outputs": []
    },
    {
     "cell_type": "heading",
     "level": 3,
     "metadata": {},
     "source": [
      "Get the last output"
     ]
    },
    {
     "cell_type": "code",
     "collapsed": false,
     "input": [
      "lo = tresTask.getLastOutput()\n",
      "r = lo.GET()\n",
      "print r"
     ],
     "language": "python",
     "metadata": {},
     "outputs": []
    },
    {
     "cell_type": "heading",
     "level": 3,
     "metadata": {},
     "source": [
      "Check the content of *is* and *od*"
     ]
    },
    {
     "cell_type": "code",
     "collapsed": false,
     "input": [
      "Is = tresTask.getInputSource()\n",
      "r = Is.GET()\n",
      "print r\n",
      "\n",
      "Od = tresTask.getOutputDestination()\n",
      "r = Od.GET()\n",
      "print r"
     ],
     "language": "python",
     "metadata": {},
     "outputs": []
    },
    {
     "cell_type": "heading",
     "level": 3,
     "metadata": {},
     "source": [
      "Start Tres Task"
     ]
    },
    {
     "cell_type": "code",
     "collapsed": false,
     "input": [
      "r = tresTask.stop()\n",
      "print r"
     ],
     "language": "python",
     "metadata": {},
     "outputs": []
    },
    {
     "cell_type": "heading",
     "level": 3,
     "metadata": {},
     "source": [
      "Uninstall the task"
     ]
    },
    {
     "cell_type": "code",
     "collapsed": false,
     "input": [
      "r = tresTask.uninstall()\n",
      "print r"
     ],
     "language": "python",
     "metadata": {},
     "outputs": []
    }
   ],
   "metadata": {}
  }
 ]
}