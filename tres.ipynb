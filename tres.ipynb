{
 "metadata": {
  "name": "",
  "signature": "sha256:960edcb2efd502d62d53dd520abe643afe322b87286ba0be230d299409aac906"
 },
 "nbformat": 3,
 "nbformat_minor": 0,
 "worksheets": [
  {
   "cells": [
    {
     "cell_type": "heading",
     "level": 1,
     "metadata": {},
     "source": [
      "T-Res API demo"
     ]
    },
    {
     "cell_type": "heading",
     "level": 3,
     "metadata": {},
     "source": [
      "Create processing function"
     ]
    },
    {
     "cell_type": "code",
     "collapsed": false,
     "input": [
      "from pyot.models import *\n",
      "from pyot.tres.tresApp import *"
     ],
     "language": "python",
     "metadata": {},
     "outputs": [],
     "prompt_number": 14
    },
    {
     "cell_type": "code",
     "collapsed": false,
     "input": [
      "halve = \"\"\"\n",
      "from tres_pymite import *\n",
      "i = getInputList()\n",
      "print \"list:\",\n",
      "print len(i), i\n",
      "if len(i) != 0:\n",
      "  a = sum(i) / len(i)\n",
      "  setOutput(a)\n",
      "  print a\n",
      "\"\"\"\n",
      "t1 = TResPF.fromSource(halve, 'mmm')\n",
      "\n",
      "rin = Resource.objects.filter(uri='/light', host__network__hostname='cooja@pyot')\n",
      "rout = Resource.objects.filter(uri='/actuators/leds', host__active=True)\n",
      "print rin, rout\n",
      "\n",
      "tresTask = TResTask(TresPf=t1, inputS=rin, output=rout, period=10)\n",
      "print tresTask\n",
      "\n",
      "\n",
      "r = Resource.objects.get(uri='/tasks')\n",
      "print r.host, '    is a t-res node'\n",
      "resp = tresTask.deploy(r)\n",
      "print resp\n",
      "#tresTask.emulate(120)\n"
     ],
     "language": "python",
     "metadata": {},
     "outputs": [
      {
       "output_type": "stream",
       "stream": "stdout",
       "text": [
        "Validating /media/andrea/ssd1/pyot_18/pyot/pyot/media/scripts/mmm.py ...\n",
        "[<Resource: bbbb::200:0:0:4 - /light>, <Resource: bbbb::200:0:0:3 - /light>] [<Resource: bbbb::200:0:0:4 - /actuators/leds>, <Resource: bbbb::200:0:0:3 - /actuators/leds>]\n",
        "Pf=mmm, inputs=[<Resource: bbbb::200:0:0:4 - /light>, <Resource: bbbb::200:0:0:3 - /light>], output=[<Resource: bbbb::200:0:0:4 - /actuators/leds>, <Resource: bbbb::200:0:0:3 - /actuators/leds>]"
       ]
      },
      {
       "output_type": "stream",
       "stream": "stdout",
       "text": [
        "\n",
        "bbbb::200:0:0:2     is a t-res node\n",
        "downloaded"
       ]
      },
      {
       "output_type": "stream",
       "stream": "stdout",
       "text": [
        "\n",
        "created obbbb"
       ]
      },
      {
       "output_type": "stream",
       "stream": "stdout",
       "text": [
        "\n",
        "first put result = 2.01"
       ]
      },
      {
       "output_type": "stream",
       "stream": "stdout",
       "text": [
        "\n",
        "PF put result = 2.04"
       ]
      },
      {
       "output_type": "stream",
       "stream": "stdout",
       "text": [
        "\n",
        "OD put result = 2.04 coap://[bbbb::200:0:0:4]/actuators/leds"
       ]
      },
      {
       "output_type": "stream",
       "stream": "stdout",
       "text": [
        "\n",
        "OD put result = 2.04 coap://[bbbb::200:0:0:3]/actuators/leds"
       ]
      },
      {
       "output_type": "stream",
       "stream": "stdout",
       "text": [
        "\n",
        "IS put result = 2.04 coap://[bbbb::200:0:0:4]/light"
       ]
      },
      {
       "output_type": "stream",
       "stream": "stdout",
       "text": [
        "\n",
        "IS put result = 2.04 coap://[bbbb::200:0:0:3]/light"
       ]
      },
      {
       "output_type": "stream",
       "stream": "stdout",
       "text": [
        "\n",
        "1 - Tres Task Pf=mmm, inputs=[<Resource: bbbb::200:0:0:4 - /light>, <Resource: bbbb::200:0:0:3 - /light>], output=[<Resource: bbbb::200:0:0:4 - /actuators/leds>, <Resource: bbbb::200:0:0:3 - /actuators/leds>] Installed\n"
       ]
      }
     ],
     "prompt_number": 15
    },
    {
     "cell_type": "heading",
     "level": 3,
     "metadata": {},
     "source": [
      "Start Tres Task"
     ]
    },
    {
     "cell_type": "code",
     "collapsed": false,
     "input": [
      "r = tresTask.start()\n",
      "print r"
     ],
     "language": "python",
     "metadata": {},
     "outputs": [
      {
       "output_type": "stream",
       "stream": "stdout",
       "text": [
        "bbbb::200:0:0:2 - /tasks Task now running 2.05\n",
        "2.05 - Task now running\n"
       ]
      }
     ],
     "prompt_number": 16
    },
    {
     "cell_type": "heading",
     "level": 3,
     "metadata": {},
     "source": [
      "Get the last output"
     ]
    },
    {
     "cell_type": "code",
     "collapsed": false,
     "input": [
      "lo = tresTask.getLastOutput()\n",
      "r = lo.GET()\n",
      "print r"
     ],
     "language": "python",
     "metadata": {},
     "outputs": []
    },
    {
     "cell_type": "heading",
     "level": 3,
     "metadata": {},
     "source": [
      "Check the content of *is* and *od*"
     ]
    },
    {
     "cell_type": "code",
     "collapsed": false,
     "input": [
      "Is = tresTask.getInputSource()\n",
      "r = Is.GET()\n",
      "print r\n",
      "\n",
      "Od = tresTask.getOutputDestination()\n",
      "r = Od.GET()\n",
      "print r"
     ],
     "language": "python",
     "metadata": {},
     "outputs": []
    },
    {
     "cell_type": "heading",
     "level": 3,
     "metadata": {},
     "source": [
      "Start Tres Task"
     ]
    },
    {
     "cell_type": "code",
     "collapsed": false,
     "input": [
      "r = tresTask.stop()\n",
      "print r"
     ],
     "language": "python",
     "metadata": {},
     "outputs": [
      {
       "output_type": "stream",
       "stream": "stdout",
       "text": [
        "bbbb::200:0:0:2 - /tasks Task now halted 2.05\n",
        "2.05 - Task now halted\n"
       ]
      }
     ],
     "prompt_number": 7
    },
    {
     "cell_type": "heading",
     "level": 3,
     "metadata": {},
     "source": [
      "Uninstall the task"
     ]
    },
    {
     "cell_type": "code",
     "collapsed": false,
     "input": [
      "r = tresTask.uninstall()\n",
      "print r"
     ],
     "language": "python",
     "metadata": {},
     "outputs": [
      {
       "output_type": "stream",
       "stream": "stdout",
       "text": [
        "bbbb::200:0:0:2 - /tasks Task now halted 2.05\n",
        "1 - Task mmm uninstalled"
       ]
      },
      {
       "output_type": "stream",
       "stream": "stdout",
       "text": [
        "\n"
       ]
      }
     ],
     "prompt_number": 13
    },
    {
     "cell_type": "code",
     "collapsed": false,
     "input": [],
     "language": "python",
     "metadata": {},
     "outputs": []
    }
   ],
   "metadata": {}
  }
 ]
}