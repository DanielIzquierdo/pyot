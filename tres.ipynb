{
 "metadata": {
  "name": ""
 },
 "nbformat": 3,
 "nbformat_minor": 0,
 "worksheets": [
  {
   "cells": [
    {
     "cell_type": "heading",
     "level": 1,
     "metadata": {},
     "source": [
      "T-Res API demo"
     ]
    },
    {
     "cell_type": "heading",
     "level": 3,
     "metadata": {},
     "source": [
      "Create processing function"
     ]
    },
    {
     "cell_type": "code",
     "collapsed": false,
     "input": [
      "from pyot.models import *\n",
      "from pyot.tres.tresApp import *"
     ],
     "language": "python",
     "metadata": {},
     "outputs": [],
     "prompt_number": 1
    },
    {
     "cell_type": "code",
     "collapsed": false,
     "input": [
      "halve = \"\"\"\n",
      "from tres_pymite import *\n",
      "print \"Halve:\",\n",
      "i = getIntInput()\n",
      "print i/2.\n",
      "setOutput(i/2.)\n",
      "\"\"\"\n",
      "\n",
      "t1 = TResPF.fromSource(halve, 'halve')\n",
      "\n",
      "rin = Resource.objects.filter(uri='/test/push', host__network__hostname='cooja@pyot')\n",
      "rout = Resource.objects.filter(uri='/actuator')[0]\n",
      "print rin, rout\n",
      "\n",
      "tresTask = TResTask(TresPf=t1, inputS=rin, output=rout)\n",
      "print tresTask\n",
      "\n",
      "\n",
      "r = Resource.objects.get(uri='/tasks')\n",
      "print r.host, '    is a t-res node'\n",
      "tresTask.deploy(r)\n"
     ],
     "language": "python",
     "metadata": {},
     "outputs": [
      {
       "output_type": "stream",
       "stream": "stdout",
       "text": [
        "Validating /home/andrea/pyot/pyot/media/scripts/halve.py ...\n",
        "[<Resource: bbbb::200:0:0:4 - /test/push>, <Resource: bbbb::200:0:0:3 - /test/push>]"
       ]
      },
      {
       "output_type": "stream",
       "stream": "stdout",
       "text": [
        " bbbb::200:0:0:2 - /actuator\n",
        "Pf=halve.py, inputs=[<Resource: bbbb::200:0:0:4 - /test/push>, <Resource: bbbb::200:0:0:3 - /test/push>], output=bbbb::200:0:0:2 - /actuator"
       ]
      },
      {
       "output_type": "stream",
       "stream": "stdout",
       "text": [
        "\n",
        "bbbb::200:0:0:2     is a t-res node\n",
        "first put result = 2.01"
       ]
      },
      {
       "output_type": "stream",
       "stream": "stdout",
       "text": [
        "\n",
        "PF put result = 2.04"
       ]
      },
      {
       "output_type": "stream",
       "stream": "stdout",
       "text": [
        "\n",
        "OD put result = 2.04"
       ]
      },
      {
       "output_type": "stream",
       "stream": "stdout",
       "text": [
        "\n",
        "IS put result = 2.04"
       ]
      },
      {
       "output_type": "stream",
       "stream": "stdout",
       "text": [
        "\n",
        "IS put result = 2.04"
       ]
      },
      {
       "output_type": "stream",
       "stream": "stdout",
       "text": [
        "\n"
       ]
      },
      {
       "metadata": {},
       "output_type": "pyout",
       "prompt_number": 2,
       "text": [
        "'Tres Task Pf=halve.py, inputs=[<Resource: bbbb::200:0:0:4 - /test/push>, <Resource: bbbb::200:0:0:3 - /test/push>], output=bbbb::200:0:0:2 - /actuator Installed'"
       ]
      }
     ],
     "prompt_number": 2
    },
    {
     "cell_type": "heading",
     "level": 3,
     "metadata": {},
     "source": [
      "Start Tres Task"
     ]
    },
    {
     "cell_type": "code",
     "collapsed": false,
     "input": [
      "r = tresTask.start()\n",
      "print r"
     ],
     "language": "python",
     "metadata": {},
     "outputs": [
      {
       "output_type": "stream",
       "stream": "stdout",
       "text": [
        "Task now running 2.05\n",
        "2.05 - Task now running"
       ]
      },
      {
       "output_type": "stream",
       "stream": "stdout",
       "text": [
        "\n"
       ]
      }
     ],
     "prompt_number": 3
    },
    {
     "cell_type": "heading",
     "level": 3,
     "metadata": {},
     "source": [
      "Get the last output"
     ]
    },
    {
     "cell_type": "code",
     "collapsed": false,
     "input": [
      "lo = tresTask.getLastOutput()\n",
      "r = lo.GET()\n",
      "print r"
     ],
     "language": "python",
     "metadata": {},
     "outputs": [
      {
       "output_type": "stream",
       "stream": "stdout",
       "text": [
        "2.05 - 161.0\n"
       ]
      }
     ],
     "prompt_number": 4
    },
    {
     "cell_type": "heading",
     "level": 3,
     "metadata": {},
     "source": [
      "Check the content of *is* and *od*"
     ]
    },
    {
     "cell_type": "code",
     "collapsed": false,
     "input": [
      "Is = tresTask.getInputSource()\n",
      "r = Is.GET()\n",
      "print r\n",
      "\n",
      "Od = tresTask.getOutputDestination()\n",
      "r = Od.GET()\n",
      "print r"
     ],
     "language": "python",
     "metadata": {},
     "outputs": [
      {
       "output_type": "stream",
       "stream": "stdout",
       "text": [
        "2.05 - <coap://[bbbb::200:0:0:4]/test/push>,<coap://[bbbb::200:0:0:3]/test/push>\n",
        "2.05 - <coap://[bbbb::200:0:0:2]/actuator>"
       ]
      },
      {
       "output_type": "stream",
       "stream": "stdout",
       "text": [
        "\n"
       ]
      }
     ],
     "prompt_number": 5
    },
    {
     "cell_type": "heading",
     "level": 3,
     "metadata": {},
     "source": [
      "Start Tres Task"
     ]
    },
    {
     "cell_type": "code",
     "collapsed": false,
     "input": [
      "r = tresTask.stop()\n",
      "print r"
     ],
     "language": "python",
     "metadata": {},
     "outputs": [
      {
       "output_type": "stream",
       "stream": "stdout",
       "text": [
        "Task now halted 2.05\n",
        "2.05 - Task now halted"
       ]
      },
      {
       "output_type": "stream",
       "stream": "stdout",
       "text": [
        "\n"
       ]
      }
     ],
     "prompt_number": 6
    },
    {
     "cell_type": "heading",
     "level": 3,
     "metadata": {},
     "source": [
      "Uninstall the task"
     ]
    },
    {
     "cell_type": "code",
     "collapsed": false,
     "input": [
      "r = tresTask.uninstall()\n",
      "print r"
     ],
     "language": "python",
     "metadata": {},
     "outputs": [
      {
       "output_type": "stream",
       "stream": "stdout",
       "text": [
        "Task halve.py uninstalled\n"
       ]
      }
     ],
     "prompt_number": 7
    },
    {
     "cell_type": "code",
     "collapsed": false,
     "input": [],
     "language": "python",
     "metadata": {},
     "outputs": []
    }
   ],
   "metadata": {}
  }
 ]
}