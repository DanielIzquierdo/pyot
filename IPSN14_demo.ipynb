{
 "metadata": {
  "name": ""
 },
 "nbformat": 3,
 "nbformat_minor": 0,
 "worksheets": [
  {
   "cells": [
    {
     "cell_type": "heading",
     "level": 1,
     "metadata": {},
     "source": [
      "PyoT Demo - IPSN '14"
     ]
    },
    {
     "cell_type": "heading",
     "level": 3,
     "metadata": {},
     "source": [
      "Setup the environment"
     ]
    },
    {
     "cell_type": "code",
     "collapsed": false,
     "input": [
      "%matplotlib inline\n",
      "import matplotlib.pyplot as plt\n",
      "from networkx import *\n",
      "from pyot.rplApp import *\n",
      "from pyot.models import *\n",
      "from IPython.display import Image, display\n",
      "from networkx.algorithms import *\n",
      "import numpy as np\n",
      "import os\n",
      "from pyot.models.tres import *\n",
      "from pyot.tres.tresApp import *\n",
      "\n",
      "def pngShow(path):\n",
      "    i = Image(filename=path)\n",
      "    display(i)"
     ],
     "language": "python",
     "metadata": {},
     "outputs": []
    },
    {
     "cell_type": "heading",
     "level": 3,
     "metadata": {},
     "source": [
      "Dynamic RPL DAG visualizazion"
     ]
    },
    {
     "cell_type": "code",
     "collapsed": false,
     "input": [
      "n = Network.objects.get(hostname='celery@rasp')\n",
      "\n",
      "g = DAGupdate(n)\n",
      "pngShow(g.getPNG())"
     ],
     "language": "python",
     "metadata": {},
     "outputs": [
      {
       "output_type": "stream",
       "stream": "stdout",
       "text": [
        "Searching parents for resource:  aaaa::212:7400:eda:98f0 - /rplinfo/parents\n",
        "{\"eui\":\"021274000bd878b2\",\"pref\":true,\"etx\":128}"
       ]
      },
      {
       "output_type": "stream",
       "stream": "stdout",
       "text": [
        "\n",
        "Searching parents for resource:  aaaa::212:7400:eda:e14a - /rplinfo/parents\n",
        "{\"eui\":\"021274000bd878b2\",\"pref\":true,\"etx\":128}"
       ]
      },
      {
       "output_type": "stream",
       "stream": "stdout",
       "text": [
        "\n",
        "Searching parents for resource:  aaaa::212:7400:bd8:80f5 - /rplinfo/parents\n",
        "{\"eui\":\"021274000bd878b2\",\"pref\":true,\"etx\":128}"
       ]
      },
      {
       "output_type": "stream",
       "stream": "stdout",
       "text": [
        "\n",
        "Searching parents for resource:  aaaa::212:7400:eda:80cb - /rplinfo/parents\n",
        "{\"eui\":\"021274000bd878b2\",\"pref\":true,\"etx\":128}"
       ]
      },
      {
       "output_type": "stream",
       "stream": "stdout",
       "text": [
        "\n"
       ]
      },
      {
       "metadata": {},
       "output_type": "display_data",
       "png": "[encoded data removed]",
       "text": [
        "<IPython.core.display.Image at 0xa95422c>"
       ]
      }
     ],
     "prompt_number": 125
    },
    {
     "cell_type": "code",
     "collapsed": false,
     "input": [
      "n = Network.objects.get(hostname='celery@tres')\n",
      "\n",
      "g = DAGupdate(n)\n",
      "pngShow(g.getPNG())"
     ],
     "language": "python",
     "metadata": {},
     "outputs": []
    },
    {
     "cell_type": "heading",
     "level": 3,
     "metadata": {},
     "source": [
      "Toggle actuators on every node - Synchronous semantic"
     ]
    },
    {
     "cell_type": "code",
     "collapsed": false,
     "input": [
      "actuators = Resource.objects.filter(uri='/actuators/toggle', host__active=True, host__kqueue__hostname='celery@rasp')\n",
      "\n",
      "\n",
      "for i in range(4):\n",
      "    for act in actuators:\n",
      "        act.POST(query=\"mode=off\")\n",
      "        #act.POST()\n",
      "        print 'toggling res: ' + str(act) \n",
      "\n",
      "    for act in actuators:\n",
      "        act.POST(query=\"mode=on\")\n",
      "        #act.POST()\n",
      "        print 'toggling res: ' + str(act) \n",
      "        \n",
      "print 'Done'"
     ],
     "language": "python",
     "metadata": {},
     "outputs": []
    },
    {
     "cell_type": "heading",
     "level": 3,
     "metadata": {},
     "source": [
      "Toggle actuators on every node - Asynchronous semantic"
     ]
    },
    {
     "cell_type": "code",
     "collapsed": false,
     "input": [
      "actuators = Resource.objects.filter(uri='/actuators/toggle', host__active=True, host__kqueue__hostname='celery@rasp')\n",
      "\n",
      "for i in range(1):\n",
      "    tasks = []\n",
      "    for act in actuators:\n",
      "        tasks.append(act.asyncPOST(query=\"mode=on\"))\n",
      "        print 'toggling res: ' + str(act) \n",
      "    for task in tasks:\n",
      "        task.wait()\n",
      "        print task.result\n",
      "    print 'Done'\n",
      "\n",
      "    tasks = []\n",
      "    for act in actuators:\n",
      "        tasks.append(act.asyncPOST(query=\"mode=off\"))\n",
      "        print 'toggling res: ' + str(act) \n",
      "    for task in tasks:\n",
      "        task.wait()\n",
      "        print task.result\n",
      "    print 'Done' \n",
      "    "
     ],
     "language": "python",
     "metadata": {},
     "outputs": [
      {
       "output_type": "stream",
       "stream": "stdout",
       "text": [
        "toggling res: aaaa::212:7400:eda:98f0 - /actuators/toggle\n",
        "toggling res: aaaa::212:7400:eda:e14a - /actuators/toggle\n",
        "toggling res: aaaa::212:7400:bd8:80f5 - /actuators/toggle\n",
        "toggling res: aaaa::212:7400:eda:80cb - /actuators/toggle\n",
        "2.05 - ok"
       ]
      },
      {
       "output_type": "stream",
       "stream": "stdout",
       "text": [
        "\n",
        "2.05 - ok\n",
        "2.05 - ok\n",
        "2.05 - ok\n",
        "Done\n",
        "toggling res: aaaa::212:7400:eda:98f0 - /actuators/toggle\n",
        "toggling res: aaaa::212:7400:eda:e14a - /actuators/toggle\n",
        "toggling res: aaaa::212:7400:bd8:80f5 - /actuators/toggle\n",
        "toggling res: aaaa::212:7400:eda:80cb - /actuators/toggle\n",
        "2.05 - ok"
       ]
      },
      {
       "output_type": "stream",
       "stream": "stdout",
       "text": [
        "\n",
        "2.05 - ok\n",
        "2.05 - ok\n",
        "2.05 - ok\n",
        "Done\n"
       ]
      }
     ],
     "prompt_number": 127
    },
    {
     "cell_type": "heading",
     "level": 3,
     "metadata": {},
     "source": [
      "Retrieve and display light values"
     ]
    },
    {
     "cell_type": "code",
     "collapsed": false,
     "input": [
      "r = Resource.objects.filter(uri='/sensors/light', host__active=True)\n",
      "print r\n",
      "y = []\n",
      "y2 = []\n",
      "for light in r:\n",
      "    resp= light.GET()\n",
      "    v = resp.content\n",
      "    print light, v\n",
      "    y.append(int(v.split(';')[0]))\n",
      "    y2.append(int(v.split(';')[1]))\n",
      "\n",
      "#plot everything\n",
      "x = np.arange(len(r))\n",
      "fig, axes = plt.subplots(nrows=1, ncols=2)\n",
      "axes[0].bar(x, y, align=\"center\", width=0.5, alpha=0.5)\n",
      "axes[0].set_xlabel('Nodes')\n",
      "axes[0].set_ylabel('lux')\n",
      "axes[0].set_ylim(0, 400)\n",
      "axes[0].set_title('Light sensor value 1')\n",
      "\n",
      "axes[1].bar(x, y2, align=\"center\", width=0.5, alpha=0.5)\n",
      "axes[1].set_xlabel('Nodes')\n",
      "axes[1].set_ylabel('lux')\n",
      "axes[1].set_ylim(0, 400)\n",
      "axes[1].set_title('Light sensor value 2')\n",
      "\n",
      "fig.tight_layout()"
     ],
     "language": "python",
     "metadata": {},
     "outputs": [
      {
       "output_type": "stream",
       "stream": "stdout",
       "text": [
        "[<Resource: aaaa::212:7400:eda:98f0 - /sensors/light>, <Resource: aaaa::212:7400:eda:e14a - /sensors/light>, <Resource: aaaa::212:7400:bd8:80f5 - /sensors/light>, <Resource: aaaa::212:7400:eda:80cb - /sensors/light>]\n",
        "aaaa::212:7400:eda:98f0 - /sensors/light"
       ]
      },
      {
       "output_type": "stream",
       "stream": "stdout",
       "text": [
        " 114;113\n",
        "aaaa::212:7400:eda:e14a - /sensors/light"
       ]
      },
      {
       "output_type": "stream",
       "stream": "stdout",
       "text": [
        " 143;133\n",
        "aaaa::212:7400:bd8:80f5 - /sensors/light"
       ]
      },
      {
       "output_type": "stream",
       "stream": "stdout",
       "text": [
        " 133;134\n",
        "aaaa::212:7400:eda:80cb - /sensors/light"
       ]
      },
      {
       "output_type": "stream",
       "stream": "stdout",
       "text": [
        " 129;117\n"
       ]
      },
      {
       "metadata": {},
       "output_type": "display_data",
       "png": "[encoded data removed]",
       "text": [
        "<matplotlib.figure.Figure at 0xa5e496c>"
       ]
      }
     ],
     "prompt_number": 124
    },
    {
     "cell_type": "heading",
     "level": 1,
     "metadata": {},
     "source": [
      "In-network processing with T-Res"
     ]
    },
    {
     "cell_type": "heading",
     "level": 3,
     "metadata": {},
     "source": [
      "Define a new processing function and install it on a T-Res Node"
     ]
    },
    {
     "cell_type": "code",
     "collapsed": false,
     "input": [
      "halve = \"\"\"\n",
      "from tres_pymite import *\n",
      "print \"Halve:\",\n",
      "i = getIntInput()\n",
      "print i/2.\n",
      "setOutput(i/2.)\n",
      "\"\"\"\n",
      "\n",
      "t1 = TResPF.fromSource(halve, 'halve')\n",
      "\n",
      "rin = Resource.objects.filter(uri='/test/push', host__active=True, host__kqueue__hostname='celery@tres')\n",
      "rout = Resource.objects.filter(uri='/actuator')[0]\n",
      "print rin, rout\n",
      "\n",
      "tresTask = TResTask(TresPf=t1, inputS=rin, output=rout)\n",
      "print tresTask\n",
      "\n",
      "\n",
      "r = Resource.objects.get(uri='/tasks')\n",
      "print r.host, '    is a t-res node'\n",
      "tresTask.deploy(r)"
     ],
     "language": "python",
     "metadata": {},
     "outputs": [
      {
       "output_type": "stream",
       "stream": "stdout",
       "text": [
        "Validating /home/noes/pyot/pyotapp/media/scripts/halve.py ...\n",
        "[<Resource: bbbb::200:0:0:4 - /test/push>, <Resource: bbbb::200:0:0:3 - /test/push>] bbbb::200:0:0:2 - /actuator\n",
        "Pf=halve.py, inputs=[<Resource: bbbb::200:0:0:4 - /test/push>, <Resource: bbbb::200:0:0:3 - /test/push>], output=bbbb::200:0:0:2 - /actuator"
       ]
      },
      {
       "output_type": "stream",
       "stream": "stdout",
       "text": [
        "\n",
        "bbbb::200:0:0:2 Network: bbbb::/64 - celery@tres     is a t-res node\n"
       ]
      },
      {
       "metadata": {},
       "output_type": "pyout",
       "prompt_number": 128,
       "text": [
        "'Tres Task Pf=halve.py, inputs=[<Resource: bbbb::200:0:0:4 - /test/push>, <Resource: bbbb::200:0:0:3 - /test/push>], output=bbbb::200:0:0:2 - /actuator Installed'"
       ]
      }
     ],
     "prompt_number": 128
    },
    {
     "cell_type": "heading",
     "level": 3,
     "metadata": {},
     "source": [
      "Activate the task"
     ]
    },
    {
     "cell_type": "code",
     "collapsed": false,
     "input": [
      "tresTask.start()"
     ],
     "language": "python",
     "metadata": {},
     "outputs": [
      {
       "output_type": "stream",
       "stream": "stdout",
       "text": [
        "Task now running 2.05\n"
       ]
      },
      {
       "metadata": {},
       "output_type": "pyout",
       "prompt_number": 129,
       "text": [
        "<pyot.models.rest.Response at 0xa4728cc>"
       ]
      }
     ],
     "prompt_number": 129
    },
    {
     "cell_type": "heading",
     "level": 3,
     "metadata": {},
     "source": [
      "Get the last output from the T-Res node"
     ]
    },
    {
     "cell_type": "code",
     "collapsed": false,
     "input": [
      "lo = tresTask.getLastOutput()\n",
      "print lo.GET()"
     ],
     "language": "python",
     "metadata": {},
     "outputs": [
      {
       "output_type": "stream",
       "stream": "stdout",
       "text": [
        "2.05 - 211.0\n"
       ]
      }
     ],
     "prompt_number": 132
    },
    {
     "cell_type": "heading",
     "level": 3,
     "metadata": {},
     "source": [
      "Stop the task"
     ]
    },
    {
     "cell_type": "code",
     "collapsed": false,
     "input": [
      "tresTask.stop()"
     ],
     "language": "python",
     "metadata": {},
     "outputs": [
      {
       "output_type": "stream",
       "stream": "stdout",
       "text": [
        "Task now halted 2.05\n"
       ]
      },
      {
       "metadata": {},
       "output_type": "pyout",
       "prompt_number": 133,
       "text": [
        "<pyot.models.rest.Response at 0xa8143ac>"
       ]
      }
     ],
     "prompt_number": 133
    },
    {
     "cell_type": "heading",
     "level": 3,
     "metadata": {},
     "source": [
      "Uninstall the task"
     ]
    },
    {
     "cell_type": "code",
     "collapsed": false,
     "input": [
      "tresTask.uninstall()"
     ],
     "language": "python",
     "metadata": {},
     "outputs": [
      {
       "metadata": {},
       "output_type": "pyout",
       "prompt_number": 134,
       "text": [
        "u'Task halve.py uninstalled'"
       ]
      }
     ],
     "prompt_number": 134
    },
    {
     "cell_type": "code",
     "collapsed": false,
     "input": [],
     "language": "python",
     "metadata": {},
     "outputs": []
    }
   ],
   "metadata": {}
  }
 ]
}