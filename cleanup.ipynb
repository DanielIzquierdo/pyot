{
 "metadata": {
  "name": "",
  "signature": "sha256:ebfc715b138d3953667ce1832e4353aae0c2d77f0c4170322a70156515b302b8"
 },
 "nbformat": 3,
 "nbformat_minor": 0,
 "worksheets": [
  {
   "cells": [
    {
     "cell_type": "code",
     "collapsed": false,
     "input": [
      "from pyot.models import *\n",
      "\n",
      "SubRes.objects.all().delete()\n",
      "VsT.objects.all().delete()\n",
      "VsI.objects.all().delete()\n",
      "VsPeriodicT.objects.all().delete()\n",
      "VsPeriodicI.objects.all().delete()\n",
      "VaT.objects.all().delete()\n",
      "VaI.objects.all().delete()\n"
     ],
     "language": "python",
     "metadata": {},
     "outputs": [],
     "prompt_number": 1
    },
    {
     "cell_type": "code",
     "collapsed": false,
     "input": [],
     "language": "python",
     "metadata": {},
     "outputs": []
    }
   ],
   "metadata": {}
  }
 ]
}