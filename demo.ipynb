{
 "metadata": {
  "name": "",
  "signature": "sha256:3063b61dd976f96895d939a5e8a14bc56bdb10ea08ff2ee8336f7182aa46b476"
 },
 "nbformat": 3,
 "nbformat_minor": 0,
 "worksheets": [
  {
   "cells": [
    {
     "cell_type": "heading",
     "level": 1,
     "metadata": {},
     "source": [
      "PyoT Demo"
     ]
    },
    {
     "cell_type": "heading",
     "level": 3,
     "metadata": {},
     "source": [
      "Setup the environment"
     ]
    },
    {
     "cell_type": "code",
     "collapsed": false,
     "input": [
      "%matplotlib inline\n",
      "import matplotlib.pyplot as plt\n",
      "from networkx import *\n",
      "from pyot.rplApp import *\n",
      "from pyot.models import *\n",
      "from IPython.display import Image, display\n",
      "from networkx.algorithms import *\n",
      "import numpy as np\n",
      "\n",
      "def pngShow(path):\n",
      "    i = Image(filename=path)\n",
      "    display(i)"
     ],
     "language": "python",
     "metadata": {},
     "outputs": []
    },
    {
     "cell_type": "heading",
     "level": 3,
     "metadata": {},
     "source": [
      "Toggle actuators on every node - Synchronous semantic"
     ]
    },
    {
     "cell_type": "code",
     "collapsed": false,
     "input": [
      "actuators = Resource.objects.filter(uri='/actuators/toggle', host__active=True)\n",
      "\n",
      "for i in range(2):\n",
      "    print 'run', i\n",
      "    for act in actuators:\n",
      "        act.POST(query=\"mode=off\")\n",
      "        print 'toggling res: ' + str(act) \n",
      "\n",
      "    for act in actuators:\n",
      "        act.POST(query=\"mode=on\")\n",
      "        print 'toggling res: ' + str(act) \n",
      "        \n",
      "print 'Done'"
     ],
     "language": "python",
     "metadata": {},
     "outputs": []
    },
    {
     "cell_type": "heading",
     "level": 3,
     "metadata": {},
     "source": [
      "Toggle actuators on every node - Asynchronous semantic"
     ]
    },
    {
     "cell_type": "code",
     "collapsed": false,
     "input": [
      "actuators = Resource.objects.filter(uri='/actuators/toggle', host__active=True)\n",
      "\n",
      "for i in range(2):\n",
      "    tasks = []\n",
      "    for act in actuators:\n",
      "        tasks.append(act.asyncPOST(query=\"mode=on\"))\n",
      "        print 'toggling res: ' + str(act) \n",
      "    for task in tasks:\n",
      "        task.wait()\n",
      "        print task.result\n",
      "    print 'Done'\n",
      "\n",
      "    tasks = []\n",
      "    for act in actuators:\n",
      "        tasks.append(act.asyncPOST(query=\"mode=off\"))\n",
      "        print 'toggling res: ' + str(act) \n",
      "    for task in tasks:\n",
      "        task.wait()\n",
      "        print task.result\n",
      "    print 'Done' "
     ],
     "language": "python",
     "metadata": {},
     "outputs": []
    },
    {
     "cell_type": "heading",
     "level": 3,
     "metadata": {},
     "source": [
      "Retrieve and display light values"
     ]
    },
    {
     "cell_type": "code",
     "collapsed": false,
     "input": [
      "r = Resource.objects.filter(uri='/sensors/light', host__active=True)\n",
      "print r\n",
      "y = []\n",
      "y2 = []\n",
      "for light in r:\n",
      "    resp= light.GET()\n",
      "    v = resp.content\n",
      "    print light, v\n",
      "    y.append(int(v.split(';')[0]))\n",
      "    y2.append(int(v.split(';')[1]))\n",
      "\n",
      "#plot everything\n",
      "x = np.arange(len(r))\n",
      "fig, axes = plt.subplots(nrows=1, ncols=2)\n",
      "axes[0].bar(x, y, align=\"center\", width=0.5, alpha=0.5)\n",
      "axes[0].set_xlabel('Nodes')\n",
      "axes[0].set_ylabel('lux')\n",
      "axes[0].set_ylim(0, 300)\n",
      "axes[0].set_title('Light sensor value 1')\n",
      "\n",
      "axes[1].bar(x, y2, align=\"center\", width=0.5, alpha=0.5)\n",
      "axes[1].set_xlabel('Nodes')\n",
      "axes[1].set_ylabel('lux')\n",
      "axes[1].set_ylim(0, 300)\n",
      "axes[1].set_title('Light sensor value 2')\n",
      "\n",
      "fig.tight_layout()"
     ],
     "language": "python",
     "metadata": {},
     "outputs": []
    },
    {
     "cell_type": "heading",
     "level": 3,
     "metadata": {},
     "source": [
      "Dynamic RPL DAG visualizazion"
     ]
    },
    {
     "cell_type": "code",
     "collapsed": false,
     "input": [
      "n = Network.objects.get(hostname='cooja@pyot')\n",
      "\n",
      "g = DAGupdate(n)\n",
      "pngShow(g.getPNG())"
     ],
     "language": "python",
     "metadata": {},
     "outputs": []
    },
    {
     "cell_type": "code",
     "collapsed": false,
     "input": [],
     "language": "python",
     "metadata": {},
     "outputs": []
    }
   ],
   "metadata": {}
  }
 ]
}