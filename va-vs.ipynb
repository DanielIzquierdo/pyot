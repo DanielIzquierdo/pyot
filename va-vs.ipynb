{
 "metadata": {
  "name": "",
  "signature": "sha256:d4f2d2db1caf4c60858ae583ebec78cef46a7551648f8d1fee7214d9be40aa36"
 },
 "nbformat": 3,
 "nbformat_minor": 0,
 "worksheets": [
  {
   "cells": [
    {
     "cell_type": "heading",
     "level": 2,
     "metadata": {},
     "source": [
      "Virtual Sensors and Actuators and external control application"
     ]
    },
    {
     "cell_type": "heading",
     "level": 3,
     "metadata": {},
     "source": [
      "Create processing function"
     ]
    },
    {
     "cell_type": "code",
     "collapsed": false,
     "input": [
      "from pyot.models import *\n",
      "from pyot.tres.tresApp import *\n",
      "from pyot.vres.vresApp import *"
     ],
     "language": "python",
     "metadata": {},
     "outputs": []
    },
    {
     "cell_type": "heading",
     "level": 4,
     "metadata": {},
     "source": [
      "Templates Creation"
     ]
    },
    {
     "cell_type": "code",
     "collapsed": false,
     "input": [
      "#Virtual Sensor\n",
      "template = resource_template(title='light', uri='/sensors/light')\n",
      "per = VsPeriodicTemplate(input_template=template, name='templ')\n",
      "\n",
      "#Virtual Actuator\n",
      "template = resource_template(uri='/actuators/leds')\n",
      "act = VaTemplate(output_template=template, name='act')"
     ],
     "language": "python",
     "metadata": {},
     "outputs": []
    },
    {
     "cell_type": "heading",
     "level": 4,
     "metadata": {},
     "source": [
      "Instances creation"
     ]
    },
    {
     "cell_type": "code",
     "collapsed": false,
     "input": [
      "#Virtual Sensor\n",
      "hlTemplate = Resource.objects.get(title='templ')\n",
      "vsInstance = hlTemplate.POST('inst')\n",
      "\n",
      "#Virtual Actuator\n",
      "hlTemplate = Resource.objects.get(title='act')\n",
      "vaInstance = hlTemplate.POST('inst')"
     ],
     "language": "python",
     "metadata": {},
     "outputs": []
    },
    {
     "cell_type": "heading",
     "level": 4,
     "metadata": {},
     "source": [
      "Instance Configuration"
     ]
    },
    {
     "cell_type": "code",
     "collapsed": false,
     "input": [
      "cmd = \"\"\"\n",
      "i = getIntInput()\n",
      "print \"in:\", i\n",
      "od = getOdCount()\n",
      "print od\n",
      "setOutput(i/od)\n",
      "\"\"\"\n",
      "\n",
      "aggr = \"\"\"\n",
      "from tres_pymite import *\n",
      "i = getInputList()\n",
      "print \"list:\",\n",
      "print len(i), i\n",
      "if len(i) != 0:\n",
      "  a = sum(i) / len(i)\n",
      "  setOutput(a)\n",
      "  print a\n",
      "\"\"\"\n",
      "\n",
      "vsInstance.period.PUT(10)\n",
      "vsInstance.processing.PUT(aggr)\n",
      "vaInstance.processing.PUT(cmd)\n"
     ],
     "language": "python",
     "metadata": {},
     "outputs": []
    },
    {
     "cell_type": "code",
     "collapsed": false,
     "input": [
      "\n",
      "vsInstance.PUT('on') #activate the periodic monitoring"
     ],
     "language": "python",
     "metadata": {},
     "outputs": []
    },
    {
     "cell_type": "code",
     "collapsed": false,
     "input": [
      "print vsInstance.GET()"
     ],
     "language": "python",
     "metadata": {},
     "outputs": []
    },
    {
     "cell_type": "code",
     "collapsed": false,
     "input": [
      "import time\n",
      "\n",
      "def app():\n",
      "    try:\n",
      "        while(True):\n",
      "            time.sleep(10)\n",
      "            invalue = vsInstance.GET()\n",
      "            outvalue = int(invalue)*5\n",
      "            vaInstance.PUT(str(outvalue))\n",
      "    except KeyboardInterrupt:\n",
      "        pass"
     ],
     "language": "python",
     "metadata": {},
     "outputs": []
    },
    {
     "cell_type": "code",
     "collapsed": false,
     "input": [
      "app()"
     ],
     "language": "python",
     "metadata": {},
     "outputs": []
    },
    {
     "cell_type": "code",
     "collapsed": false,
     "input": [],
     "language": "python",
     "metadata": {},
     "outputs": []
    }
   ],
   "metadata": {}
  }
 ]
}