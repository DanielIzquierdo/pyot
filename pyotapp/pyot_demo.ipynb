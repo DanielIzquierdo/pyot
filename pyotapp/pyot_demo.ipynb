{
 "metadata": {
  "name": ""
 },
 "nbformat": 3,
 "nbformat_minor": 0,
 "worksheets": [
  {
   "cells": [
    {
     "cell_type": "heading",
     "level": 1,
     "metadata": {},
     "source": [
      "PyoT Macroprogramming Example"
     ]
    },
    {
     "cell_type": "heading",
     "level": 3,
     "metadata": {},
     "source": [
      "Setup Environment"
     ]
    },
    {
     "cell_type": "code",
     "collapsed": false,
     "input": [
      "%matplotlib inline\n",
      "from pylab import *\n",
      "import matplotlib.pyplot as plt\n",
      "import numpy as np"
     ],
     "language": "python",
     "metadata": {},
     "outputs": []
    },
    {
     "cell_type": "heading",
     "level": 3,
     "metadata": {},
     "source": [
      "Show all registered hosts"
     ]
    },
    {
     "cell_type": "code",
     "collapsed": false,
     "input": [
      "from pyot.models import *\n",
      "h = Host.objects.all()\n",
      "print h"
     ],
     "language": "python",
     "metadata": {},
     "outputs": []
    },
    {
     "cell_type": "heading",
     "level": 3,
     "metadata": {},
     "source": [
      "Get all light sensors and plot them"
     ]
    },
    {
     "cell_type": "code",
     "collapsed": false,
     "input": [
      "r = Resource.objects.filter(uri='/sensors/light', host__active=True)\n",
      "print r\n",
      "y = []\n",
      "y2 = []\n",
      "for light in r:\n",
      "    v = light.GET()\n",
      "    print light, v\n",
      "    y.append(int(v.split(';')[0]))\n",
      "    y2.append(int(v.split(';')[1]))\n",
      "\n",
      "#plot everything\n",
      "x = np.arange(len(r))\n",
      "fig, axes = plt.subplots(nrows=1, ncols=2)\n",
      "axes[0].bar(x, y, align=\"center\", width=0.5, alpha=0.5)\n",
      "axes[0].set_xlabel('Nodes')\n",
      "axes[0].set_ylabel('lux')\n",
      "axes[0].set_ylim(0, 200)\n",
      "axes[0].set_title('Light sensor value 1')\n",
      "\n",
      "axes[1].bar(x, y2, align=\"center\", width=0.5, alpha=0.5)\n",
      "axes[1].set_xlabel('Nodes')\n",
      "axes[1].set_ylabel('lux')\n",
      "axes[1].set_ylim(0, 200)\n",
      "axes[1].set_title('Light sensor value 2')\n",
      "\n",
      "fig.tight_layout()"
     ],
     "language": "python",
     "metadata": {},
     "outputs": [
      {
       "output_type": "stream",
       "stream": "stdout",
       "text": [
        "[<Resource: aaaa::212:7400:bd8:80f5 - /sensors/light>, <Resource: aaaa::212:7400:eda:98f0 - /sensors/light>, <Resource: aaaa::212:7400:eda:e14a - /sensors/light>, <Resource: aaaa::212:7400:bd8:7545 - /sensors/light>]\n",
        "aaaa::212:7400:bd8:80f5 - /sensors/light"
       ]
      },
      {
       "output_type": "stream",
       "stream": "stdout",
       "text": [
        " 118;126\n",
        "aaaa::212:7400:eda:98f0 - /sensors/light"
       ]
      },
      {
       "output_type": "stream",
       "stream": "stdout",
       "text": [
        " 93;105\n",
        "aaaa::212:7400:eda:e14a - /sensors/light"
       ]
      },
      {
       "output_type": "stream",
       "stream": "stdout",
       "text": [
        " 107;113\n",
        "aaaa::212:7400:bd8:7545 - /sensors/light"
       ]
      },
      {
       "output_type": "stream",
       "stream": "stdout",
       "text": [
        " 102;110\n"
       ]
      },
      {
       "metadata": {},
       "output_type": "display_data",
       "png": "[encoded data removed]",
       "text": [
        "<matplotlib.figure.Figure at 0xbc14bac>"
       ]
      }
     ],
     "prompt_number": 37
    },
    {
     "cell_type": "heading",
     "level": 3,
     "metadata": {},
     "source": [
      "Select all active actuators in the network and switch them (parallel execution)."
     ]
    },
    {
     "cell_type": "code",
     "collapsed": false,
     "input": [
      "actuators = Resource.objects.filter(uri='/actuators/toggle', host__active=True)\n",
      "tasks = []\n",
      "for act in actuators:\n",
      "    tasks.append(act.asyncPOST())\n",
      "    print 'toggling res: ' + str(act) \n",
      "    \n",
      "for task in tasks:\n",
      "    task.wait()\n",
      "    print task.result\n",
      "print 'Done'"
     ],
     "language": "python",
     "metadata": {},
     "outputs": []
    },
    {
     "cell_type": "code",
     "collapsed": false,
     "input": [
      "import time\n",
      "ITERATIONS=100\n",
      "counter = 0\n",
      "\n",
      "while counter < ITERATIONS:\n",
      "    actuators = Resource.objects.filter(uri='/actuators/toggle', host__active=True)\n",
      "    for act in actuators:\n",
      "        print act.POST()\n",
      "        print 'toggling res: ' + str(act) \n",
      "    counter += 1\n",
      "    time.sleep(5)\n",
      "    print counter"
     ],
     "language": "python",
     "metadata": {},
     "outputs": [
      {
       "output_type": "stream",
       "stream": "stdout",
       "text": [
        "toggled\n",
        "toggling res: aaaa::212:7400:bd8:80f5 - /actuators/toggle\n",
        "toggled"
       ]
      },
      {
       "output_type": "stream",
       "stream": "stdout",
       "text": [
        "\n",
        "toggling res: aaaa::212:7400:eda:98f0 - /actuators/toggle\n",
        "toggled"
       ]
      },
      {
       "output_type": "stream",
       "stream": "stdout",
       "text": [
        "\n",
        "toggling res: aaaa::212:7400:eda:e14a - /actuators/toggle\n",
        "toggled"
       ]
      },
      {
       "output_type": "stream",
       "stream": "stdout",
       "text": [
        "\n",
        "toggling res: aaaa::212:7400:bd8:7545 - /actuators/toggle\n",
        "toggled"
       ]
      },
      {
       "output_type": "stream",
       "stream": "stdout",
       "text": [
        "\n",
        "toggling res: aaaa::201:2dcf:4629:4b4 - /actuators/toggle\n",
        "1"
       ]
      },
      {
       "output_type": "stream",
       "stream": "stdout",
       "text": [
        "\n",
        "toggled"
       ]
      },
      {
       "output_type": "stream",
       "stream": "stdout",
       "text": [
        "\n",
        "toggling res: aaaa::212:7400:bd8:80f5 - /actuators/toggle\n",
        "toggled"
       ]
      },
      {
       "output_type": "stream",
       "stream": "stdout",
       "text": [
        "\n",
        "toggling res: aaaa::212:7400:eda:98f0 - /actuators/toggle\n",
        "toggled"
       ]
      },
      {
       "output_type": "stream",
       "stream": "stdout",
       "text": [
        "\n",
        "toggling res: aaaa::212:7400:eda:e14a - /actuators/toggle\n",
        "toggled"
       ]
      },
      {
       "output_type": "stream",
       "stream": "stdout",
       "text": [
        "\n",
        "toggling res: aaaa::212:7400:bd8:7545 - /actuators/toggle\n",
        "toggled"
       ]
      },
      {
       "output_type": "stream",
       "stream": "stdout",
       "text": [
        "\n",
        "toggling res: aaaa::201:2dcf:4629:4b4 - /actuators/toggle\n",
        "2"
       ]
      },
      {
       "output_type": "stream",
       "stream": "stdout",
       "text": [
        "\n",
        "toggled"
       ]
      },
      {
       "output_type": "stream",
       "stream": "stdout",
       "text": [
        "\n",
        "toggling res: aaaa::212:7400:bd8:80f5 - /actuators/toggle\n",
        "toggled"
       ]
      },
      {
       "output_type": "stream",
       "stream": "stdout",
       "text": [
        "\n",
        "toggling res: aaaa::212:7400:eda:98f0 - /actuators/toggle\n",
        "toggled"
       ]
      },
      {
       "output_type": "stream",
       "stream": "stdout",
       "text": [
        "\n",
        "toggling res: aaaa::212:7400:eda:e14a - /actuators/toggle\n",
        "toggled"
       ]
      },
      {
       "output_type": "stream",
       "stream": "stdout",
       "text": [
        "\n",
        "toggling res: aaaa::212:7400:bd8:7545 - /actuators/toggle\n",
        "toggled"
       ]
      },
      {
       "output_type": "stream",
       "stream": "stdout",
       "text": [
        "\n",
        "toggling res: aaaa::201:2dcf:4629:4b4 - /actuators/toggle\n",
        "3"
       ]
      },
      {
       "output_type": "stream",
       "stream": "stdout",
       "text": [
        "\n",
        "toggled"
       ]
      },
      {
       "output_type": "stream",
       "stream": "stdout",
       "text": [
        "\n",
        "toggling res: aaaa::212:7400:bd8:80f5 - /actuators/toggle\n",
        "toggled"
       ]
      },
      {
       "output_type": "stream",
       "stream": "stdout",
       "text": [
        "\n",
        "toggling res: aaaa::212:7400:eda:98f0 - /actuators/toggle\n",
        "toggled"
       ]
      },
      {
       "output_type": "stream",
       "stream": "stdout",
       "text": [
        "\n",
        "toggling res: aaaa::212:7400:eda:e14a - /actuators/toggle\n",
        "toggled"
       ]
      },
      {
       "output_type": "stream",
       "stream": "stdout",
       "text": [
        "\n",
        "toggling res: aaaa::212:7400:bd8:7545 - /actuators/toggle\n",
        "toggled"
       ]
      },
      {
       "output_type": "stream",
       "stream": "stdout",
       "text": [
        "\n",
        "toggling res: aaaa::201:2dcf:4629:4b4 - /actuators/toggle\n",
        "4"
       ]
      },
      {
       "output_type": "stream",
       "stream": "stdout",
       "text": [
        "\n",
        "toggled"
       ]
      },
      {
       "output_type": "stream",
       "stream": "stdout",
       "text": [
        "\n",
        "toggling res: aaaa::212:7400:bd8:80f5 - /actuators/toggle\n",
        "toggled"
       ]
      },
      {
       "output_type": "stream",
       "stream": "stdout",
       "text": [
        "\n",
        "toggling res: aaaa::212:7400:eda:98f0 - /actuators/toggle\n",
        "toggled"
       ]
      },
      {
       "output_type": "stream",
       "stream": "stdout",
       "text": [
        "\n",
        "toggling res: aaaa::212:7400:eda:e14a - /actuators/toggle\n",
        "toggled"
       ]
      },
      {
       "output_type": "stream",
       "stream": "stdout",
       "text": [
        "\n",
        "toggling res: aaaa::212:7400:bd8:7545 - /actuators/toggle\n",
        "toggled"
       ]
      },
      {
       "output_type": "stream",
       "stream": "stdout",
       "text": [
        "\n",
        "toggling res: aaaa::201:2dcf:4629:4b4 - /actuators/toggle\n",
        "5"
       ]
      },
      {
       "output_type": "stream",
       "stream": "stdout",
       "text": [
        "\n",
        "toggled"
       ]
      },
      {
       "output_type": "stream",
       "stream": "stdout",
       "text": [
        "\n",
        "toggling res: aaaa::212:7400:bd8:80f5 - /actuators/toggle\n",
        "toggled"
       ]
      },
      {
       "output_type": "stream",
       "stream": "stdout",
       "text": [
        "\n",
        "toggling res: aaaa::212:7400:eda:98f0 - /actuators/toggle\n",
        "toggled"
       ]
      },
      {
       "output_type": "stream",
       "stream": "stdout",
       "text": [
        "\n",
        "toggling res: aaaa::212:7400:eda:e14a - /actuators/toggle\n",
        "toggled"
       ]
      },
      {
       "output_type": "stream",
       "stream": "stdout",
       "text": [
        "\n",
        "toggling res: aaaa::212:7400:bd8:7545 - /actuators/toggle\n",
        "toggled"
       ]
      },
      {
       "output_type": "stream",
       "stream": "stdout",
       "text": [
        "\n",
        "toggling res: aaaa::201:2dcf:4629:4b4 - /actuators/toggle\n",
        "6"
       ]
      },
      {
       "output_type": "stream",
       "stream": "stdout",
       "text": [
        "\n",
        "toggled"
       ]
      },
      {
       "output_type": "stream",
       "stream": "stdout",
       "text": [
        "\n",
        "toggling res: aaaa::212:7400:bd8:80f5 - /actuators/toggle\n",
        "toggled"
       ]
      },
      {
       "output_type": "stream",
       "stream": "stdout",
       "text": [
        "\n",
        "toggling res: aaaa::212:7400:eda:98f0 - /actuators/toggle\n",
        "toggled"
       ]
      },
      {
       "output_type": "stream",
       "stream": "stdout",
       "text": [
        "\n",
        "toggling res: aaaa::212:7400:eda:e14a - /actuators/toggle\n",
        "toggled"
       ]
      },
      {
       "output_type": "stream",
       "stream": "stdout",
       "text": [
        "\n",
        "toggling res: aaaa::212:7400:bd8:7545 - /actuators/toggle\n",
        "toggled"
       ]
      },
      {
       "output_type": "stream",
       "stream": "stdout",
       "text": [
        "\n",
        "toggling res: aaaa::201:2dcf:4629:4b4 - /actuators/toggle\n",
        "7"
       ]
      },
      {
       "output_type": "stream",
       "stream": "stdout",
       "text": [
        "\n",
        "toggled"
       ]
      },
      {
       "output_type": "stream",
       "stream": "stdout",
       "text": [
        "\n",
        "toggling res: aaaa::212:7400:bd8:80f5 - /actuators/toggle\n",
        "toggled"
       ]
      },
      {
       "output_type": "stream",
       "stream": "stdout",
       "text": [
        "\n",
        "toggling res: aaaa::212:7400:eda:98f0 - /actuators/toggle\n",
        "toggled"
       ]
      },
      {
       "output_type": "stream",
       "stream": "stdout",
       "text": [
        "\n",
        "toggling res: aaaa::212:7400:eda:e14a - /actuators/toggle\n",
        "toggled"
       ]
      },
      {
       "output_type": "stream",
       "stream": "stdout",
       "text": [
        "\n",
        "toggling res: aaaa::212:7400:bd8:7545 - /actuators/toggle\n",
        "toggled"
       ]
      },
      {
       "output_type": "stream",
       "stream": "stdout",
       "text": [
        "\n",
        "toggling res: aaaa::201:2dcf:4629:4b4 - /actuators/toggle\n",
        "8"
       ]
      },
      {
       "output_type": "stream",
       "stream": "stdout",
       "text": [
        "\n",
        "toggled"
       ]
      },
      {
       "output_type": "stream",
       "stream": "stdout",
       "text": [
        "\n",
        "toggling res: aaaa::212:7400:bd8:80f5 - /actuators/toggle\n",
        "toggled"
       ]
      },
      {
       "output_type": "stream",
       "stream": "stdout",
       "text": [
        "\n",
        "toggling res: aaaa::212:7400:eda:98f0 - /actuators/toggle\n",
        "toggled"
       ]
      },
      {
       "output_type": "stream",
       "stream": "stdout",
       "text": [
        "\n",
        "toggling res: aaaa::212:7400:eda:e14a - /actuators/toggle\n",
        "toggled"
       ]
      },
      {
       "output_type": "stream",
       "stream": "stdout",
       "text": [
        "\n",
        "toggling res: aaaa::212:7400:bd8:7545 - /actuators/toggle\n",
        "toggled"
       ]
      },
      {
       "output_type": "stream",
       "stream": "stdout",
       "text": [
        "\n",
        "toggling res: aaaa::201:2dcf:4629:4b4 - /actuators/toggle\n",
        "9"
       ]
      },
      {
       "output_type": "stream",
       "stream": "stdout",
       "text": [
        "\n",
        "toggled"
       ]
      },
      {
       "output_type": "stream",
       "stream": "stdout",
       "text": [
        "\n",
        "toggling res: aaaa::212:7400:bd8:80f5 - /actuators/toggle\n",
        "toggled"
       ]
      },
      {
       "output_type": "stream",
       "stream": "stdout",
       "text": [
        "\n",
        "toggling res: aaaa::212:7400:eda:98f0 - /actuators/toggle\n",
        "toggled"
       ]
      },
      {
       "output_type": "stream",
       "stream": "stdout",
       "text": [
        "\n",
        "toggling res: aaaa::212:7400:eda:e14a - /actuators/toggle\n",
        "toggled"
       ]
      },
      {
       "output_type": "stream",
       "stream": "stdout",
       "text": [
        "\n",
        "toggling res: aaaa::212:7400:bd8:7545 - /actuators/toggle\n",
        "toggled"
       ]
      },
      {
       "output_type": "stream",
       "stream": "stdout",
       "text": [
        "\n",
        "toggling res: aaaa::201:2dcf:4629:4b4 - /actuators/toggle\n",
        "10"
       ]
      },
      {
       "output_type": "stream",
       "stream": "stdout",
       "text": [
        "\n",
        "toggled"
       ]
      },
      {
       "output_type": "stream",
       "stream": "stdout",
       "text": [
        "\n",
        "toggling res: aaaa::212:7400:bd8:80f5 - /actuators/toggle\n",
        "toggled"
       ]
      },
      {
       "output_type": "stream",
       "stream": "stdout",
       "text": [
        "\n",
        "toggling res: aaaa::212:7400:eda:98f0 - /actuators/toggle\n",
        "toggled"
       ]
      },
      {
       "output_type": "stream",
       "stream": "stdout",
       "text": [
        "\n",
        "toggling res: aaaa::212:7400:eda:e14a - /actuators/toggle\n",
        "toggled"
       ]
      },
      {
       "output_type": "stream",
       "stream": "stdout",
       "text": [
        "\n",
        "toggling res: aaaa::212:7400:bd8:7545 - /actuators/toggle\n",
        "toggled"
       ]
      },
      {
       "output_type": "stream",
       "stream": "stdout",
       "text": [
        "\n",
        "toggling res: aaaa::201:2dcf:4629:4b4 - /actuators/toggle\n",
        "11"
       ]
      },
      {
       "output_type": "stream",
       "stream": "stdout",
       "text": [
        "\n",
        "toggled"
       ]
      },
      {
       "output_type": "stream",
       "stream": "stdout",
       "text": [
        "\n",
        "toggling res: aaaa::212:7400:bd8:80f5 - /actuators/toggle\n",
        "toggled"
       ]
      },
      {
       "output_type": "stream",
       "stream": "stdout",
       "text": [
        "\n",
        "toggling res: aaaa::212:7400:eda:98f0 - /actuators/toggle\n",
        "toggled"
       ]
      },
      {
       "output_type": "stream",
       "stream": "stdout",
       "text": [
        "\n",
        "toggling res: aaaa::212:7400:eda:e14a - /actuators/toggle\n",
        "toggled"
       ]
      },
      {
       "output_type": "stream",
       "stream": "stdout",
       "text": [
        "\n",
        "toggling res: aaaa::212:7400:bd8:7545 - /actuators/toggle\n",
        "toggled"
       ]
      },
      {
       "output_type": "stream",
       "stream": "stdout",
       "text": [
        "\n",
        "toggling res: aaaa::201:2dcf:4629:4b4 - /actuators/toggle\n",
        "12"
       ]
      },
      {
       "output_type": "stream",
       "stream": "stdout",
       "text": [
        "\n",
        "toggled"
       ]
      },
      {
       "output_type": "stream",
       "stream": "stdout",
       "text": [
        "\n",
        "toggling res: aaaa::212:7400:bd8:80f5 - /actuators/toggle\n",
        "toggled"
       ]
      },
      {
       "output_type": "stream",
       "stream": "stdout",
       "text": [
        "\n",
        "toggling res: aaaa::212:7400:eda:98f0 - /actuators/toggle\n",
        "toggled"
       ]
      },
      {
       "output_type": "stream",
       "stream": "stdout",
       "text": [
        "\n",
        "toggling res: aaaa::212:7400:eda:e14a - /actuators/toggle\n",
        "toggled"
       ]
      },
      {
       "output_type": "stream",
       "stream": "stdout",
       "text": [
        "\n",
        "toggling res: aaaa::212:7400:bd8:7545 - /actuators/toggle\n",
        "toggled"
       ]
      },
      {
       "output_type": "stream",
       "stream": "stdout",
       "text": [
        "\n",
        "toggling res: aaaa::201:2dcf:4629:4b4 - /actuators/toggle\n",
        "13"
       ]
      },
      {
       "output_type": "stream",
       "stream": "stdout",
       "text": [
        "\n",
        "toggled"
       ]
      },
      {
       "output_type": "stream",
       "stream": "stdout",
       "text": [
        "\n",
        "toggling res: aaaa::212:7400:bd8:80f5 - /actuators/toggle\n",
        "toggled"
       ]
      },
      {
       "output_type": "stream",
       "stream": "stdout",
       "text": [
        "\n",
        "toggling res: aaaa::212:7400:eda:98f0 - /actuators/toggle\n",
        "toggled"
       ]
      },
      {
       "output_type": "stream",
       "stream": "stdout",
       "text": [
        "\n",
        "toggling res: aaaa::212:7400:eda:e14a - /actuators/toggle\n",
        "toggled"
       ]
      },
      {
       "output_type": "stream",
       "stream": "stdout",
       "text": [
        "\n",
        "toggling res: aaaa::212:7400:bd8:7545 - /actuators/toggle\n",
        "toggled"
       ]
      },
      {
       "output_type": "stream",
       "stream": "stdout",
       "text": [
        "\n",
        "toggling res: aaaa::201:2dcf:4629:4b4 - /actuators/toggle\n",
        "14"
       ]
      },
      {
       "output_type": "stream",
       "stream": "stdout",
       "text": [
        "\n",
        "toggled"
       ]
      },
      {
       "output_type": "stream",
       "stream": "stdout",
       "text": [
        "\n",
        "toggling res: aaaa::212:7400:bd8:80f5 - /actuators/toggle\n",
        "toggled"
       ]
      },
      {
       "output_type": "stream",
       "stream": "stdout",
       "text": [
        "\n",
        "toggling res: aaaa::212:7400:eda:98f0 - /actuators/toggle\n",
        "toggled"
       ]
      },
      {
       "output_type": "stream",
       "stream": "stdout",
       "text": [
        "\n",
        "toggling res: aaaa::212:7400:eda:e14a - /actuators/toggle\n",
        "toggled"
       ]
      },
      {
       "output_type": "stream",
       "stream": "stdout",
       "text": [
        "\n",
        "toggling res: aaaa::212:7400:bd8:7545 - /actuators/toggle\n",
        "toggled"
       ]
      },
      {
       "output_type": "stream",
       "stream": "stdout",
       "text": [
        "\n",
        "toggling res: aaaa::201:2dcf:4629:4b4 - /actuators/toggle\n",
        "15"
       ]
      },
      {
       "output_type": "stream",
       "stream": "stdout",
       "text": [
        "\n",
        "toggled"
       ]
      },
      {
       "output_type": "stream",
       "stream": "stdout",
       "text": [
        "\n",
        "toggling res: aaaa::212:7400:bd8:80f5 - /actuators/toggle\n",
        "toggled"
       ]
      },
      {
       "output_type": "stream",
       "stream": "stdout",
       "text": [
        "\n",
        "toggling res: aaaa::212:7400:eda:98f0 - /actuators/toggle\n",
        "toggled"
       ]
      },
      {
       "output_type": "stream",
       "stream": "stdout",
       "text": [
        "\n",
        "toggling res: aaaa::212:7400:eda:e14a - /actuators/toggle\n",
        "toggled"
       ]
      },
      {
       "output_type": "stream",
       "stream": "stdout",
       "text": [
        "\n",
        "toggling res: aaaa::212:7400:bd8:7545 - /actuators/toggle\n",
        "toggled"
       ]
      },
      {
       "output_type": "stream",
       "stream": "stdout",
       "text": [
        "\n",
        "toggling res: aaaa::201:2dcf:4629:4b4 - /actuators/toggle\n",
        "16"
       ]
      },
      {
       "output_type": "stream",
       "stream": "stdout",
       "text": [
        "\n",
        "toggled"
       ]
      },
      {
       "output_type": "stream",
       "stream": "stdout",
       "text": [
        "\n",
        "toggling res: aaaa::212:7400:bd8:80f5 - /actuators/toggle\n",
        "toggled"
       ]
      },
      {
       "output_type": "stream",
       "stream": "stdout",
       "text": [
        "\n",
        "toggling res: aaaa::212:7400:eda:98f0 - /actuators/toggle\n",
        "toggled"
       ]
      },
      {
       "output_type": "stream",
       "stream": "stdout",
       "text": [
        "\n",
        "toggling res: aaaa::212:7400:eda:e14a - /actuators/toggle\n",
        "toggled"
       ]
      },
      {
       "output_type": "stream",
       "stream": "stdout",
       "text": [
        "\n",
        "toggling res: aaaa::212:7400:bd8:7545 - /actuators/toggle\n",
        "toggled"
       ]
      },
      {
       "output_type": "stream",
       "stream": "stdout",
       "text": [
        "\n",
        "toggling res: aaaa::201:2dcf:4629:4b4 - /actuators/toggle\n",
        "17"
       ]
      },
      {
       "output_type": "stream",
       "stream": "stdout",
       "text": [
        "\n",
        "toggled"
       ]
      },
      {
       "output_type": "stream",
       "stream": "stdout",
       "text": [
        "\n",
        "toggling res: aaaa::212:7400:bd8:80f5 - /actuators/toggle\n",
        "toggled"
       ]
      },
      {
       "output_type": "stream",
       "stream": "stdout",
       "text": [
        "\n",
        "toggling res: aaaa::212:7400:eda:98f0 - /actuators/toggle\n",
        "toggled"
       ]
      },
      {
       "output_type": "stream",
       "stream": "stdout",
       "text": [
        "\n",
        "toggling res: aaaa::212:7400:eda:e14a - /actuators/toggle\n",
        "toggled"
       ]
      },
      {
       "output_type": "stream",
       "stream": "stdout",
       "text": [
        "\n",
        "toggling res: aaaa::212:7400:bd8:7545 - /actuators/toggle\n",
        "toggled"
       ]
      },
      {
       "output_type": "stream",
       "stream": "stdout",
       "text": [
        "\n",
        "toggling res: aaaa::201:2dcf:4629:4b4 - /actuators/toggle\n",
        "18"
       ]
      },
      {
       "output_type": "stream",
       "stream": "stdout",
       "text": [
        "\n",
        "toggled"
       ]
      },
      {
       "output_type": "stream",
       "stream": "stdout",
       "text": [
        "\n",
        "toggling res: aaaa::212:7400:bd8:80f5 - /actuators/toggle\n",
        "toggled"
       ]
      },
      {
       "output_type": "stream",
       "stream": "stdout",
       "text": [
        "\n",
        "toggling res: aaaa::212:7400:eda:98f0 - /actuators/toggle\n",
        "toggled"
       ]
      },
      {
       "output_type": "stream",
       "stream": "stdout",
       "text": [
        "\n",
        "toggling res: aaaa::212:7400:eda:e14a - /actuators/toggle\n",
        "toggled"
       ]
      },
      {
       "output_type": "stream",
       "stream": "stdout",
       "text": [
        "\n",
        "toggling res: aaaa::212:7400:bd8:7545 - /actuators/toggle\n",
        "toggled"
       ]
      },
      {
       "output_type": "stream",
       "stream": "stdout",
       "text": [
        "\n",
        "toggling res: aaaa::201:2dcf:4629:4b4 - /actuators/toggle\n",
        "19"
       ]
      },
      {
       "output_type": "stream",
       "stream": "stdout",
       "text": [
        "\n",
        "toggled"
       ]
      },
      {
       "output_type": "stream",
       "stream": "stdout",
       "text": [
        "\n",
        "toggling res: aaaa::212:7400:bd8:80f5 - /actuators/toggle\n",
        "toggled"
       ]
      },
      {
       "output_type": "stream",
       "stream": "stdout",
       "text": [
        "\n",
        "toggling res: aaaa::212:7400:eda:98f0 - /actuators/toggle\n",
        "toggled"
       ]
      },
      {
       "output_type": "stream",
       "stream": "stdout",
       "text": [
        "\n",
        "toggling res: aaaa::212:7400:eda:e14a - /actuators/toggle\n",
        "toggled"
       ]
      },
      {
       "output_type": "stream",
       "stream": "stdout",
       "text": [
        "\n",
        "toggling res: aaaa::212:7400:bd8:7545 - /actuators/toggle\n",
        "toggled"
       ]
      },
      {
       "output_type": "stream",
       "stream": "stdout",
       "text": [
        "\n",
        "toggling res: aaaa::201:2dcf:4629:4b4 - /actuators/toggle\n",
        "20"
       ]
      },
      {
       "output_type": "stream",
       "stream": "stdout",
       "text": [
        "\n",
        "toggled"
       ]
      },
      {
       "output_type": "stream",
       "stream": "stdout",
       "text": [
        "\n",
        "toggling res: aaaa::212:7400:bd8:80f5 - /actuators/toggle\n",
        "toggled"
       ]
      },
      {
       "output_type": "stream",
       "stream": "stdout",
       "text": [
        "\n",
        "toggling res: aaaa::212:7400:eda:98f0 - /actuators/toggle\n",
        "toggled"
       ]
      },
      {
       "output_type": "stream",
       "stream": "stdout",
       "text": [
        "\n",
        "toggling res: aaaa::212:7400:eda:e14a - /actuators/toggle\n",
        "toggled"
       ]
      },
      {
       "output_type": "stream",
       "stream": "stdout",
       "text": [
        "\n",
        "toggling res: aaaa::212:7400:bd8:7545 - /actuators/toggle\n",
        "toggled"
       ]
      },
      {
       "output_type": "stream",
       "stream": "stdout",
       "text": [
        "\n",
        "toggling res: aaaa::201:2dcf:4629:4b4 - /actuators/toggle\n",
        "21"
       ]
      },
      {
       "output_type": "stream",
       "stream": "stdout",
       "text": [
        "\n",
        "toggled"
       ]
      },
      {
       "output_type": "stream",
       "stream": "stdout",
       "text": [
        "\n",
        "toggling res: aaaa::212:7400:bd8:80f5 - /actuators/toggle\n",
        "toggled"
       ]
      },
      {
       "output_type": "stream",
       "stream": "stdout",
       "text": [
        "\n",
        "toggling res: aaaa::212:7400:eda:98f0 - /actuators/toggle\n",
        "toggled"
       ]
      },
      {
       "output_type": "stream",
       "stream": "stdout",
       "text": [
        "\n",
        "toggling res: aaaa::212:7400:eda:e14a - /actuators/toggle\n",
        "toggled"
       ]
      },
      {
       "output_type": "stream",
       "stream": "stdout",
       "text": [
        "\n",
        "toggling res: aaaa::212:7400:bd8:7545 - /actuators/toggle\n",
        "toggled"
       ]
      },
      {
       "output_type": "stream",
       "stream": "stdout",
       "text": [
        "\n",
        "toggling res: aaaa::201:2dcf:4629:4b4 - /actuators/toggle\n",
        "22"
       ]
      },
      {
       "output_type": "stream",
       "stream": "stdout",
       "text": [
        "\n",
        "toggled"
       ]
      },
      {
       "output_type": "stream",
       "stream": "stdout",
       "text": [
        "\n",
        "toggling res: aaaa::212:7400:bd8:80f5 - /actuators/toggle\n",
        "toggled"
       ]
      },
      {
       "output_type": "stream",
       "stream": "stdout",
       "text": [
        "\n",
        "toggling res: aaaa::212:7400:eda:98f0 - /actuators/toggle\n",
        "toggled"
       ]
      },
      {
       "output_type": "stream",
       "stream": "stdout",
       "text": [
        "\n",
        "toggling res: aaaa::212:7400:eda:e14a - /actuators/toggle\n",
        "toggled"
       ]
      },
      {
       "output_type": "stream",
       "stream": "stdout",
       "text": [
        "\n",
        "toggling res: aaaa::212:7400:bd8:7545 - /actuators/toggle\n",
        "toggled"
       ]
      },
      {
       "output_type": "stream",
       "stream": "stdout",
       "text": [
        "\n",
        "toggling res: aaaa::201:2dcf:4629:4b4 - /actuators/toggle\n",
        "23"
       ]
      },
      {
       "output_type": "stream",
       "stream": "stdout",
       "text": [
        "\n",
        "toggled"
       ]
      },
      {
       "output_type": "stream",
       "stream": "stdout",
       "text": [
        "\n",
        "toggling res: aaaa::212:7400:bd8:80f5 - /actuators/toggle\n",
        "toggled"
       ]
      },
      {
       "output_type": "stream",
       "stream": "stdout",
       "text": [
        "\n",
        "toggling res: aaaa::212:7400:eda:98f0 - /actuators/toggle\n",
        "toggled"
       ]
      },
      {
       "output_type": "stream",
       "stream": "stdout",
       "text": [
        "\n",
        "toggling res: aaaa::212:7400:eda:e14a - /actuators/toggle\n",
        "toggled"
       ]
      },
      {
       "output_type": "stream",
       "stream": "stdout",
       "text": [
        "\n",
        "toggling res: aaaa::212:7400:bd8:7545 - /actuators/toggle\n",
        "toggled"
       ]
      },
      {
       "output_type": "stream",
       "stream": "stdout",
       "text": [
        "\n",
        "toggling res: aaaa::201:2dcf:4629:4b4 - /actuators/toggle\n",
        "24"
       ]
      },
      {
       "output_type": "stream",
       "stream": "stdout",
       "text": [
        "\n",
        "toggled"
       ]
      },
      {
       "output_type": "stream",
       "stream": "stdout",
       "text": [
        "\n",
        "toggling res: aaaa::212:7400:bd8:80f5 - /actuators/toggle\n",
        "toggled"
       ]
      },
      {
       "output_type": "stream",
       "stream": "stdout",
       "text": [
        "\n",
        "toggling res: aaaa::212:7400:eda:98f0 - /actuators/toggle\n",
        "toggled"
       ]
      },
      {
       "output_type": "stream",
       "stream": "stdout",
       "text": [
        "\n",
        "toggling res: aaaa::212:7400:eda:e14a - /actuators/toggle\n",
        "toggled"
       ]
      },
      {
       "output_type": "stream",
       "stream": "stdout",
       "text": [
        "\n",
        "toggling res: aaaa::212:7400:bd8:7545 - /actuators/toggle\n",
        "toggled"
       ]
      },
      {
       "output_type": "stream",
       "stream": "stdout",
       "text": [
        "\n",
        "toggling res: aaaa::201:2dcf:4629:4b4 - /actuators/toggle\n",
        "25"
       ]
      },
      {
       "output_type": "stream",
       "stream": "stdout",
       "text": [
        "\n",
        "toggled"
       ]
      },
      {
       "output_type": "stream",
       "stream": "stdout",
       "text": [
        "\n",
        "toggling res: aaaa::212:7400:bd8:80f5 - /actuators/toggle\n",
        "toggled"
       ]
      },
      {
       "output_type": "stream",
       "stream": "stdout",
       "text": [
        "\n",
        "toggling res: aaaa::212:7400:eda:98f0 - /actuators/toggle\n",
        "toggled"
       ]
      },
      {
       "output_type": "stream",
       "stream": "stdout",
       "text": [
        "\n",
        "toggling res: aaaa::212:7400:eda:e14a - /actuators/toggle\n",
        "toggled"
       ]
      },
      {
       "output_type": "stream",
       "stream": "stdout",
       "text": [
        "\n",
        "toggling res: aaaa::212:7400:bd8:7545 - /actuators/toggle\n",
        "toggled"
       ]
      },
      {
       "output_type": "stream",
       "stream": "stdout",
       "text": [
        "\n",
        "toggling res: aaaa::201:2dcf:4629:4b4 - /actuators/toggle\n",
        "26"
       ]
      },
      {
       "output_type": "stream",
       "stream": "stdout",
       "text": [
        "\n",
        "toggled"
       ]
      },
      {
       "output_type": "stream",
       "stream": "stdout",
       "text": [
        "\n",
        "toggling res: aaaa::212:7400:bd8:80f5 - /actuators/toggle\n",
        "toggled"
       ]
      },
      {
       "output_type": "stream",
       "stream": "stdout",
       "text": [
        "\n",
        "toggling res: aaaa::212:7400:eda:98f0 - /actuators/toggle\n",
        "toggled"
       ]
      },
      {
       "output_type": "stream",
       "stream": "stdout",
       "text": [
        "\n",
        "toggling res: aaaa::212:7400:eda:e14a - /actuators/toggle\n",
        "toggled"
       ]
      },
      {
       "output_type": "stream",
       "stream": "stdout",
       "text": [
        "\n",
        "toggling res: aaaa::212:7400:bd8:7545 - /actuators/toggle\n",
        "toggled"
       ]
      },
      {
       "output_type": "stream",
       "stream": "stdout",
       "text": [
        "\n",
        "toggling res: aaaa::201:2dcf:4629:4b4 - /actuators/toggle\n",
        "27"
       ]
      },
      {
       "output_type": "stream",
       "stream": "stdout",
       "text": [
        "\n",
        "toggled"
       ]
      },
      {
       "output_type": "stream",
       "stream": "stdout",
       "text": [
        "\n",
        "toggling res: aaaa::212:7400:bd8:80f5 - /actuators/toggle\n",
        "toggled"
       ]
      },
      {
       "output_type": "stream",
       "stream": "stdout",
       "text": [
        "\n",
        "toggling res: aaaa::212:7400:eda:98f0 - /actuators/toggle\n",
        "toggled"
       ]
      },
      {
       "output_type": "stream",
       "stream": "stdout",
       "text": [
        "\n",
        "toggling res: aaaa::212:7400:eda:e14a - /actuators/toggle\n",
        "toggled"
       ]
      },
      {
       "output_type": "stream",
       "stream": "stdout",
       "text": [
        "\n",
        "toggling res: aaaa::212:7400:bd8:7545 - /actuators/toggle\n",
        "toggled"
       ]
      },
      {
       "output_type": "stream",
       "stream": "stdout",
       "text": [
        "\n",
        "toggling res: aaaa::201:2dcf:4629:4b4 - /actuators/toggle\n",
        "28"
       ]
      },
      {
       "output_type": "stream",
       "stream": "stdout",
       "text": [
        "\n",
        "toggled"
       ]
      },
      {
       "output_type": "stream",
       "stream": "stdout",
       "text": [
        "\n",
        "toggling res: aaaa::212:7400:bd8:80f5 - /actuators/toggle\n",
        "toggled"
       ]
      },
      {
       "output_type": "stream",
       "stream": "stdout",
       "text": [
        "\n",
        "toggling res: aaaa::212:7400:eda:98f0 - /actuators/toggle\n",
        "toggled"
       ]
      },
      {
       "output_type": "stream",
       "stream": "stdout",
       "text": [
        "\n",
        "toggling res: aaaa::212:7400:eda:e14a - /actuators/toggle\n",
        "toggled"
       ]
      },
      {
       "output_type": "stream",
       "stream": "stdout",
       "text": [
        "\n",
        "toggling res: aaaa::212:7400:bd8:7545 - /actuators/toggle\n",
        "toggled"
       ]
      },
      {
       "output_type": "stream",
       "stream": "stdout",
       "text": [
        "\n",
        "toggling res: aaaa::201:2dcf:4629:4b4 - /actuators/toggle\n",
        "29"
       ]
      },
      {
       "output_type": "stream",
       "stream": "stdout",
       "text": [
        "\n",
        "toggled"
       ]
      },
      {
       "output_type": "stream",
       "stream": "stdout",
       "text": [
        "\n",
        "toggling res: aaaa::212:7400:bd8:80f5 - /actuators/toggle\n",
        "toggled"
       ]
      },
      {
       "output_type": "stream",
       "stream": "stdout",
       "text": [
        "\n",
        "toggling res: aaaa::212:7400:eda:98f0 - /actuators/toggle\n",
        "toggled"
       ]
      },
      {
       "output_type": "stream",
       "stream": "stdout",
       "text": [
        "\n",
        "toggling res: aaaa::212:7400:eda:e14a - /actuators/toggle\n",
        "toggled"
       ]
      },
      {
       "output_type": "stream",
       "stream": "stdout",
       "text": [
        "\n",
        "toggling res: aaaa::212:7400:bd8:7545 - /actuators/toggle\n",
        "toggled"
       ]
      },
      {
       "output_type": "stream",
       "stream": "stdout",
       "text": [
        "\n",
        "toggling res: aaaa::201:2dcf:4629:4b4 - /actuators/toggle\n",
        "30"
       ]
      },
      {
       "output_type": "stream",
       "stream": "stdout",
       "text": [
        "\n",
        "toggled"
       ]
      },
      {
       "output_type": "stream",
       "stream": "stdout",
       "text": [
        "\n",
        "toggling res: aaaa::212:7400:bd8:80f5 - /actuators/toggle\n",
        "toggled"
       ]
      },
      {
       "output_type": "stream",
       "stream": "stdout",
       "text": [
        "\n",
        "toggling res: aaaa::212:7400:eda:98f0 - /actuators/toggle\n",
        "toggled"
       ]
      },
      {
       "output_type": "stream",
       "stream": "stdout",
       "text": [
        "\n",
        "toggling res: aaaa::212:7400:eda:e14a - /actuators/toggle\n",
        "toggled"
       ]
      },
      {
       "output_type": "stream",
       "stream": "stdout",
       "text": [
        "\n",
        "toggling res: aaaa::212:7400:bd8:7545 - /actuators/toggle\n",
        "toggled"
       ]
      },
      {
       "output_type": "stream",
       "stream": "stdout",
       "text": [
        "\n",
        "toggling res: aaaa::201:2dcf:4629:4b4 - /actuators/toggle\n",
        "31"
       ]
      },
      {
       "output_type": "stream",
       "stream": "stdout",
       "text": [
        "\n",
        "toggled"
       ]
      },
      {
       "output_type": "stream",
       "stream": "stdout",
       "text": [
        "\n",
        "toggling res: aaaa::212:7400:bd8:80f5 - /actuators/toggle\n",
        "toggled"
       ]
      },
      {
       "output_type": "stream",
       "stream": "stdout",
       "text": [
        "\n",
        "toggling res: aaaa::212:7400:eda:98f0 - /actuators/toggle\n",
        "toggled"
       ]
      },
      {
       "output_type": "stream",
       "stream": "stdout",
       "text": [
        "\n",
        "toggling res: aaaa::212:7400:eda:e14a - /actuators/toggle\n",
        "toggled"
       ]
      },
      {
       "output_type": "stream",
       "stream": "stdout",
       "text": [
        "\n",
        "toggling res: aaaa::212:7400:bd8:7545 - /actuators/toggle\n",
        "toggled"
       ]
      },
      {
       "output_type": "stream",
       "stream": "stdout",
       "text": [
        "\n",
        "toggling res: aaaa::201:2dcf:4629:4b4 - /actuators/toggle\n",
        "32"
       ]
      },
      {
       "output_type": "stream",
       "stream": "stdout",
       "text": [
        "\n",
        "toggled"
       ]
      },
      {
       "output_type": "stream",
       "stream": "stdout",
       "text": [
        "\n",
        "toggling res: aaaa::212:7400:bd8:80f5 - /actuators/toggle\n",
        "toggled"
       ]
      },
      {
       "output_type": "stream",
       "stream": "stdout",
       "text": [
        "\n",
        "toggling res: aaaa::212:7400:eda:98f0 - /actuators/toggle\n",
        "toggled"
       ]
      },
      {
       "output_type": "stream",
       "stream": "stdout",
       "text": [
        "\n",
        "toggling res: aaaa::212:7400:eda:e14a - /actuators/toggle\n",
        "toggled"
       ]
      },
      {
       "output_type": "stream",
       "stream": "stdout",
       "text": [
        "\n",
        "toggling res: aaaa::212:7400:bd8:7545 - /actuators/toggle\n",
        "toggled"
       ]
      },
      {
       "output_type": "stream",
       "stream": "stdout",
       "text": [
        "\n",
        "toggling res: aaaa::201:2dcf:4629:4b4 - /actuators/toggle\n",
        "33"
       ]
      },
      {
       "output_type": "stream",
       "stream": "stdout",
       "text": [
        "\n",
        "toggled"
       ]
      },
      {
       "output_type": "stream",
       "stream": "stdout",
       "text": [
        "\n",
        "toggling res: aaaa::212:7400:bd8:80f5 - /actuators/toggle\n",
        "toggled"
       ]
      },
      {
       "output_type": "stream",
       "stream": "stdout",
       "text": [
        "\n",
        "toggling res: aaaa::212:7400:eda:98f0 - /actuators/toggle\n",
        "toggled"
       ]
      },
      {
       "output_type": "stream",
       "stream": "stdout",
       "text": [
        "\n",
        "toggling res: aaaa::212:7400:eda:e14a - /actuators/toggle\n",
        "toggled"
       ]
      },
      {
       "output_type": "stream",
       "stream": "stdout",
       "text": [
        "\n",
        "toggling res: aaaa::212:7400:bd8:7545 - /actuators/toggle\n",
        "toggled"
       ]
      },
      {
       "output_type": "stream",
       "stream": "stdout",
       "text": [
        "\n",
        "toggling res: aaaa::201:2dcf:4629:4b4 - /actuators/toggle\n",
        "34"
       ]
      },
      {
       "output_type": "stream",
       "stream": "stdout",
       "text": [
        "\n",
        "toggled"
       ]
      },
      {
       "output_type": "stream",
       "stream": "stdout",
       "text": [
        "\n",
        "toggling res: aaaa::212:7400:bd8:80f5 - /actuators/toggle\n",
        "toggled"
       ]
      },
      {
       "output_type": "stream",
       "stream": "stdout",
       "text": [
        "\n",
        "toggling res: aaaa::212:7400:eda:98f0 - /actuators/toggle\n",
        "toggled"
       ]
      },
      {
       "output_type": "stream",
       "stream": "stdout",
       "text": [
        "\n",
        "toggling res: aaaa::212:7400:eda:e14a - /actuators/toggle\n",
        "toggled"
       ]
      },
      {
       "output_type": "stream",
       "stream": "stdout",
       "text": [
        "\n",
        "toggling res: aaaa::212:7400:bd8:7545 - /actuators/toggle\n",
        "toggled"
       ]
      },
      {
       "output_type": "stream",
       "stream": "stdout",
       "text": [
        "\n",
        "toggling res: aaaa::201:2dcf:4629:4b4 - /actuators/toggle\n",
        "35"
       ]
      },
      {
       "output_type": "stream",
       "stream": "stdout",
       "text": [
        "\n",
        "toggled"
       ]
      },
      {
       "output_type": "stream",
       "stream": "stdout",
       "text": [
        "\n",
        "toggling res: aaaa::212:7400:bd8:80f5 - /actuators/toggle\n",
        "toggled"
       ]
      },
      {
       "output_type": "stream",
       "stream": "stdout",
       "text": [
        "\n",
        "toggling res: aaaa::212:7400:eda:98f0 - /actuators/toggle\n",
        "toggled"
       ]
      },
      {
       "output_type": "stream",
       "stream": "stdout",
       "text": [
        "\n",
        "toggling res: aaaa::212:7400:eda:e14a - /actuators/toggle\n",
        "toggled"
       ]
      },
      {
       "output_type": "stream",
       "stream": "stdout",
       "text": [
        "\n",
        "toggling res: aaaa::212:7400:bd8:7545 - /actuators/toggle\n",
        "toggled"
       ]
      },
      {
       "output_type": "stream",
       "stream": "stdout",
       "text": [
        "\n",
        "toggling res: aaaa::201:2dcf:4629:4b4 - /actuators/toggle\n",
        "36"
       ]
      },
      {
       "output_type": "stream",
       "stream": "stdout",
       "text": [
        "\n",
        "toggled"
       ]
      },
      {
       "output_type": "stream",
       "stream": "stdout",
       "text": [
        "\n",
        "toggling res: aaaa::212:7400:bd8:80f5 - /actuators/toggle\n",
        "toggled"
       ]
      },
      {
       "output_type": "stream",
       "stream": "stdout",
       "text": [
        "\n",
        "toggling res: aaaa::212:7400:eda:98f0 - /actuators/toggle\n",
        "toggled"
       ]
      },
      {
       "output_type": "stream",
       "stream": "stdout",
       "text": [
        "\n",
        "toggling res: aaaa::212:7400:eda:e14a - /actuators/toggle\n",
        "toggled"
       ]
      },
      {
       "output_type": "stream",
       "stream": "stdout",
       "text": [
        "\n",
        "toggling res: aaaa::212:7400:bd8:7545 - /actuators/toggle\n",
        "toggled"
       ]
      },
      {
       "output_type": "stream",
       "stream": "stdout",
       "text": [
        "\n",
        "toggling res: aaaa::201:2dcf:4629:4b4 - /actuators/toggle\n",
        "37"
       ]
      },
      {
       "output_type": "stream",
       "stream": "stdout",
       "text": [
        "\n",
        "toggled"
       ]
      },
      {
       "output_type": "stream",
       "stream": "stdout",
       "text": [
        "\n",
        "toggling res: aaaa::212:7400:bd8:80f5 - /actuators/toggle\n",
        "toggled"
       ]
      },
      {
       "output_type": "stream",
       "stream": "stdout",
       "text": [
        "\n",
        "toggling res: aaaa::212:7400:eda:98f0 - /actuators/toggle\n",
        "toggled"
       ]
      },
      {
       "output_type": "stream",
       "stream": "stdout",
       "text": [
        "\n",
        "toggling res: aaaa::212:7400:eda:e14a - /actuators/toggle\n",
        "toggled"
       ]
      },
      {
       "output_type": "stream",
       "stream": "stdout",
       "text": [
        "\n",
        "toggling res: aaaa::212:7400:bd8:7545 - /actuators/toggle\n",
        "toggled"
       ]
      },
      {
       "output_type": "stream",
       "stream": "stdout",
       "text": [
        "\n",
        "toggling res: aaaa::201:2dcf:4629:4b4 - /actuators/toggle\n",
        "38"
       ]
      },
      {
       "output_type": "stream",
       "stream": "stdout",
       "text": [
        "\n",
        "toggled"
       ]
      },
      {
       "output_type": "stream",
       "stream": "stdout",
       "text": [
        "\n",
        "toggling res: aaaa::212:7400:bd8:80f5 - /actuators/toggle\n",
        "toggled"
       ]
      },
      {
       "output_type": "stream",
       "stream": "stdout",
       "text": [
        "\n",
        "toggling res: aaaa::212:7400:eda:98f0 - /actuators/toggle\n",
        "toggled"
       ]
      },
      {
       "output_type": "stream",
       "stream": "stdout",
       "text": [
        "\n",
        "toggling res: aaaa::212:7400:eda:e14a - /actuators/toggle\n",
        "toggled"
       ]
      },
      {
       "output_type": "stream",
       "stream": "stdout",
       "text": [
        "\n",
        "toggling res: aaaa::212:7400:bd8:7545 - /actuators/toggle\n",
        "toggled"
       ]
      },
      {
       "output_type": "stream",
       "stream": "stdout",
       "text": [
        "\n",
        "toggling res: aaaa::201:2dcf:4629:4b4 - /actuators/toggle\n",
        "39"
       ]
      },
      {
       "output_type": "stream",
       "stream": "stdout",
       "text": [
        "\n",
        "toggled"
       ]
      },
      {
       "output_type": "stream",
       "stream": "stdout",
       "text": [
        "\n",
        "toggling res: aaaa::212:7400:bd8:80f5 - /actuators/toggle\n",
        "toggled"
       ]
      },
      {
       "output_type": "stream",
       "stream": "stdout",
       "text": [
        "\n",
        "toggling res: aaaa::212:7400:eda:98f0 - /actuators/toggle\n",
        "toggled"
       ]
      },
      {
       "output_type": "stream",
       "stream": "stdout",
       "text": [
        "\n",
        "toggling res: aaaa::212:7400:eda:e14a - /actuators/toggle\n",
        "toggled"
       ]
      },
      {
       "output_type": "stream",
       "stream": "stdout",
       "text": [
        "\n",
        "toggling res: aaaa::212:7400:bd8:7545 - /actuators/toggle\n",
        "toggled"
       ]
      },
      {
       "output_type": "stream",
       "stream": "stdout",
       "text": [
        "\n",
        "toggling res: aaaa::201:2dcf:4629:4b4 - /actuators/toggle\n",
        "40"
       ]
      },
      {
       "output_type": "stream",
       "stream": "stdout",
       "text": [
        "\n",
        "toggled"
       ]
      },
      {
       "output_type": "stream",
       "stream": "stdout",
       "text": [
        "\n",
        "toggling res: aaaa::212:7400:bd8:80f5 - /actuators/toggle\n",
        "toggled"
       ]
      },
      {
       "output_type": "stream",
       "stream": "stdout",
       "text": [
        "\n",
        "toggling res: aaaa::212:7400:eda:98f0 - /actuators/toggle\n",
        "toggled"
       ]
      },
      {
       "output_type": "stream",
       "stream": "stdout",
       "text": [
        "\n",
        "toggling res: aaaa::212:7400:eda:e14a - /actuators/toggle\n",
        "toggled"
       ]
      },
      {
       "output_type": "stream",
       "stream": "stdout",
       "text": [
        "\n",
        "toggling res: aaaa::212:7400:bd8:7545 - /actuators/toggle\n",
        "toggled"
       ]
      },
      {
       "output_type": "stream",
       "stream": "stdout",
       "text": [
        "\n",
        "toggling res: aaaa::201:2dcf:4629:4b4 - /actuators/toggle\n",
        "41"
       ]
      },
      {
       "output_type": "stream",
       "stream": "stdout",
       "text": [
        "\n",
        "toggled"
       ]
      },
      {
       "output_type": "stream",
       "stream": "stdout",
       "text": [
        "\n",
        "toggling res: aaaa::212:7400:bd8:80f5 - /actuators/toggle\n",
        "toggled"
       ]
      },
      {
       "output_type": "stream",
       "stream": "stdout",
       "text": [
        "\n",
        "toggling res: aaaa::212:7400:eda:98f0 - /actuators/toggle\n",
        "toggled"
       ]
      },
      {
       "output_type": "stream",
       "stream": "stdout",
       "text": [
        "\n",
        "toggling res: aaaa::212:7400:eda:e14a - /actuators/toggle\n",
        "toggled"
       ]
      },
      {
       "output_type": "stream",
       "stream": "stdout",
       "text": [
        "\n",
        "toggling res: aaaa::212:7400:bd8:7545 - /actuators/toggle\n",
        "toggled"
       ]
      },
      {
       "output_type": "stream",
       "stream": "stdout",
       "text": [
        "\n",
        "toggling res: aaaa::201:2dcf:4629:4b4 - /actuators/toggle\n",
        "42"
       ]
      },
      {
       "output_type": "stream",
       "stream": "stdout",
       "text": [
        "\n",
        "toggled"
       ]
      },
      {
       "output_type": "stream",
       "stream": "stdout",
       "text": [
        "\n",
        "toggling res: aaaa::212:7400:bd8:80f5 - /actuators/toggle\n",
        "toggled"
       ]
      },
      {
       "output_type": "stream",
       "stream": "stdout",
       "text": [
        "\n",
        "toggling res: aaaa::212:7400:eda:98f0 - /actuators/toggle\n",
        "toggled"
       ]
      },
      {
       "output_type": "stream",
       "stream": "stdout",
       "text": [
        "\n",
        "toggling res: aaaa::212:7400:eda:e14a - /actuators/toggle\n",
        "toggled"
       ]
      },
      {
       "output_type": "stream",
       "stream": "stdout",
       "text": [
        "\n",
        "toggling res: aaaa::212:7400:bd8:7545 - /actuators/toggle\n",
        "toggled"
       ]
      },
      {
       "output_type": "stream",
       "stream": "stdout",
       "text": [
        "\n",
        "toggling res: aaaa::201:2dcf:4629:4b4 - /actuators/toggle\n",
        "43"
       ]
      },
      {
       "output_type": "stream",
       "stream": "stdout",
       "text": [
        "\n",
        "toggled"
       ]
      },
      {
       "output_type": "stream",
       "stream": "stdout",
       "text": [
        "\n",
        "toggling res: aaaa::212:7400:bd8:80f5 - /actuators/toggle\n",
        "toggled"
       ]
      },
      {
       "output_type": "stream",
       "stream": "stdout",
       "text": [
        "\n",
        "toggling res: aaaa::212:7400:eda:98f0 - /actuators/toggle\n",
        "toggled"
       ]
      },
      {
       "output_type": "stream",
       "stream": "stdout",
       "text": [
        "\n",
        "toggling res: aaaa::212:7400:eda:e14a - /actuators/toggle\n",
        "toggled"
       ]
      },
      {
       "output_type": "stream",
       "stream": "stdout",
       "text": [
        "\n",
        "toggling res: aaaa::212:7400:bd8:7545 - /actuators/toggle\n",
        "toggled"
       ]
      },
      {
       "output_type": "stream",
       "stream": "stdout",
       "text": [
        "\n",
        "toggling res: aaaa::201:2dcf:4629:4b4 - /actuators/toggle\n",
        "44"
       ]
      },
      {
       "output_type": "stream",
       "stream": "stdout",
       "text": [
        "\n",
        "toggled"
       ]
      },
      {
       "output_type": "stream",
       "stream": "stdout",
       "text": [
        "\n",
        "toggling res: aaaa::212:7400:bd8:80f5 - /actuators/toggle\n",
        "toggled"
       ]
      },
      {
       "output_type": "stream",
       "stream": "stdout",
       "text": [
        "\n",
        "toggling res: aaaa::212:7400:eda:98f0 - /actuators/toggle\n",
        "toggled"
       ]
      },
      {
       "output_type": "stream",
       "stream": "stdout",
       "text": [
        "\n",
        "toggling res: aaaa::212:7400:eda:e14a - /actuators/toggle\n",
        "toggled"
       ]
      },
      {
       "output_type": "stream",
       "stream": "stdout",
       "text": [
        "\n",
        "toggling res: aaaa::212:7400:bd8:7545 - /actuators/toggle\n",
        "toggled"
       ]
      },
      {
       "output_type": "stream",
       "stream": "stdout",
       "text": [
        "\n",
        "toggling res: aaaa::201:2dcf:4629:4b4 - /actuators/toggle\n",
        "45"
       ]
      },
      {
       "output_type": "stream",
       "stream": "stdout",
       "text": [
        "\n",
        "toggled"
       ]
      },
      {
       "output_type": "stream",
       "stream": "stdout",
       "text": [
        "\n",
        "toggling res: aaaa::212:7400:bd8:80f5 - /actuators/toggle\n",
        "toggled"
       ]
      },
      {
       "output_type": "stream",
       "stream": "stdout",
       "text": [
        "\n",
        "toggling res: aaaa::212:7400:eda:98f0 - /actuators/toggle\n",
        "toggled"
       ]
      },
      {
       "output_type": "stream",
       "stream": "stdout",
       "text": [
        "\n",
        "toggling res: aaaa::212:7400:eda:e14a - /actuators/toggle\n",
        "toggled"
       ]
      },
      {
       "output_type": "stream",
       "stream": "stdout",
       "text": [
        "\n",
        "toggling res: aaaa::212:7400:bd8:7545 - /actuators/toggle\n",
        "toggled"
       ]
      },
      {
       "output_type": "stream",
       "stream": "stdout",
       "text": [
        "\n",
        "toggling res: aaaa::201:2dcf:4629:4b4 - /actuators/toggle\n",
        "46"
       ]
      },
      {
       "output_type": "stream",
       "stream": "stdout",
       "text": [
        "\n",
        "toggled"
       ]
      },
      {
       "output_type": "stream",
       "stream": "stdout",
       "text": [
        "\n",
        "toggling res: aaaa::212:7400:bd8:80f5 - /actuators/toggle\n",
        "toggled"
       ]
      },
      {
       "output_type": "stream",
       "stream": "stdout",
       "text": [
        "\n",
        "toggling res: aaaa::212:7400:eda:98f0 - /actuators/toggle\n",
        "toggled"
       ]
      },
      {
       "output_type": "stream",
       "stream": "stdout",
       "text": [
        "\n",
        "toggling res: aaaa::212:7400:eda:e14a - /actuators/toggle\n",
        "toggled"
       ]
      },
      {
       "output_type": "stream",
       "stream": "stdout",
       "text": [
        "\n",
        "toggling res: aaaa::212:7400:bd8:7545 - /actuators/toggle\n",
        "toggled"
       ]
      },
      {
       "output_type": "stream",
       "stream": "stdout",
       "text": [
        "\n",
        "toggling res: aaaa::201:2dcf:4629:4b4 - /actuators/toggle\n",
        "47"
       ]
      },
      {
       "output_type": "stream",
       "stream": "stdout",
       "text": [
        "\n",
        "toggled"
       ]
      },
      {
       "output_type": "stream",
       "stream": "stdout",
       "text": [
        "\n",
        "toggling res: aaaa::212:7400:bd8:80f5 - /actuators/toggle\n",
        "toggled"
       ]
      },
      {
       "output_type": "stream",
       "stream": "stdout",
       "text": [
        "\n",
        "toggling res: aaaa::212:7400:eda:98f0 - /actuators/toggle\n",
        "toggled"
       ]
      },
      {
       "output_type": "stream",
       "stream": "stdout",
       "text": [
        "\n",
        "toggling res: aaaa::212:7400:eda:e14a - /actuators/toggle\n",
        "toggled"
       ]
      },
      {
       "output_type": "stream",
       "stream": "stdout",
       "text": [
        "\n",
        "toggling res: aaaa::212:7400:bd8:7545 - /actuators/toggle\n",
        "toggled"
       ]
      },
      {
       "output_type": "stream",
       "stream": "stdout",
       "text": [
        "\n",
        "toggling res: aaaa::201:2dcf:4629:4b4 - /actuators/toggle\n",
        "48"
       ]
      },
      {
       "output_type": "stream",
       "stream": "stdout",
       "text": [
        "\n",
        "toggled"
       ]
      },
      {
       "output_type": "stream",
       "stream": "stdout",
       "text": [
        "\n",
        "toggling res: aaaa::212:7400:bd8:80f5 - /actuators/toggle\n",
        "toggled"
       ]
      },
      {
       "output_type": "stream",
       "stream": "stdout",
       "text": [
        "\n",
        "toggling res: aaaa::212:7400:eda:98f0 - /actuators/toggle\n",
        "toggled"
       ]
      },
      {
       "output_type": "stream",
       "stream": "stdout",
       "text": [
        "\n",
        "toggling res: aaaa::212:7400:eda:e14a - /actuators/toggle\n",
        "toggled"
       ]
      },
      {
       "output_type": "stream",
       "stream": "stdout",
       "text": [
        "\n",
        "toggling res: aaaa::212:7400:bd8:7545 - /actuators/toggle\n",
        "toggled"
       ]
      },
      {
       "output_type": "stream",
       "stream": "stdout",
       "text": [
        "\n",
        "toggling res: aaaa::201:2dcf:4629:4b4 - /actuators/toggle\n",
        "49"
       ]
      },
      {
       "output_type": "stream",
       "stream": "stdout",
       "text": [
        "\n",
        "toggled"
       ]
      },
      {
       "output_type": "stream",
       "stream": "stdout",
       "text": [
        "\n",
        "toggling res: aaaa::212:7400:bd8:80f5 - /actuators/toggle\n",
        "toggled"
       ]
      },
      {
       "output_type": "stream",
       "stream": "stdout",
       "text": [
        "\n",
        "toggling res: aaaa::212:7400:eda:98f0 - /actuators/toggle\n",
        "toggled"
       ]
      },
      {
       "output_type": "stream",
       "stream": "stdout",
       "text": [
        "\n",
        "toggling res: aaaa::212:7400:eda:e14a - /actuators/toggle\n",
        "toggled"
       ]
      },
      {
       "output_type": "stream",
       "stream": "stdout",
       "text": [
        "\n",
        "toggling res: aaaa::212:7400:bd8:7545 - /actuators/toggle\n",
        "toggled"
       ]
      },
      {
       "output_type": "stream",
       "stream": "stdout",
       "text": [
        "\n",
        "toggling res: aaaa::201:2dcf:4629:4b4 - /actuators/toggle\n",
        "50"
       ]
      },
      {
       "output_type": "stream",
       "stream": "stdout",
       "text": [
        "\n",
        "toggled"
       ]
      },
      {
       "output_type": "stream",
       "stream": "stdout",
       "text": [
        "\n",
        "toggling res: aaaa::212:7400:bd8:80f5 - /actuators/toggle\n",
        "toggled"
       ]
      },
      {
       "output_type": "stream",
       "stream": "stdout",
       "text": [
        "\n",
        "toggling res: aaaa::212:7400:eda:98f0 - /actuators/toggle\n",
        "toggled"
       ]
      },
      {
       "output_type": "stream",
       "stream": "stdout",
       "text": [
        "\n",
        "toggling res: aaaa::212:7400:eda:e14a - /actuators/toggle\n",
        "toggled"
       ]
      },
      {
       "output_type": "stream",
       "stream": "stdout",
       "text": [
        "\n",
        "toggling res: aaaa::212:7400:bd8:7545 - /actuators/toggle\n",
        "toggled"
       ]
      },
      {
       "output_type": "stream",
       "stream": "stdout",
       "text": [
        "\n",
        "toggling res: aaaa::201:2dcf:4629:4b4 - /actuators/toggle\n",
        "51"
       ]
      },
      {
       "output_type": "stream",
       "stream": "stdout",
       "text": [
        "\n",
        "toggled"
       ]
      },
      {
       "output_type": "stream",
       "stream": "stdout",
       "text": [
        "\n",
        "toggling res: aaaa::212:7400:bd8:80f5 - /actuators/toggle\n",
        "toggled"
       ]
      },
      {
       "output_type": "stream",
       "stream": "stdout",
       "text": [
        "\n",
        "toggling res: aaaa::212:7400:eda:98f0 - /actuators/toggle\n",
        "toggled"
       ]
      },
      {
       "output_type": "stream",
       "stream": "stdout",
       "text": [
        "\n",
        "toggling res: aaaa::212:7400:eda:e14a - /actuators/toggle\n",
        "toggled"
       ]
      },
      {
       "output_type": "stream",
       "stream": "stdout",
       "text": [
        "\n",
        "toggling res: aaaa::212:7400:bd8:7545 - /actuators/toggle\n",
        "toggled"
       ]
      },
      {
       "output_type": "stream",
       "stream": "stdout",
       "text": [
        "\n",
        "toggling res: aaaa::201:2dcf:4629:4b4 - /actuators/toggle\n",
        "52"
       ]
      },
      {
       "output_type": "stream",
       "stream": "stdout",
       "text": [
        "\n",
        "toggled"
       ]
      },
      {
       "output_type": "stream",
       "stream": "stdout",
       "text": [
        "\n",
        "toggling res: aaaa::212:7400:bd8:80f5 - /actuators/toggle\n",
        "toggled"
       ]
      },
      {
       "output_type": "stream",
       "stream": "stdout",
       "text": [
        "\n",
        "toggling res: aaaa::212:7400:eda:98f0 - /actuators/toggle\n",
        "toggled"
       ]
      },
      {
       "output_type": "stream",
       "stream": "stdout",
       "text": [
        "\n",
        "toggling res: aaaa::212:7400:eda:e14a - /actuators/toggle\n",
        "toggled"
       ]
      },
      {
       "output_type": "stream",
       "stream": "stdout",
       "text": [
        "\n",
        "toggling res: aaaa::212:7400:bd8:7545 - /actuators/toggle\n",
        "toggled"
       ]
      },
      {
       "output_type": "stream",
       "stream": "stdout",
       "text": [
        "\n",
        "toggling res: aaaa::201:2dcf:4629:4b4 - /actuators/toggle\n",
        "53"
       ]
      },
      {
       "output_type": "stream",
       "stream": "stdout",
       "text": [
        "\n",
        "toggled"
       ]
      },
      {
       "output_type": "stream",
       "stream": "stdout",
       "text": [
        "\n",
        "toggling res: aaaa::212:7400:bd8:80f5 - /actuators/toggle\n",
        "toggled"
       ]
      },
      {
       "output_type": "stream",
       "stream": "stdout",
       "text": [
        "\n",
        "toggling res: aaaa::212:7400:eda:98f0 - /actuators/toggle\n",
        "toggled"
       ]
      },
      {
       "output_type": "stream",
       "stream": "stdout",
       "text": [
        "\n",
        "toggling res: aaaa::212:7400:eda:e14a - /actuators/toggle\n",
        "toggled"
       ]
      },
      {
       "output_type": "stream",
       "stream": "stdout",
       "text": [
        "\n",
        "toggling res: aaaa::212:7400:bd8:7545 - /actuators/toggle\n",
        "toggled"
       ]
      },
      {
       "output_type": "stream",
       "stream": "stdout",
       "text": [
        "\n",
        "toggling res: aaaa::201:2dcf:4629:4b4 - /actuators/toggle\n",
        "54"
       ]
      },
      {
       "output_type": "stream",
       "stream": "stdout",
       "text": [
        "\n",
        "toggled"
       ]
      },
      {
       "output_type": "stream",
       "stream": "stdout",
       "text": [
        "\n",
        "toggling res: aaaa::212:7400:bd8:80f5 - /actuators/toggle\n",
        "toggled"
       ]
      },
      {
       "output_type": "stream",
       "stream": "stdout",
       "text": [
        "\n",
        "toggling res: aaaa::212:7400:eda:98f0 - /actuators/toggle\n",
        "toggled"
       ]
      },
      {
       "output_type": "stream",
       "stream": "stdout",
       "text": [
        "\n",
        "toggling res: aaaa::212:7400:eda:e14a - /actuators/toggle\n",
        "toggled"
       ]
      },
      {
       "output_type": "stream",
       "stream": "stdout",
       "text": [
        "\n",
        "toggling res: aaaa::212:7400:bd8:7545 - /actuators/toggle\n",
        "toggled"
       ]
      },
      {
       "output_type": "stream",
       "stream": "stdout",
       "text": [
        "\n",
        "toggling res: aaaa::201:2dcf:4629:4b4 - /actuators/toggle\n",
        "55"
       ]
      },
      {
       "output_type": "stream",
       "stream": "stdout",
       "text": [
        "\n",
        "toggled"
       ]
      },
      {
       "output_type": "stream",
       "stream": "stdout",
       "text": [
        "\n",
        "toggling res: aaaa::212:7400:bd8:80f5 - /actuators/toggle\n",
        "toggled"
       ]
      },
      {
       "output_type": "stream",
       "stream": "stdout",
       "text": [
        "\n",
        "toggling res: aaaa::212:7400:eda:98f0 - /actuators/toggle\n",
        "toggled"
       ]
      },
      {
       "output_type": "stream",
       "stream": "stdout",
       "text": [
        "\n",
        "toggling res: aaaa::212:7400:eda:e14a - /actuators/toggle\n",
        "toggled"
       ]
      },
      {
       "output_type": "stream",
       "stream": "stdout",
       "text": [
        "\n",
        "toggling res: aaaa::212:7400:bd8:7545 - /actuators/toggle\n",
        "toggled"
       ]
      },
      {
       "output_type": "stream",
       "stream": "stdout",
       "text": [
        "\n",
        "toggling res: aaaa::201:2dcf:4629:4b4 - /actuators/toggle\n",
        "56"
       ]
      },
      {
       "output_type": "stream",
       "stream": "stdout",
       "text": [
        "\n",
        "toggled"
       ]
      },
      {
       "output_type": "stream",
       "stream": "stdout",
       "text": [
        "\n",
        "toggling res: aaaa::212:7400:bd8:80f5 - /actuators/toggle\n",
        "toggled"
       ]
      },
      {
       "output_type": "stream",
       "stream": "stdout",
       "text": [
        "\n",
        "toggling res: aaaa::212:7400:eda:98f0 - /actuators/toggle\n",
        "toggled"
       ]
      },
      {
       "output_type": "stream",
       "stream": "stdout",
       "text": [
        "\n",
        "toggling res: aaaa::212:7400:eda:e14a - /actuators/toggle\n",
        "toggled"
       ]
      },
      {
       "output_type": "stream",
       "stream": "stdout",
       "text": [
        "\n",
        "toggling res: aaaa::212:7400:bd8:7545 - /actuators/toggle\n",
        "toggled"
       ]
      },
      {
       "output_type": "stream",
       "stream": "stdout",
       "text": [
        "\n",
        "toggling res: aaaa::201:2dcf:4629:4b4 - /actuators/toggle\n",
        "57"
       ]
      },
      {
       "output_type": "stream",
       "stream": "stdout",
       "text": [
        "\n",
        "toggled"
       ]
      },
      {
       "output_type": "stream",
       "stream": "stdout",
       "text": [
        "\n",
        "toggling res: aaaa::212:7400:bd8:80f5 - /actuators/toggle\n",
        "toggled"
       ]
      },
      {
       "output_type": "stream",
       "stream": "stdout",
       "text": [
        "\n",
        "toggling res: aaaa::212:7400:eda:98f0 - /actuators/toggle\n",
        "toggled"
       ]
      },
      {
       "output_type": "stream",
       "stream": "stdout",
       "text": [
        "\n",
        "toggling res: aaaa::212:7400:eda:e14a - /actuators/toggle\n",
        "toggled"
       ]
      },
      {
       "output_type": "stream",
       "stream": "stdout",
       "text": [
        "\n",
        "toggling res: aaaa::212:7400:bd8:7545 - /actuators/toggle\n",
        "toggled"
       ]
      },
      {
       "output_type": "stream",
       "stream": "stdout",
       "text": [
        "\n",
        "toggling res: aaaa::201:2dcf:4629:4b4 - /actuators/toggle\n",
        "58"
       ]
      },
      {
       "output_type": "stream",
       "stream": "stdout",
       "text": [
        "\n",
        "toggled"
       ]
      },
      {
       "output_type": "stream",
       "stream": "stdout",
       "text": [
        "\n",
        "toggling res: aaaa::212:7400:bd8:80f5 - /actuators/toggle\n",
        "toggled"
       ]
      },
      {
       "output_type": "stream",
       "stream": "stdout",
       "text": [
        "\n",
        "toggling res: aaaa::212:7400:eda:98f0 - /actuators/toggle\n",
        "toggled"
       ]
      },
      {
       "output_type": "stream",
       "stream": "stdout",
       "text": [
        "\n",
        "toggling res: aaaa::212:7400:eda:e14a - /actuators/toggle\n",
        "toggled"
       ]
      },
      {
       "output_type": "stream",
       "stream": "stdout",
       "text": [
        "\n",
        "toggling res: aaaa::212:7400:bd8:7545 - /actuators/toggle\n",
        "toggled"
       ]
      },
      {
       "output_type": "stream",
       "stream": "stdout",
       "text": [
        "\n",
        "toggling res: aaaa::201:2dcf:4629:4b4 - /actuators/toggle\n",
        "59"
       ]
      },
      {
       "output_type": "stream",
       "stream": "stdout",
       "text": [
        "\n",
        "toggled"
       ]
      },
      {
       "output_type": "stream",
       "stream": "stdout",
       "text": [
        "\n",
        "toggling res: aaaa::212:7400:bd8:80f5 - /actuators/toggle\n",
        "toggled"
       ]
      },
      {
       "output_type": "stream",
       "stream": "stdout",
       "text": [
        "\n",
        "toggling res: aaaa::212:7400:eda:98f0 - /actuators/toggle\n",
        "toggled"
       ]
      },
      {
       "output_type": "stream",
       "stream": "stdout",
       "text": [
        "\n",
        "toggling res: aaaa::212:7400:eda:e14a - /actuators/toggle\n",
        "toggled"
       ]
      },
      {
       "output_type": "stream",
       "stream": "stdout",
       "text": [
        "\n",
        "toggling res: aaaa::212:7400:bd8:7545 - /actuators/toggle\n",
        "toggled"
       ]
      },
      {
       "output_type": "stream",
       "stream": "stdout",
       "text": [
        "\n",
        "toggling res: aaaa::201:2dcf:4629:4b4 - /actuators/toggle\n",
        "60"
       ]
      },
      {
       "output_type": "stream",
       "stream": "stdout",
       "text": [
        "\n",
        "toggled"
       ]
      },
      {
       "output_type": "stream",
       "stream": "stdout",
       "text": [
        "\n",
        "toggling res: aaaa::212:7400:bd8:80f5 - /actuators/toggle\n",
        "toggled"
       ]
      },
      {
       "output_type": "stream",
       "stream": "stdout",
       "text": [
        "\n",
        "toggling res: aaaa::212:7400:eda:98f0 - /actuators/toggle\n",
        "toggled"
       ]
      },
      {
       "output_type": "stream",
       "stream": "stdout",
       "text": [
        "\n",
        "toggling res: aaaa::212:7400:eda:e14a - /actuators/toggle\n",
        "toggled"
       ]
      },
      {
       "output_type": "stream",
       "stream": "stdout",
       "text": [
        "\n",
        "toggling res: aaaa::212:7400:bd8:7545 - /actuators/toggle\n",
        "toggled"
       ]
      },
      {
       "output_type": "stream",
       "stream": "stdout",
       "text": [
        "\n",
        "toggling res: aaaa::201:2dcf:4629:4b4 - /actuators/toggle\n",
        "61"
       ]
      },
      {
       "output_type": "stream",
       "stream": "stdout",
       "text": [
        "\n",
        "toggled"
       ]
      },
      {
       "output_type": "stream",
       "stream": "stdout",
       "text": [
        "\n",
        "toggling res: aaaa::212:7400:bd8:80f5 - /actuators/toggle\n",
        "toggled"
       ]
      },
      {
       "output_type": "stream",
       "stream": "stdout",
       "text": [
        "\n",
        "toggling res: aaaa::212:7400:eda:98f0 - /actuators/toggle\n",
        "toggled"
       ]
      },
      {
       "output_type": "stream",
       "stream": "stdout",
       "text": [
        "\n",
        "toggling res: aaaa::212:7400:eda:e14a - /actuators/toggle\n",
        "toggled"
       ]
      },
      {
       "output_type": "stream",
       "stream": "stdout",
       "text": [
        "\n",
        "toggling res: aaaa::212:7400:bd8:7545 - /actuators/toggle\n",
        "toggled"
       ]
      },
      {
       "output_type": "stream",
       "stream": "stdout",
       "text": [
        "\n",
        "toggling res: aaaa::201:2dcf:4629:4b4 - /actuators/toggle\n",
        "62"
       ]
      },
      {
       "output_type": "stream",
       "stream": "stdout",
       "text": [
        "\n",
        "toggled"
       ]
      },
      {
       "output_type": "stream",
       "stream": "stdout",
       "text": [
        "\n",
        "toggling res: aaaa::212:7400:bd8:80f5 - /actuators/toggle\n",
        "toggled"
       ]
      },
      {
       "output_type": "stream",
       "stream": "stdout",
       "text": [
        "\n",
        "toggling res: aaaa::212:7400:eda:98f0 - /actuators/toggle\n",
        "toggled"
       ]
      },
      {
       "output_type": "stream",
       "stream": "stdout",
       "text": [
        "\n",
        "toggling res: aaaa::212:7400:eda:e14a - /actuators/toggle\n",
        "toggled"
       ]
      },
      {
       "output_type": "stream",
       "stream": "stdout",
       "text": [
        "\n",
        "toggling res: aaaa::212:7400:bd8:7545 - /actuators/toggle\n",
        "toggled"
       ]
      },
      {
       "output_type": "stream",
       "stream": "stdout",
       "text": [
        "\n",
        "toggling res: aaaa::201:2dcf:4629:4b4 - /actuators/toggle\n",
        "63"
       ]
      },
      {
       "output_type": "stream",
       "stream": "stdout",
       "text": [
        "\n",
        "toggled"
       ]
      },
      {
       "output_type": "stream",
       "stream": "stdout",
       "text": [
        "\n",
        "toggling res: aaaa::212:7400:bd8:80f5 - /actuators/toggle\n",
        "toggled"
       ]
      },
      {
       "output_type": "stream",
       "stream": "stdout",
       "text": [
        "\n",
        "toggling res: aaaa::212:7400:eda:98f0 - /actuators/toggle\n",
        "toggled"
       ]
      },
      {
       "output_type": "stream",
       "stream": "stdout",
       "text": [
        "\n",
        "toggling res: aaaa::212:7400:eda:e14a - /actuators/toggle\n",
        "toggled"
       ]
      },
      {
       "output_type": "stream",
       "stream": "stdout",
       "text": [
        "\n",
        "toggling res: aaaa::212:7400:bd8:7545 - /actuators/toggle\n",
        "toggled"
       ]
      },
      {
       "output_type": "stream",
       "stream": "stdout",
       "text": [
        "\n",
        "toggling res: aaaa::201:2dcf:4629:4b4 - /actuators/toggle\n",
        "64"
       ]
      },
      {
       "output_type": "stream",
       "stream": "stdout",
       "text": [
        "\n",
        "toggled"
       ]
      },
      {
       "output_type": "stream",
       "stream": "stdout",
       "text": [
        "\n",
        "toggling res: aaaa::212:7400:bd8:80f5 - /actuators/toggle\n",
        "toggled"
       ]
      },
      {
       "output_type": "stream",
       "stream": "stdout",
       "text": [
        "\n",
        "toggling res: aaaa::212:7400:eda:98f0 - /actuators/toggle\n",
        "toggled"
       ]
      },
      {
       "output_type": "stream",
       "stream": "stdout",
       "text": [
        "\n",
        "toggling res: aaaa::212:7400:eda:e14a - /actuators/toggle\n",
        "toggled"
       ]
      },
      {
       "output_type": "stream",
       "stream": "stdout",
       "text": [
        "\n",
        "toggling res: aaaa::212:7400:bd8:7545 - /actuators/toggle\n",
        "toggled"
       ]
      },
      {
       "output_type": "stream",
       "stream": "stdout",
       "text": [
        "\n",
        "toggling res: aaaa::201:2dcf:4629:4b4 - /actuators/toggle\n",
        "65"
       ]
      },
      {
       "output_type": "stream",
       "stream": "stdout",
       "text": [
        "\n",
        "toggled"
       ]
      },
      {
       "output_type": "stream",
       "stream": "stdout",
       "text": [
        "\n",
        "toggling res: aaaa::212:7400:bd8:80f5 - /actuators/toggle\n",
        "toggled"
       ]
      },
      {
       "output_type": "stream",
       "stream": "stdout",
       "text": [
        "\n",
        "toggling res: aaaa::212:7400:eda:98f0 - /actuators/toggle\n",
        "toggled"
       ]
      },
      {
       "output_type": "stream",
       "stream": "stdout",
       "text": [
        "\n",
        "toggling res: aaaa::212:7400:eda:e14a - /actuators/toggle\n",
        "toggled"
       ]
      },
      {
       "output_type": "stream",
       "stream": "stdout",
       "text": [
        "\n",
        "toggling res: aaaa::212:7400:bd8:7545 - /actuators/toggle\n",
        "toggled"
       ]
      },
      {
       "output_type": "stream",
       "stream": "stdout",
       "text": [
        "\n",
        "toggling res: aaaa::201:2dcf:4629:4b4 - /actuators/toggle\n",
        "66"
       ]
      },
      {
       "output_type": "stream",
       "stream": "stdout",
       "text": [
        "\n",
        "toggled"
       ]
      },
      {
       "output_type": "stream",
       "stream": "stdout",
       "text": [
        "\n",
        "toggling res: aaaa::212:7400:bd8:80f5 - /actuators/toggle\n",
        "toggled"
       ]
      },
      {
       "output_type": "stream",
       "stream": "stdout",
       "text": [
        "\n",
        "toggling res: aaaa::212:7400:eda:98f0 - /actuators/toggle\n",
        "toggled"
       ]
      },
      {
       "output_type": "stream",
       "stream": "stdout",
       "text": [
        "\n",
        "toggling res: aaaa::212:7400:eda:e14a - /actuators/toggle\n",
        "toggled"
       ]
      },
      {
       "output_type": "stream",
       "stream": "stdout",
       "text": [
        "\n",
        "toggling res: aaaa::212:7400:bd8:7545 - /actuators/toggle\n",
        "toggled"
       ]
      },
      {
       "output_type": "stream",
       "stream": "stdout",
       "text": [
        "\n",
        "toggling res: aaaa::201:2dcf:4629:4b4 - /actuators/toggle\n",
        "67"
       ]
      },
      {
       "output_type": "stream",
       "stream": "stdout",
       "text": [
        "\n",
        "toggled"
       ]
      },
      {
       "output_type": "stream",
       "stream": "stdout",
       "text": [
        "\n",
        "toggling res: aaaa::212:7400:bd8:80f5 - /actuators/toggle\n",
        "toggled"
       ]
      },
      {
       "output_type": "stream",
       "stream": "stdout",
       "text": [
        "\n",
        "toggling res: aaaa::212:7400:eda:98f0 - /actuators/toggle\n",
        "toggled"
       ]
      },
      {
       "output_type": "stream",
       "stream": "stdout",
       "text": [
        "\n",
        "toggling res: aaaa::212:7400:eda:e14a - /actuators/toggle\n",
        "toggled"
       ]
      },
      {
       "output_type": "stream",
       "stream": "stdout",
       "text": [
        "\n",
        "toggling res: aaaa::212:7400:bd8:7545 - /actuators/toggle\n",
        "toggled"
       ]
      },
      {
       "output_type": "stream",
       "stream": "stdout",
       "text": [
        "\n",
        "toggling res: aaaa::201:2dcf:4629:4b4 - /actuators/toggle\n",
        "68"
       ]
      },
      {
       "output_type": "stream",
       "stream": "stdout",
       "text": [
        "\n",
        "toggled"
       ]
      },
      {
       "output_type": "stream",
       "stream": "stdout",
       "text": [
        "\n",
        "toggling res: aaaa::212:7400:bd8:80f5 - /actuators/toggle\n",
        "toggled"
       ]
      },
      {
       "output_type": "stream",
       "stream": "stdout",
       "text": [
        "\n",
        "toggling res: aaaa::212:7400:eda:98f0 - /actuators/toggle\n",
        "toggled"
       ]
      },
      {
       "output_type": "stream",
       "stream": "stdout",
       "text": [
        "\n",
        "toggling res: aaaa::212:7400:eda:e14a - /actuators/toggle\n",
        "toggled"
       ]
      },
      {
       "output_type": "stream",
       "stream": "stdout",
       "text": [
        "\n",
        "toggling res: aaaa::212:7400:bd8:7545 - /actuators/toggle\n",
        "toggled"
       ]
      },
      {
       "output_type": "stream",
       "stream": "stdout",
       "text": [
        "\n",
        "toggling res: aaaa::201:2dcf:4629:4b4 - /actuators/toggle\n",
        "69"
       ]
      },
      {
       "output_type": "stream",
       "stream": "stdout",
       "text": [
        "\n",
        "toggled"
       ]
      },
      {
       "output_type": "stream",
       "stream": "stdout",
       "text": [
        "\n",
        "toggling res: aaaa::212:7400:bd8:80f5 - /actuators/toggle\n",
        "toggled"
       ]
      },
      {
       "output_type": "stream",
       "stream": "stdout",
       "text": [
        "\n",
        "toggling res: aaaa::212:7400:eda:98f0 - /actuators/toggle\n",
        "toggled"
       ]
      },
      {
       "output_type": "stream",
       "stream": "stdout",
       "text": [
        "\n",
        "toggling res: aaaa::212:7400:eda:e14a - /actuators/toggle\n",
        "toggled"
       ]
      },
      {
       "output_type": "stream",
       "stream": "stdout",
       "text": [
        "\n",
        "toggling res: aaaa::212:7400:bd8:7545 - /actuators/toggle\n",
        "toggled"
       ]
      },
      {
       "output_type": "stream",
       "stream": "stdout",
       "text": [
        "\n",
        "toggling res: aaaa::201:2dcf:4629:4b4 - /actuators/toggle\n",
        "70"
       ]
      },
      {
       "output_type": "stream",
       "stream": "stdout",
       "text": [
        "\n",
        "toggled"
       ]
      },
      {
       "output_type": "stream",
       "stream": "stdout",
       "text": [
        "\n",
        "toggling res: aaaa::212:7400:bd8:80f5 - /actuators/toggle\n",
        "toggled"
       ]
      },
      {
       "output_type": "stream",
       "stream": "stdout",
       "text": [
        "\n",
        "toggling res: aaaa::212:7400:eda:98f0 - /actuators/toggle\n",
        "toggled"
       ]
      },
      {
       "output_type": "stream",
       "stream": "stdout",
       "text": [
        "\n",
        "toggling res: aaaa::212:7400:eda:e14a - /actuators/toggle\n",
        "toggled"
       ]
      },
      {
       "output_type": "stream",
       "stream": "stdout",
       "text": [
        "\n",
        "toggling res: aaaa::212:7400:bd8:7545 - /actuators/toggle\n",
        "toggled"
       ]
      },
      {
       "output_type": "stream",
       "stream": "stdout",
       "text": [
        "\n",
        "toggling res: aaaa::201:2dcf:4629:4b4 - /actuators/toggle\n",
        "71"
       ]
      },
      {
       "output_type": "stream",
       "stream": "stdout",
       "text": [
        "\n",
        "toggled"
       ]
      },
      {
       "output_type": "stream",
       "stream": "stdout",
       "text": [
        "\n",
        "toggling res: aaaa::212:7400:bd8:80f5 - /actuators/toggle\n",
        "toggled"
       ]
      },
      {
       "output_type": "stream",
       "stream": "stdout",
       "text": [
        "\n",
        "toggling res: aaaa::212:7400:eda:98f0 - /actuators/toggle\n",
        "toggled"
       ]
      },
      {
       "output_type": "stream",
       "stream": "stdout",
       "text": [
        "\n",
        "toggling res: aaaa::212:7400:eda:e14a - /actuators/toggle\n",
        "toggled"
       ]
      },
      {
       "output_type": "stream",
       "stream": "stdout",
       "text": [
        "\n",
        "toggling res: aaaa::212:7400:bd8:7545 - /actuators/toggle\n",
        "toggled"
       ]
      },
      {
       "output_type": "stream",
       "stream": "stdout",
       "text": [
        "\n",
        "toggling res: aaaa::201:2dcf:4629:4b4 - /actuators/toggle\n",
        "72"
       ]
      },
      {
       "output_type": "stream",
       "stream": "stdout",
       "text": [
        "\n",
        "toggled"
       ]
      },
      {
       "output_type": "stream",
       "stream": "stdout",
       "text": [
        "\n",
        "toggling res: aaaa::212:7400:bd8:80f5 - /actuators/toggle\n",
        "toggled"
       ]
      },
      {
       "output_type": "stream",
       "stream": "stdout",
       "text": [
        "\n",
        "toggling res: aaaa::212:7400:eda:98f0 - /actuators/toggle\n",
        "toggled"
       ]
      },
      {
       "output_type": "stream",
       "stream": "stdout",
       "text": [
        "\n",
        "toggling res: aaaa::212:7400:eda:e14a - /actuators/toggle\n",
        "toggled"
       ]
      },
      {
       "output_type": "stream",
       "stream": "stdout",
       "text": [
        "\n",
        "toggling res: aaaa::212:7400:bd8:7545 - /actuators/toggle\n",
        "toggled"
       ]
      },
      {
       "output_type": "stream",
       "stream": "stdout",
       "text": [
        "\n",
        "toggling res: aaaa::201:2dcf:4629:4b4 - /actuators/toggle\n",
        "73"
       ]
      },
      {
       "output_type": "stream",
       "stream": "stdout",
       "text": [
        "\n",
        "toggled"
       ]
      },
      {
       "output_type": "stream",
       "stream": "stdout",
       "text": [
        "\n",
        "toggling res: aaaa::212:7400:bd8:80f5 - /actuators/toggle\n",
        "toggled"
       ]
      },
      {
       "output_type": "stream",
       "stream": "stdout",
       "text": [
        "\n",
        "toggling res: aaaa::212:7400:eda:98f0 - /actuators/toggle\n",
        "toggled"
       ]
      },
      {
       "output_type": "stream",
       "stream": "stdout",
       "text": [
        "\n",
        "toggling res: aaaa::212:7400:eda:e14a - /actuators/toggle\n",
        "toggled"
       ]
      },
      {
       "output_type": "stream",
       "stream": "stdout",
       "text": [
        "\n",
        "toggling res: aaaa::212:7400:bd8:7545 - /actuators/toggle\n",
        "toggled"
       ]
      },
      {
       "output_type": "stream",
       "stream": "stdout",
       "text": [
        "\n",
        "toggling res: aaaa::201:2dcf:4629:4b4 - /actuators/toggle\n",
        "74"
       ]
      },
      {
       "output_type": "stream",
       "stream": "stdout",
       "text": [
        "\n",
        "toggled"
       ]
      },
      {
       "output_type": "stream",
       "stream": "stdout",
       "text": [
        "\n",
        "toggling res: aaaa::212:7400:bd8:80f5 - /actuators/toggle\n",
        "toggled"
       ]
      },
      {
       "output_type": "stream",
       "stream": "stdout",
       "text": [
        "\n",
        "toggling res: aaaa::212:7400:eda:98f0 - /actuators/toggle\n",
        "toggled"
       ]
      },
      {
       "output_type": "stream",
       "stream": "stdout",
       "text": [
        "\n",
        "toggling res: aaaa::212:7400:eda:e14a - /actuators/toggle\n",
        "toggled"
       ]
      },
      {
       "output_type": "stream",
       "stream": "stdout",
       "text": [
        "\n",
        "toggling res: aaaa::212:7400:bd8:7545 - /actuators/toggle\n",
        "toggled"
       ]
      },
      {
       "output_type": "stream",
       "stream": "stdout",
       "text": [
        "\n",
        "toggling res: aaaa::201:2dcf:4629:4b4 - /actuators/toggle\n",
        "75"
       ]
      },
      {
       "output_type": "stream",
       "stream": "stdout",
       "text": [
        "\n",
        "toggled"
       ]
      },
      {
       "output_type": "stream",
       "stream": "stdout",
       "text": [
        "\n",
        "toggling res: aaaa::212:7400:bd8:80f5 - /actuators/toggle\n",
        "toggled"
       ]
      },
      {
       "output_type": "stream",
       "stream": "stdout",
       "text": [
        "\n",
        "toggling res: aaaa::212:7400:eda:98f0 - /actuators/toggle\n",
        "toggled"
       ]
      },
      {
       "output_type": "stream",
       "stream": "stdout",
       "text": [
        "\n",
        "toggling res: aaaa::212:7400:eda:e14a - /actuators/toggle\n",
        "toggled"
       ]
      },
      {
       "output_type": "stream",
       "stream": "stdout",
       "text": [
        "\n",
        "toggling res: aaaa::212:7400:bd8:7545 - /actuators/toggle\n",
        "toggled"
       ]
      },
      {
       "output_type": "stream",
       "stream": "stdout",
       "text": [
        "\n",
        "toggling res: aaaa::201:2dcf:4629:4b4 - /actuators/toggle\n",
        "76"
       ]
      },
      {
       "output_type": "stream",
       "stream": "stdout",
       "text": [
        "\n",
        "toggled"
       ]
      },
      {
       "output_type": "stream",
       "stream": "stdout",
       "text": [
        "\n",
        "toggling res: aaaa::212:7400:bd8:80f5 - /actuators/toggle\n",
        "toggled"
       ]
      },
      {
       "output_type": "stream",
       "stream": "stdout",
       "text": [
        "\n",
        "toggling res: aaaa::212:7400:eda:98f0 - /actuators/toggle\n",
        "toggled"
       ]
      },
      {
       "output_type": "stream",
       "stream": "stdout",
       "text": [
        "\n",
        "toggling res: aaaa::212:7400:eda:e14a - /actuators/toggle\n",
        "toggled"
       ]
      },
      {
       "output_type": "stream",
       "stream": "stdout",
       "text": [
        "\n",
        "toggling res: aaaa::212:7400:bd8:7545 - /actuators/toggle\n",
        "toggled"
       ]
      },
      {
       "output_type": "stream",
       "stream": "stdout",
       "text": [
        "\n",
        "toggling res: aaaa::201:2dcf:4629:4b4 - /actuators/toggle\n",
        "77"
       ]
      },
      {
       "output_type": "stream",
       "stream": "stdout",
       "text": [
        "\n",
        "toggled"
       ]
      },
      {
       "output_type": "stream",
       "stream": "stdout",
       "text": [
        "\n",
        "toggling res: aaaa::212:7400:bd8:80f5 - /actuators/toggle\n",
        "toggled"
       ]
      },
      {
       "output_type": "stream",
       "stream": "stdout",
       "text": [
        "\n",
        "toggling res: aaaa::212:7400:eda:98f0 - /actuators/toggle\n",
        "toggled"
       ]
      },
      {
       "output_type": "stream",
       "stream": "stdout",
       "text": [
        "\n",
        "toggling res: aaaa::212:7400:eda:e14a - /actuators/toggle\n",
        "toggled"
       ]
      },
      {
       "output_type": "stream",
       "stream": "stdout",
       "text": [
        "\n",
        "toggling res: aaaa::212:7400:bd8:7545 - /actuators/toggle\n",
        "toggled"
       ]
      },
      {
       "output_type": "stream",
       "stream": "stdout",
       "text": [
        "\n",
        "toggling res: aaaa::201:2dcf:4629:4b4 - /actuators/toggle\n",
        "78"
       ]
      },
      {
       "output_type": "stream",
       "stream": "stdout",
       "text": [
        "\n",
        "toggled"
       ]
      },
      {
       "output_type": "stream",
       "stream": "stdout",
       "text": [
        "\n",
        "toggling res: aaaa::212:7400:bd8:80f5 - /actuators/toggle\n",
        "toggled"
       ]
      },
      {
       "output_type": "stream",
       "stream": "stdout",
       "text": [
        "\n",
        "toggling res: aaaa::212:7400:eda:98f0 - /actuators/toggle\n",
        "toggled"
       ]
      },
      {
       "output_type": "stream",
       "stream": "stdout",
       "text": [
        "\n",
        "toggling res: aaaa::212:7400:eda:e14a - /actuators/toggle\n",
        "toggled"
       ]
      },
      {
       "output_type": "stream",
       "stream": "stdout",
       "text": [
        "\n",
        "toggling res: aaaa::212:7400:bd8:7545 - /actuators/toggle\n",
        "toggled"
       ]
      },
      {
       "output_type": "stream",
       "stream": "stdout",
       "text": [
        "\n",
        "toggling res: aaaa::201:2dcf:4629:4b4 - /actuators/toggle\n",
        "79"
       ]
      },
      {
       "output_type": "stream",
       "stream": "stdout",
       "text": [
        "\n",
        "toggled"
       ]
      },
      {
       "output_type": "stream",
       "stream": "stdout",
       "text": [
        "\n",
        "toggling res: aaaa::212:7400:bd8:80f5 - /actuators/toggle\n",
        "toggled"
       ]
      },
      {
       "output_type": "stream",
       "stream": "stdout",
       "text": [
        "\n",
        "toggling res: aaaa::212:7400:eda:98f0 - /actuators/toggle\n",
        "toggled"
       ]
      },
      {
       "output_type": "stream",
       "stream": "stdout",
       "text": [
        "\n",
        "toggling res: aaaa::212:7400:eda:e14a - /actuators/toggle\n",
        "toggled"
       ]
      },
      {
       "output_type": "stream",
       "stream": "stdout",
       "text": [
        "\n",
        "toggling res: aaaa::212:7400:bd8:7545 - /actuators/toggle\n",
        "toggled"
       ]
      },
      {
       "output_type": "stream",
       "stream": "stdout",
       "text": [
        "\n",
        "toggling res: aaaa::201:2dcf:4629:4b4 - /actuators/toggle\n",
        "80"
       ]
      },
      {
       "output_type": "stream",
       "stream": "stdout",
       "text": [
        "\n",
        "toggled"
       ]
      },
      {
       "output_type": "stream",
       "stream": "stdout",
       "text": [
        "\n",
        "toggling res: aaaa::212:7400:bd8:80f5 - /actuators/toggle\n",
        "toggled"
       ]
      },
      {
       "output_type": "stream",
       "stream": "stdout",
       "text": [
        "\n",
        "toggling res: aaaa::212:7400:eda:98f0 - /actuators/toggle\n",
        "toggled"
       ]
      },
      {
       "output_type": "stream",
       "stream": "stdout",
       "text": [
        "\n",
        "toggling res: aaaa::212:7400:eda:e14a - /actuators/toggle\n",
        "toggled"
       ]
      },
      {
       "output_type": "stream",
       "stream": "stdout",
       "text": [
        "\n",
        "toggling res: aaaa::212:7400:bd8:7545 - /actuators/toggle\n",
        "toggled"
       ]
      },
      {
       "output_type": "stream",
       "stream": "stdout",
       "text": [
        "\n",
        "toggling res: aaaa::201:2dcf:4629:4b4 - /actuators/toggle\n",
        "81"
       ]
      },
      {
       "output_type": "stream",
       "stream": "stdout",
       "text": [
        "\n",
        "toggled"
       ]
      },
      {
       "output_type": "stream",
       "stream": "stdout",
       "text": [
        "\n",
        "toggling res: aaaa::212:7400:bd8:80f5 - /actuators/toggle\n",
        "0.00"
       ]
      },
      {
       "output_type": "stream",
       "stream": "stdout",
       "text": [
        "\n",
        "toggling res: aaaa::212:7400:eda:98f0 - /actuators/toggle\n",
        "toggled"
       ]
      },
      {
       "output_type": "stream",
       "stream": "stdout",
       "text": [
        "\n",
        "toggling res: aaaa::212:7400:eda:e14a - /actuators/toggle\n",
        "toggled"
       ]
      },
      {
       "output_type": "stream",
       "stream": "stdout",
       "text": [
        "\n",
        "toggling res: aaaa::212:7400:bd8:7545 - /actuators/toggle\n",
        "toggled"
       ]
      },
      {
       "output_type": "stream",
       "stream": "stdout",
       "text": [
        "\n",
        "toggling res: aaaa::201:2dcf:4629:4b4 - /actuators/toggle\n",
        "82"
       ]
      },
      {
       "output_type": "stream",
       "stream": "stdout",
       "text": [
        "\n",
        "toggled"
       ]
      },
      {
       "output_type": "stream",
       "stream": "stdout",
       "text": [
        "\n",
        "toggling res: aaaa::212:7400:bd8:80f5 - /actuators/toggle\n",
        "toggled"
       ]
      },
      {
       "output_type": "stream",
       "stream": "stdout",
       "text": [
        "\n",
        "toggling res: aaaa::212:7400:eda:98f0 - /actuators/toggle\n",
        "toggled"
       ]
      },
      {
       "output_type": "stream",
       "stream": "stdout",
       "text": [
        "\n",
        "toggling res: aaaa::212:7400:eda:e14a - /actuators/toggle\n",
        "toggled"
       ]
      },
      {
       "output_type": "stream",
       "stream": "stdout",
       "text": [
        "\n",
        "toggling res: aaaa::212:7400:bd8:7545 - /actuators/toggle\n",
        "toggled"
       ]
      },
      {
       "output_type": "stream",
       "stream": "stdout",
       "text": [
        "\n",
        "toggling res: aaaa::201:2dcf:4629:4b4 - /actuators/toggle\n",
        "83"
       ]
      },
      {
       "output_type": "stream",
       "stream": "stdout",
       "text": [
        "\n",
        "toggled"
       ]
      },
      {
       "output_type": "stream",
       "stream": "stdout",
       "text": [
        "\n",
        "toggling res: aaaa::212:7400:bd8:80f5 - /actuators/toggle\n",
        "toggled"
       ]
      },
      {
       "output_type": "stream",
       "stream": "stdout",
       "text": [
        "\n",
        "toggling res: aaaa::212:7400:eda:98f0 - /actuators/toggle\n",
        "toggled"
       ]
      },
      {
       "output_type": "stream",
       "stream": "stdout",
       "text": [
        "\n",
        "toggling res: aaaa::212:7400:eda:e14a - /actuators/toggle\n",
        "toggled"
       ]
      },
      {
       "output_type": "stream",
       "stream": "stdout",
       "text": [
        "\n",
        "toggling res: aaaa::212:7400:bd8:7545 - /actuators/toggle\n",
        "toggled"
       ]
      },
      {
       "output_type": "stream",
       "stream": "stdout",
       "text": [
        "\n",
        "toggling res: aaaa::201:2dcf:4629:4b4 - /actuators/toggle\n",
        "84"
       ]
      },
      {
       "output_type": "stream",
       "stream": "stdout",
       "text": [
        "\n",
        "toggled"
       ]
      },
      {
       "output_type": "stream",
       "stream": "stdout",
       "text": [
        "\n",
        "toggling res: aaaa::212:7400:bd8:80f5 - /actuators/toggle\n",
        "toggled"
       ]
      },
      {
       "output_type": "stream",
       "stream": "stdout",
       "text": [
        "\n",
        "toggling res: aaaa::212:7400:eda:98f0 - /actuators/toggle\n",
        "toggled"
       ]
      },
      {
       "output_type": "stream",
       "stream": "stdout",
       "text": [
        "\n",
        "toggling res: aaaa::212:7400:eda:e14a - /actuators/toggle\n",
        "toggled"
       ]
      },
      {
       "output_type": "stream",
       "stream": "stdout",
       "text": [
        "\n",
        "toggling res: aaaa::212:7400:bd8:7545 - /actuators/toggle\n",
        "toggled"
       ]
      },
      {
       "output_type": "stream",
       "stream": "stdout",
       "text": [
        "\n",
        "toggling res: aaaa::201:2dcf:4629:4b4 - /actuators/toggle\n",
        "85"
       ]
      },
      {
       "output_type": "stream",
       "stream": "stdout",
       "text": [
        "\n",
        "toggled"
       ]
      },
      {
       "output_type": "stream",
       "stream": "stdout",
       "text": [
        "\n",
        "toggling res: aaaa::212:7400:bd8:80f5 - /actuators/toggle\n",
        "toggled"
       ]
      },
      {
       "output_type": "stream",
       "stream": "stdout",
       "text": [
        "\n",
        "toggling res: aaaa::212:7400:eda:98f0 - /actuators/toggle\n",
        "toggled"
       ]
      },
      {
       "output_type": "stream",
       "stream": "stdout",
       "text": [
        "\n",
        "toggling res: aaaa::212:7400:eda:e14a - /actuators/toggle\n",
        "toggled"
       ]
      },
      {
       "output_type": "stream",
       "stream": "stdout",
       "text": [
        "\n",
        "toggling res: aaaa::212:7400:bd8:7545 - /actuators/toggle\n",
        "toggled"
       ]
      },
      {
       "output_type": "stream",
       "stream": "stdout",
       "text": [
        "\n",
        "toggling res: aaaa::201:2dcf:4629:4b4 - /actuators/toggle\n",
        "86"
       ]
      },
      {
       "output_type": "stream",
       "stream": "stdout",
       "text": [
        "\n",
        "toggled"
       ]
      },
      {
       "output_type": "stream",
       "stream": "stdout",
       "text": [
        "\n",
        "toggling res: aaaa::212:7400:bd8:80f5 - /actuators/toggle\n",
        "toggled"
       ]
      },
      {
       "output_type": "stream",
       "stream": "stdout",
       "text": [
        "\n",
        "toggling res: aaaa::212:7400:eda:98f0 - /actuators/toggle\n",
        "toggled"
       ]
      },
      {
       "output_type": "stream",
       "stream": "stdout",
       "text": [
        "\n",
        "toggling res: aaaa::212:7400:eda:e14a - /actuators/toggle\n",
        "toggled"
       ]
      },
      {
       "output_type": "stream",
       "stream": "stdout",
       "text": [
        "\n",
        "toggling res: aaaa::212:7400:bd8:7545 - /actuators/toggle\n",
        "toggled"
       ]
      },
      {
       "output_type": "stream",
       "stream": "stdout",
       "text": [
        "\n",
        "toggling res: aaaa::201:2dcf:4629:4b4 - /actuators/toggle\n",
        "87"
       ]
      },
      {
       "output_type": "stream",
       "stream": "stdout",
       "text": [
        "\n",
        "toggled"
       ]
      },
      {
       "output_type": "stream",
       "stream": "stdout",
       "text": [
        "\n",
        "toggling res: aaaa::212:7400:bd8:80f5 - /actuators/toggle\n",
        "toggled"
       ]
      },
      {
       "output_type": "stream",
       "stream": "stdout",
       "text": [
        "\n",
        "toggling res: aaaa::212:7400:eda:98f0 - /actuators/toggle\n",
        "toggled"
       ]
      },
      {
       "output_type": "stream",
       "stream": "stdout",
       "text": [
        "\n",
        "toggling res: aaaa::212:7400:eda:e14a - /actuators/toggle\n",
        "toggled"
       ]
      },
      {
       "output_type": "stream",
       "stream": "stdout",
       "text": [
        "\n",
        "toggling res: aaaa::212:7400:bd8:7545 - /actuators/toggle\n",
        "toggled"
       ]
      },
      {
       "output_type": "stream",
       "stream": "stdout",
       "text": [
        "\n",
        "toggling res: aaaa::201:2dcf:4629:4b4 - /actuators/toggle\n",
        "88"
       ]
      },
      {
       "output_type": "stream",
       "stream": "stdout",
       "text": [
        "\n",
        "toggled"
       ]
      },
      {
       "output_type": "stream",
       "stream": "stdout",
       "text": [
        "\n",
        "toggling res: aaaa::212:7400:bd8:80f5 - /actuators/toggle\n",
        "toggled"
       ]
      },
      {
       "output_type": "stream",
       "stream": "stdout",
       "text": [
        "\n",
        "toggling res: aaaa::212:7400:eda:98f0 - /actuators/toggle\n",
        "toggled"
       ]
      },
      {
       "output_type": "stream",
       "stream": "stdout",
       "text": [
        "\n",
        "toggling res: aaaa::212:7400:eda:e14a - /actuators/toggle\n",
        "toggled"
       ]
      },
      {
       "output_type": "stream",
       "stream": "stdout",
       "text": [
        "\n",
        "toggling res: aaaa::212:7400:bd8:7545 - /actuators/toggle\n",
        "toggled"
       ]
      },
      {
       "output_type": "stream",
       "stream": "stdout",
       "text": [
        "\n",
        "toggling res: aaaa::201:2dcf:4629:4b4 - /actuators/toggle\n",
        "89"
       ]
      },
      {
       "output_type": "stream",
       "stream": "stdout",
       "text": [
        "\n",
        "toggled"
       ]
      },
      {
       "output_type": "stream",
       "stream": "stdout",
       "text": [
        "\n",
        "toggling res: aaaa::212:7400:bd8:80f5 - /actuators/toggle\n",
        "toggled"
       ]
      },
      {
       "output_type": "stream",
       "stream": "stdout",
       "text": [
        "\n",
        "toggling res: aaaa::212:7400:eda:98f0 - /actuators/toggle\n",
        "toggled"
       ]
      },
      {
       "output_type": "stream",
       "stream": "stdout",
       "text": [
        "\n",
        "toggling res: aaaa::212:7400:eda:e14a - /actuators/toggle\n",
        "toggled"
       ]
      },
      {
       "output_type": "stream",
       "stream": "stdout",
       "text": [
        "\n",
        "toggling res: aaaa::212:7400:bd8:7545 - /actuators/toggle\n",
        "toggled"
       ]
      },
      {
       "output_type": "stream",
       "stream": "stdout",
       "text": [
        "\n",
        "toggling res: aaaa::201:2dcf:4629:4b4 - /actuators/toggle\n",
        "90"
       ]
      },
      {
       "output_type": "stream",
       "stream": "stdout",
       "text": [
        "\n",
        "toggled"
       ]
      },
      {
       "output_type": "stream",
       "stream": "stdout",
       "text": [
        "\n",
        "toggling res: aaaa::212:7400:bd8:80f5 - /actuators/toggle\n",
        "toggled"
       ]
      },
      {
       "output_type": "stream",
       "stream": "stdout",
       "text": [
        "\n",
        "toggling res: aaaa::212:7400:eda:98f0 - /actuators/toggle\n",
        "toggled"
       ]
      },
      {
       "output_type": "stream",
       "stream": "stdout",
       "text": [
        "\n",
        "toggling res: aaaa::212:7400:eda:e14a - /actuators/toggle\n",
        "toggled"
       ]
      },
      {
       "output_type": "stream",
       "stream": "stdout",
       "text": [
        "\n",
        "toggling res: aaaa::212:7400:bd8:7545 - /actuators/toggle\n",
        "toggled"
       ]
      },
      {
       "output_type": "stream",
       "stream": "stdout",
       "text": [
        "\n",
        "toggling res: aaaa::201:2dcf:4629:4b4 - /actuators/toggle\n",
        "91"
       ]
      },
      {
       "output_type": "stream",
       "stream": "stdout",
       "text": [
        "\n",
        "toggled"
       ]
      },
      {
       "output_type": "stream",
       "stream": "stdout",
       "text": [
        "\n",
        "toggling res: aaaa::212:7400:bd8:80f5 - /actuators/toggle\n",
        "toggled"
       ]
      },
      {
       "output_type": "stream",
       "stream": "stdout",
       "text": [
        "\n",
        "toggling res: aaaa::212:7400:eda:98f0 - /actuators/toggle\n",
        "toggled"
       ]
      },
      {
       "output_type": "stream",
       "stream": "stdout",
       "text": [
        "\n",
        "toggling res: aaaa::212:7400:eda:e14a - /actuators/toggle\n",
        "toggled"
       ]
      },
      {
       "output_type": "stream",
       "stream": "stdout",
       "text": [
        "\n",
        "toggling res: aaaa::212:7400:bd8:7545 - /actuators/toggle\n",
        "toggled"
       ]
      },
      {
       "output_type": "stream",
       "stream": "stdout",
       "text": [
        "\n",
        "toggling res: aaaa::201:2dcf:4629:4b4 - /actuators/toggle\n",
        "92"
       ]
      },
      {
       "output_type": "stream",
       "stream": "stdout",
       "text": [
        "\n",
        "toggled"
       ]
      },
      {
       "output_type": "stream",
       "stream": "stdout",
       "text": [
        "\n",
        "toggling res: aaaa::212:7400:bd8:80f5 - /actuators/toggle\n",
        "toggled"
       ]
      },
      {
       "output_type": "stream",
       "stream": "stdout",
       "text": [
        "\n",
        "toggling res: aaaa::212:7400:eda:98f0 - /actuators/toggle\n",
        "toggled"
       ]
      },
      {
       "output_type": "stream",
       "stream": "stdout",
       "text": [
        "\n",
        "toggling res: aaaa::212:7400:eda:e14a - /actuators/toggle\n",
        "toggled"
       ]
      },
      {
       "output_type": "stream",
       "stream": "stdout",
       "text": [
        "\n",
        "toggling res: aaaa::212:7400:bd8:7545 - /actuators/toggle\n",
        "toggled"
       ]
      },
      {
       "output_type": "stream",
       "stream": "stdout",
       "text": [
        "\n",
        "toggling res: aaaa::201:2dcf:4629:4b4 - /actuators/toggle\n",
        "93"
       ]
      },
      {
       "output_type": "stream",
       "stream": "stdout",
       "text": [
        "\n",
        "toggled"
       ]
      },
      {
       "output_type": "stream",
       "stream": "stdout",
       "text": [
        "\n",
        "toggling res: aaaa::212:7400:bd8:80f5 - /actuators/toggle\n",
        "toggled"
       ]
      },
      {
       "output_type": "stream",
       "stream": "stdout",
       "text": [
        "\n",
        "toggling res: aaaa::212:7400:eda:98f0 - /actuators/toggle\n",
        "toggled"
       ]
      },
      {
       "output_type": "stream",
       "stream": "stdout",
       "text": [
        "\n",
        "toggling res: aaaa::212:7400:eda:e14a - /actuators/toggle\n",
        "toggled"
       ]
      },
      {
       "output_type": "stream",
       "stream": "stdout",
       "text": [
        "\n",
        "toggling res: aaaa::212:7400:bd8:7545 - /actuators/toggle\n",
        "toggled"
       ]
      },
      {
       "output_type": "stream",
       "stream": "stdout",
       "text": [
        "\n",
        "toggling res: aaaa::201:2dcf:4629:4b4 - /actuators/toggle\n",
        "94"
       ]
      },
      {
       "output_type": "stream",
       "stream": "stdout",
       "text": [
        "\n",
        "toggled"
       ]
      },
      {
       "output_type": "stream",
       "stream": "stdout",
       "text": [
        "\n",
        "toggling res: aaaa::212:7400:bd8:80f5 - /actuators/toggle\n",
        "toggled"
       ]
      },
      {
       "output_type": "stream",
       "stream": "stdout",
       "text": [
        "\n",
        "toggling res: aaaa::212:7400:eda:98f0 - /actuators/toggle\n",
        "toggled"
       ]
      },
      {
       "output_type": "stream",
       "stream": "stdout",
       "text": [
        "\n",
        "toggling res: aaaa::212:7400:eda:e14a - /actuators/toggle\n",
        "toggled"
       ]
      },
      {
       "output_type": "stream",
       "stream": "stdout",
       "text": [
        "\n",
        "toggling res: aaaa::212:7400:bd8:7545 - /actuators/toggle\n",
        "toggled"
       ]
      },
      {
       "output_type": "stream",
       "stream": "stdout",
       "text": [
        "\n",
        "toggling res: aaaa::201:2dcf:4629:4b4 - /actuators/toggle\n",
        "95"
       ]
      },
      {
       "output_type": "stream",
       "stream": "stdout",
       "text": [
        "\n",
        "toggled"
       ]
      },
      {
       "output_type": "stream",
       "stream": "stdout",
       "text": [
        "\n",
        "toggling res: aaaa::212:7400:bd8:80f5 - /actuators/toggle\n",
        "toggled"
       ]
      },
      {
       "output_type": "stream",
       "stream": "stdout",
       "text": [
        "\n",
        "toggling res: aaaa::212:7400:eda:98f0 - /actuators/toggle\n",
        "toggled"
       ]
      },
      {
       "output_type": "stream",
       "stream": "stdout",
       "text": [
        "\n",
        "toggling res: aaaa::212:7400:eda:e14a - /actuators/toggle\n",
        "toggled"
       ]
      },
      {
       "output_type": "stream",
       "stream": "stdout",
       "text": [
        "\n",
        "toggling res: aaaa::212:7400:bd8:7545 - /actuators/toggle\n",
        "toggled"
       ]
      },
      {
       "output_type": "stream",
       "stream": "stdout",
       "text": [
        "\n",
        "toggling res: aaaa::201:2dcf:4629:4b4 - /actuators/toggle\n",
        "96"
       ]
      },
      {
       "output_type": "stream",
       "stream": "stdout",
       "text": [
        "\n",
        "toggled"
       ]
      },
      {
       "output_type": "stream",
       "stream": "stdout",
       "text": [
        "\n",
        "toggling res: aaaa::212:7400:bd8:80f5 - /actuators/toggle\n",
        "toggled"
       ]
      },
      {
       "output_type": "stream",
       "stream": "stdout",
       "text": [
        "\n",
        "toggling res: aaaa::212:7400:eda:98f0 - /actuators/toggle\n",
        "toggled"
       ]
      },
      {
       "output_type": "stream",
       "stream": "stdout",
       "text": [
        "\n",
        "toggling res: aaaa::212:7400:eda:e14a - /actuators/toggle\n",
        "toggled"
       ]
      },
      {
       "output_type": "stream",
       "stream": "stdout",
       "text": [
        "\n",
        "toggling res: aaaa::212:7400:bd8:7545 - /actuators/toggle\n",
        "toggled"
       ]
      },
      {
       "output_type": "stream",
       "stream": "stdout",
       "text": [
        "\n",
        "toggling res: aaaa::201:2dcf:4629:4b4 - /actuators/toggle\n",
        "97"
       ]
      },
      {
       "output_type": "stream",
       "stream": "stdout",
       "text": [
        "\n",
        "toggled"
       ]
      },
      {
       "output_type": "stream",
       "stream": "stdout",
       "text": [
        "\n",
        "toggling res: aaaa::212:7400:bd8:80f5 - /actuators/toggle\n",
        "toggled"
       ]
      },
      {
       "output_type": "stream",
       "stream": "stdout",
       "text": [
        "\n",
        "toggling res: aaaa::212:7400:eda:98f0 - /actuators/toggle\n",
        "toggled"
       ]
      },
      {
       "output_type": "stream",
       "stream": "stdout",
       "text": [
        "\n",
        "toggling res: aaaa::212:7400:eda:e14a - /actuators/toggle\n",
        "toggled"
       ]
      },
      {
       "output_type": "stream",
       "stream": "stdout",
       "text": [
        "\n",
        "toggling res: aaaa::212:7400:bd8:7545 - /actuators/toggle\n",
        "toggled"
       ]
      },
      {
       "output_type": "stream",
       "stream": "stdout",
       "text": [
        "\n",
        "toggling res: aaaa::201:2dcf:4629:4b4 - /actuators/toggle\n",
        "98"
       ]
      },
      {
       "output_type": "stream",
       "stream": "stdout",
       "text": [
        "\n",
        "toggled"
       ]
      },
      {
       "output_type": "stream",
       "stream": "stdout",
       "text": [
        "\n",
        "toggling res: aaaa::212:7400:bd8:80f5 - /actuators/toggle\n",
        "toggled"
       ]
      },
      {
       "output_type": "stream",
       "stream": "stdout",
       "text": [
        "\n",
        "toggling res: aaaa::212:7400:eda:98f0 - /actuators/toggle\n",
        "toggled"
       ]
      },
      {
       "output_type": "stream",
       "stream": "stdout",
       "text": [
        "\n",
        "toggling res: aaaa::212:7400:eda:e14a - /actuators/toggle\n",
        "toggled"
       ]
      },
      {
       "output_type": "stream",
       "stream": "stdout",
       "text": [
        "\n",
        "toggling res: aaaa::212:7400:bd8:7545 - /actuators/toggle\n",
        "toggled"
       ]
      },
      {
       "output_type": "stream",
       "stream": "stdout",
       "text": [
        "\n",
        "toggling res: aaaa::201:2dcf:4629:4b4 - /actuators/toggle\n",
        "99"
       ]
      },
      {
       "output_type": "stream",
       "stream": "stdout",
       "text": [
        "\n",
        "toggled"
       ]
      },
      {
       "output_type": "stream",
       "stream": "stdout",
       "text": [
        "\n",
        "toggling res: aaaa::212:7400:bd8:80f5 - /actuators/toggle\n",
        "toggled"
       ]
      },
      {
       "output_type": "stream",
       "stream": "stdout",
       "text": [
        "\n",
        "toggling res: aaaa::212:7400:eda:98f0 - /actuators/toggle\n",
        "toggled"
       ]
      },
      {
       "output_type": "stream",
       "stream": "stdout",
       "text": [
        "\n",
        "toggling res: aaaa::212:7400:eda:e14a - /actuators/toggle\n",
        "toggled"
       ]
      },
      {
       "output_type": "stream",
       "stream": "stdout",
       "text": [
        "\n",
        "toggling res: aaaa::212:7400:bd8:7545 - /actuators/toggle\n",
        "toggled"
       ]
      },
      {
       "output_type": "stream",
       "stream": "stdout",
       "text": [
        "\n",
        "toggling res: aaaa::201:2dcf:4629:4b4 - /actuators/toggle\n",
        "100"
       ]
      },
      {
       "output_type": "stream",
       "stream": "stdout",
       "text": [
        "\n"
       ]
      }
     ],
     "prompt_number": 34
    }
   ],
   "metadata": {}
  }
 ]
}