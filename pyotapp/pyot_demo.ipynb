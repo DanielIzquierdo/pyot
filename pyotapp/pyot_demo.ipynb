{
 "metadata": {
  "name": ""
 },
 "nbformat": 3,
 "nbformat_minor": 0,
 "worksheets": [
  {
   "cells": [
    {
     "cell_type": "heading",
     "level": 1,
     "metadata": {},
     "source": [
      "PyoT Macroprogramming Example"
     ]
    },
    {
     "cell_type": "heading",
     "level": 3,
     "metadata": {},
     "source": [
      "Setup Environment"
     ]
    },
    {
     "cell_type": "code",
     "collapsed": false,
     "input": [
      "%matplotlib inline\n",
      "from pylab import *\n",
      "import matplotlib.pyplot as plt\n",
      "import numpy as np"
     ],
     "language": "python",
     "metadata": {},
     "outputs": [],
     "prompt_number": 1
    },
    {
     "cell_type": "heading",
     "level": 3,
     "metadata": {},
     "source": [
      "Show all registered hosts"
     ]
    },
    {
     "cell_type": "code",
     "collapsed": false,
     "input": [
      "from pyot.models import *\n",
      "h = Host.objects.all()\n",
      "print h"
     ],
     "language": "python",
     "metadata": {},
     "outputs": [
      {
       "output_type": "stream",
       "stream": "stdout",
       "text": [
        "[<Host: bbbb::212:7408:8:808 Network: bbbb::/64 - celery@cooja-node1>, <Host: bbbb::212:740a:a:a0a Network: bbbb::/64 - celery@cooja-node1>, <Host: bbbb::212:7405:5:505 Network: bbbb::/64 - celery@cooja-node1>, <Host: bbbb::212:7403:3:303 Network: bbbb::/64 - celery@cooja-node1>, <Host: bbbb::212:740b:b:b0b Network: bbbb::/64 - celery@cooja-node1>, <Host: bbbb::212:7406:6:606 Network: bbbb::/64 - celery@cooja-node1>, <Host: bbbb::212:7404:4:404 Network: bbbb::/64 - celery@cooja-node1>, <Host: bbbb::212:7407:7:707 Network: bbbb::/64 - celery@cooja-node1>, <Host: bbbb::212:7409:9:909 Network: bbbb::/64 - celery@cooja-node1>, <Host: bbbb::212:7402:2:202 Network: bbbb::/64 - celery@cooja-node1>, <Host: dddd::212:740b:b:b0b Network: dddd::/64 - celery@cooja-node2>, <Host: dddd::212:7406:6:606 Network: dddd::/64 - celery@cooja-node2>, <Host: dddd::212:7404:4:404 Network: dddd::/64 - celery@cooja-node2>, <Host: dddd::212:7407:7:707 Network: dddd::/64 - celery@cooja-node2>, <Host: dddd::212:7409:9:909 Network: dddd::/64 - celery@cooja-node2>, <Host: dddd::212:7402:2:202 Network: dddd::/64 - celery@cooja-node2>, <Host: dddd::212:7408:8:808 Network: dddd::/64 - celery@cooja-node2>, <Host: dddd::212:740a:a:a0a Network: dddd::/64 - celery@cooja-node2>, <Host: dddd::212:7405:5:505 Network: dddd::/64 - celery@cooja-node2>, <Host: dddd::212:7403:3:303 Network: dddd::/64 - celery@cooja-node2>, '...(remaining elements truncated)...']\n"
       ]
      }
     ],
     "prompt_number": 2
    },
    {
     "cell_type": "heading",
     "level": 3,
     "metadata": {},
     "source": [
      "Get all light sensors and plot them"
     ]
    },
    {
     "cell_type": "code",
     "collapsed": false,
     "input": [
      "r = Resource.objects.filter(uri='/sensors/light', host__active=True)\n",
      "print r\n",
      "y = []\n",
      "y2 = []\n",
      "for light in r:\n",
      "    resp= light.GET()\n",
      "    v = resp.content\n",
      "    print light, v\n",
      "    y.append(int(v.split(';')[0]))\n",
      "    y2.append(int(v.split(';')[1]))\n",
      "\n",
      "#plot everything\n",
      "x = np.arange(len(r))\n",
      "fig, axes = plt.subplots(nrows=1, ncols=2)\n",
      "axes[0].bar(x, y, align=\"center\", width=0.5, alpha=0.5)\n",
      "axes[0].set_xlabel('Nodes')\n",
      "axes[0].set_ylabel('lux')\n",
      "axes[0].set_ylim(0, 200)\n",
      "axes[0].set_title('Light sensor value 1')\n",
      "\n",
      "axes[1].bar(x, y2, align=\"center\", width=0.5, alpha=0.5)\n",
      "axes[1].set_xlabel('Nodes')\n",
      "axes[1].set_ylabel('lux')\n",
      "axes[1].set_ylim(0, 200)\n",
      "axes[1].set_title('Light sensor value 2')\n",
      "\n",
      "fig.tight_layout()"
     ],
     "language": "python",
     "metadata": {},
     "outputs": [
      {
       "output_type": "stream",
       "stream": "stdout",
       "text": [
        "[]\n"
       ]
      },
      {
       "metadata": {},
       "output_type": "display_data",
       "png": "[encoded data removed]",
       "text": [
        "<matplotlib.figure.Figure at 0xadd236c>"
       ]
      }
     ],
     "prompt_number": 4
    },
    {
     "cell_type": "heading",
     "level": 3,
     "metadata": {},
     "source": [
      "Select all active actuators in the network and switch them (parallel execution)."
     ]
    },
    {
     "cell_type": "code",
     "collapsed": false,
     "input": [
      "actuators = Resource.objects.filter(uri='/actuators/toggle', host__active=True)\n",
      "tasks = []\n",
      "for act in actuators:\n",
      "    tasks.append(act.asyncPOST())\n",
      "    print 'toggling res: ' + str(act) \n",
      "    \n",
      "    \n",
      "for task in tasks:\n",
      "    task.wait()\n",
      "    print task.result\n",
      "print 'Done'"
     ],
     "language": "python",
     "metadata": {},
     "outputs": [
      {
       "output_type": "stream",
       "stream": "stdout",
       "text": [
        "toggling res: aaaa::200:0:0:4 - /actuators/toggle\n",
        "toggling res: aaaa::200:0:0:3 - /actuators/toggle\n",
        "toggling res: aaaa::201:2dcf:4629:4b4 - /actuators/toggle\n",
        "toggling res: aaaa::212:7400:eda:98f0 - /actuators/toggle\n",
        "toggling res: aaaa::212:7400:eda:e14a - /actuators/toggle\n",
        "2.05 - toggled"
       ]
      },
      {
       "output_type": "stream",
       "stream": "stdout",
       "text": [
        "\n",
        "2.05 - toggled\n",
        "2.05 - toggled"
       ]
      },
      {
       "output_type": "stream",
       "stream": "stdout",
       "text": [
        "\n",
        "2.05 - ok\n",
        "2.05 - ok\n",
        "Done\n"
       ]
      }
     ],
     "prompt_number": 6
    },
    {
     "cell_type": "code",
     "collapsed": false,
     "input": [
      "import time\n",
      "ITERATIONS=10\n",
      "counter = 0\n",
      "\n",
      "while counter < ITERATIONS:\n",
      "    actuators = Resource.objects.filter(uri='/actuators/toggle', host__active=True)\n",
      "    for act in actuators:\n",
      "        print act.POST()\n",
      "        print 'toggling res: ' + str(act) \n",
      "    counter += 1\n",
      "    time.sleep(5)\n",
      "    print counter"
     ],
     "language": "python",
     "metadata": {},
     "outputs": [
      {
       "output_type": "stream",
       "stream": "stdout",
       "text": [
        "2.05 - toggled\n",
        "toggling res: aaaa::212:7408:8:808 - /actuators/toggle\n",
        "2.05 - toggled"
       ]
      },
      {
       "output_type": "stream",
       "stream": "stdout",
       "text": [
        "\n",
        "toggling res: aaaa::212:740a:a:a0a - /actuators/toggle\n",
        "2.05 - toggled"
       ]
      },
      {
       "output_type": "stream",
       "stream": "stdout",
       "text": [
        "\n",
        "toggling res: aaaa::212:7405:5:505 - /actuators/toggle\n",
        "2.05 - toggled"
       ]
      },
      {
       "output_type": "stream",
       "stream": "stdout",
       "text": [
        "\n",
        "toggling res: aaaa::212:7403:3:303 - /actuators/toggle\n",
        "2.05 - toggled"
       ]
      },
      {
       "output_type": "stream",
       "stream": "stdout",
       "text": [
        "\n",
        "toggling res: aaaa::212:740b:b:b0b - /actuators/toggle\n",
        "2.05 - toggled"
       ]
      },
      {
       "output_type": "stream",
       "stream": "stdout",
       "text": [
        "\n",
        "toggling res: aaaa::212:7404:4:404 - /actuators/toggle\n",
        "2.05 - toggled"
       ]
      },
      {
       "output_type": "stream",
       "stream": "stdout",
       "text": [
        "\n",
        "toggling res: aaaa::212:7402:2:202 - /actuators/toggle\n",
        "2.05 - toggled"
       ]
      },
      {
       "output_type": "stream",
       "stream": "stdout",
       "text": [
        "\n",
        "toggling res: aaaa::212:7407:7:707 - /actuators/toggle\n",
        "2.05 - toggled"
       ]
      },
      {
       "output_type": "stream",
       "stream": "stdout",
       "text": [
        "\n",
        "toggling res: aaaa::212:7409:9:909 - /actuators/toggle\n",
        "2.05 - toggled"
       ]
      },
      {
       "output_type": "stream",
       "stream": "stdout",
       "text": [
        "\n",
        "toggling res: aaaa::212:7406:6:606 - /actuators/toggle\n",
        "1"
       ]
      },
      {
       "output_type": "stream",
       "stream": "stdout",
       "text": [
        "\n",
        "2.05 - toggled"
       ]
      },
      {
       "output_type": "stream",
       "stream": "stdout",
       "text": [
        "\n",
        "toggling res: aaaa::212:7408:8:808 - /actuators/toggle\n",
        "2.05 - toggled"
       ]
      },
      {
       "output_type": "stream",
       "stream": "stdout",
       "text": [
        "\n",
        "toggling res: aaaa::212:740a:a:a0a - /actuators/toggle\n",
        "2.05 - toggled"
       ]
      },
      {
       "output_type": "stream",
       "stream": "stdout",
       "text": [
        "\n",
        "toggling res: aaaa::212:7405:5:505 - /actuators/toggle\n",
        "2.05 - toggled"
       ]
      },
      {
       "output_type": "stream",
       "stream": "stdout",
       "text": [
        "\n",
        "toggling res: aaaa::212:7403:3:303 - /actuators/toggle\n",
        "2.05 - toggled"
       ]
      },
      {
       "output_type": "stream",
       "stream": "stdout",
       "text": [
        "\n",
        "toggling res: aaaa::212:740b:b:b0b - /actuators/toggle\n",
        "2.05 - toggled"
       ]
      },
      {
       "output_type": "stream",
       "stream": "stdout",
       "text": [
        "\n",
        "toggling res: aaaa::212:7404:4:404 - /actuators/toggle\n",
        "2.05 - toggled"
       ]
      },
      {
       "output_type": "stream",
       "stream": "stdout",
       "text": [
        "\n",
        "toggling res: aaaa::212:7402:2:202 - /actuators/toggle\n",
        "2.05 - toggled"
       ]
      },
      {
       "output_type": "stream",
       "stream": "stdout",
       "text": [
        "\n",
        "toggling res: aaaa::212:7407:7:707 - /actuators/toggle\n",
        "2.05 - toggled"
       ]
      },
      {
       "output_type": "stream",
       "stream": "stdout",
       "text": [
        "\n",
        "toggling res: aaaa::212:7409:9:909 - /actuators/toggle\n",
        "2.05 - toggled"
       ]
      },
      {
       "output_type": "stream",
       "stream": "stdout",
       "text": [
        "\n",
        "toggling res: aaaa::212:7406:6:606 - /actuators/toggle\n",
        "2"
       ]
      },
      {
       "output_type": "stream",
       "stream": "stdout",
       "text": [
        "\n",
        "2.05 - toggled"
       ]
      },
      {
       "output_type": "stream",
       "stream": "stdout",
       "text": [
        "\n",
        "toggling res: aaaa::212:7408:8:808 - /actuators/toggle\n",
        "2.05 - toggled"
       ]
      },
      {
       "output_type": "stream",
       "stream": "stdout",
       "text": [
        "\n",
        "toggling res: aaaa::212:740a:a:a0a - /actuators/toggle\n",
        "2.05 - toggled"
       ]
      },
      {
       "output_type": "stream",
       "stream": "stdout",
       "text": [
        "\n",
        "toggling res: aaaa::212:7405:5:505 - /actuators/toggle\n",
        "2.05 - toggled"
       ]
      },
      {
       "output_type": "stream",
       "stream": "stdout",
       "text": [
        "\n",
        "toggling res: aaaa::212:7403:3:303 - /actuators/toggle\n",
        "2.05 - toggled"
       ]
      },
      {
       "output_type": "stream",
       "stream": "stdout",
       "text": [
        "\n",
        "toggling res: aaaa::212:740b:b:b0b - /actuators/toggle\n",
        "2.05 - toggled"
       ]
      },
      {
       "output_type": "stream",
       "stream": "stdout",
       "text": [
        "\n",
        "toggling res: aaaa::212:7404:4:404 - /actuators/toggle\n",
        "2.05 - toggled"
       ]
      },
      {
       "output_type": "stream",
       "stream": "stdout",
       "text": [
        "\n",
        "toggling res: aaaa::212:7402:2:202 - /actuators/toggle\n",
        "2.05 - toggled"
       ]
      },
      {
       "output_type": "stream",
       "stream": "stdout",
       "text": [
        "\n",
        "toggling res: aaaa::212:7407:7:707 - /actuators/toggle\n",
        "2.05 - toggled"
       ]
      },
      {
       "output_type": "stream",
       "stream": "stdout",
       "text": [
        "\n",
        "toggling res: aaaa::212:7409:9:909 - /actuators/toggle\n",
        "2.05 - toggled"
       ]
      },
      {
       "output_type": "stream",
       "stream": "stdout",
       "text": [
        "\n",
        "toggling res: aaaa::212:7406:6:606 - /actuators/toggle\n",
        "3"
       ]
      },
      {
       "output_type": "stream",
       "stream": "stdout",
       "text": [
        "\n",
        "2.05 - toggled"
       ]
      },
      {
       "output_type": "stream",
       "stream": "stdout",
       "text": [
        "\n",
        "toggling res: aaaa::212:7408:8:808 - /actuators/toggle\n",
        "2.05 - toggled"
       ]
      },
      {
       "output_type": "stream",
       "stream": "stdout",
       "text": [
        "\n",
        "toggling res: aaaa::212:740a:a:a0a - /actuators/toggle\n",
        "2.05 - toggled"
       ]
      },
      {
       "output_type": "stream",
       "stream": "stdout",
       "text": [
        "\n",
        "toggling res: aaaa::212:7405:5:505 - /actuators/toggle\n",
        "2.05 - toggled"
       ]
      },
      {
       "output_type": "stream",
       "stream": "stdout",
       "text": [
        "\n",
        "toggling res: aaaa::212:7403:3:303 - /actuators/toggle\n",
        "2.05 - toggled"
       ]
      },
      {
       "output_type": "stream",
       "stream": "stdout",
       "text": [
        "\n",
        "toggling res: aaaa::212:740b:b:b0b - /actuators/toggle\n",
        "2.05 - toggled"
       ]
      },
      {
       "output_type": "stream",
       "stream": "stdout",
       "text": [
        "\n",
        "toggling res: aaaa::212:7404:4:404 - /actuators/toggle\n",
        "2.05 - toggled"
       ]
      },
      {
       "output_type": "stream",
       "stream": "stdout",
       "text": [
        "\n",
        "toggling res: aaaa::212:7402:2:202 - /actuators/toggle\n",
        "2.05 - toggled"
       ]
      },
      {
       "output_type": "stream",
       "stream": "stdout",
       "text": [
        "\n",
        "toggling res: aaaa::212:7407:7:707 - /actuators/toggle\n",
        "2.05 - toggled"
       ]
      },
      {
       "output_type": "stream",
       "stream": "stdout",
       "text": [
        "\n",
        "toggling res: aaaa::212:7409:9:909 - /actuators/toggle\n",
        "2.05 - toggled"
       ]
      },
      {
       "output_type": "stream",
       "stream": "stdout",
       "text": [
        "\n",
        "toggling res: aaaa::212:7406:6:606 - /actuators/toggle\n",
        "4"
       ]
      },
      {
       "output_type": "stream",
       "stream": "stdout",
       "text": [
        "\n",
        "2.05 - toggled"
       ]
      },
      {
       "output_type": "stream",
       "stream": "stdout",
       "text": [
        "\n",
        "toggling res: aaaa::212:7408:8:808 - /actuators/toggle\n",
        "2.05 - toggled"
       ]
      },
      {
       "output_type": "stream",
       "stream": "stdout",
       "text": [
        "\n",
        "toggling res: aaaa::212:740a:a:a0a - /actuators/toggle\n",
        "2.05 - toggled"
       ]
      },
      {
       "output_type": "stream",
       "stream": "stdout",
       "text": [
        "\n",
        "toggling res: aaaa::212:7405:5:505 - /actuators/toggle\n",
        "2.05 - toggled"
       ]
      },
      {
       "output_type": "stream",
       "stream": "stdout",
       "text": [
        "\n",
        "toggling res: aaaa::212:7403:3:303 - /actuators/toggle\n",
        "2.05 - toggled"
       ]
      },
      {
       "output_type": "stream",
       "stream": "stdout",
       "text": [
        "\n",
        "toggling res: aaaa::212:740b:b:b0b - /actuators/toggle\n",
        "2.05 - toggled"
       ]
      },
      {
       "output_type": "stream",
       "stream": "stdout",
       "text": [
        "\n",
        "toggling res: aaaa::212:7404:4:404 - /actuators/toggle\n",
        "2.05 - toggled"
       ]
      },
      {
       "output_type": "stream",
       "stream": "stdout",
       "text": [
        "\n",
        "toggling res: aaaa::212:7402:2:202 - /actuators/toggle\n",
        "2.05 - toggled"
       ]
      },
      {
       "output_type": "stream",
       "stream": "stdout",
       "text": [
        "\n",
        "toggling res: aaaa::212:7407:7:707 - /actuators/toggle\n",
        "2.05 - toggled"
       ]
      },
      {
       "output_type": "stream",
       "stream": "stdout",
       "text": [
        "\n",
        "toggling res: aaaa::212:7409:9:909 - /actuators/toggle\n",
        "2.05 - toggled"
       ]
      },
      {
       "output_type": "stream",
       "stream": "stdout",
       "text": [
        "\n",
        "toggling res: aaaa::212:7406:6:606 - /actuators/toggle\n",
        "5"
       ]
      },
      {
       "output_type": "stream",
       "stream": "stdout",
       "text": [
        "\n",
        "2.05 - toggled"
       ]
      },
      {
       "output_type": "stream",
       "stream": "stdout",
       "text": [
        "\n",
        "toggling res: aaaa::212:7408:8:808 - /actuators/toggle\n",
        "2.05 - toggled"
       ]
      },
      {
       "output_type": "stream",
       "stream": "stdout",
       "text": [
        "\n",
        "toggling res: aaaa::212:740a:a:a0a - /actuators/toggle\n",
        "2.05 - toggled"
       ]
      },
      {
       "output_type": "stream",
       "stream": "stdout",
       "text": [
        "\n",
        "toggling res: aaaa::212:7405:5:505 - /actuators/toggle\n",
        "2.05 - toggled"
       ]
      },
      {
       "output_type": "stream",
       "stream": "stdout",
       "text": [
        "\n",
        "toggling res: aaaa::212:7403:3:303 - /actuators/toggle\n",
        "2.05 - toggled"
       ]
      },
      {
       "output_type": "stream",
       "stream": "stdout",
       "text": [
        "\n",
        "toggling res: aaaa::212:740b:b:b0b - /actuators/toggle\n",
        "2.05 - toggled"
       ]
      },
      {
       "output_type": "stream",
       "stream": "stdout",
       "text": [
        "\n",
        "toggling res: aaaa::212:7404:4:404 - /actuators/toggle\n",
        "2.05 - toggled"
       ]
      },
      {
       "output_type": "stream",
       "stream": "stdout",
       "text": [
        "\n",
        "toggling res: aaaa::212:7402:2:202 - /actuators/toggle\n",
        "2.05 - toggled"
       ]
      },
      {
       "output_type": "stream",
       "stream": "stdout",
       "text": [
        "\n",
        "toggling res: aaaa::212:7407:7:707 - /actuators/toggle\n",
        "2.05 - toggled"
       ]
      },
      {
       "output_type": "stream",
       "stream": "stdout",
       "text": [
        "\n",
        "toggling res: aaaa::212:7409:9:909 - /actuators/toggle\n",
        "2.05 - toggled"
       ]
      },
      {
       "output_type": "stream",
       "stream": "stdout",
       "text": [
        "\n",
        "toggling res: aaaa::212:7406:6:606 - /actuators/toggle\n",
        "6"
       ]
      },
      {
       "output_type": "stream",
       "stream": "stdout",
       "text": [
        "\n",
        "2.05 - toggled"
       ]
      },
      {
       "output_type": "stream",
       "stream": "stdout",
       "text": [
        "\n",
        "toggling res: aaaa::212:7408:8:808 - /actuators/toggle\n",
        "2.05 - toggled"
       ]
      },
      {
       "output_type": "stream",
       "stream": "stdout",
       "text": [
        "\n",
        "toggling res: aaaa::212:740a:a:a0a - /actuators/toggle\n",
        "2.05 - toggled"
       ]
      },
      {
       "output_type": "stream",
       "stream": "stdout",
       "text": [
        "\n",
        "toggling res: aaaa::212:7405:5:505 - /actuators/toggle\n",
        "2.05 - toggled"
       ]
      },
      {
       "output_type": "stream",
       "stream": "stdout",
       "text": [
        "\n",
        "toggling res: aaaa::212:7403:3:303 - /actuators/toggle\n",
        "2.05 - toggled"
       ]
      },
      {
       "output_type": "stream",
       "stream": "stdout",
       "text": [
        "\n",
        "toggling res: aaaa::212:740b:b:b0b - /actuators/toggle\n",
        "2.05 - toggled"
       ]
      },
      {
       "output_type": "stream",
       "stream": "stdout",
       "text": [
        "\n",
        "toggling res: aaaa::212:7404:4:404 - /actuators/toggle\n",
        "2.05 - toggled"
       ]
      },
      {
       "output_type": "stream",
       "stream": "stdout",
       "text": [
        "\n",
        "toggling res: aaaa::212:7402:2:202 - /actuators/toggle\n",
        "2.05 - toggled"
       ]
      },
      {
       "output_type": "stream",
       "stream": "stdout",
       "text": [
        "\n",
        "toggling res: aaaa::212:7407:7:707 - /actuators/toggle\n",
        "2.05 - toggled"
       ]
      },
      {
       "output_type": "stream",
       "stream": "stdout",
       "text": [
        "\n",
        "toggling res: aaaa::212:7409:9:909 - /actuators/toggle\n",
        "2.05 - toggled"
       ]
      },
      {
       "output_type": "stream",
       "stream": "stdout",
       "text": [
        "\n",
        "toggling res: aaaa::212:7406:6:606 - /actuators/toggle\n",
        "7"
       ]
      },
      {
       "output_type": "stream",
       "stream": "stdout",
       "text": [
        "\n",
        "2.05 - toggled"
       ]
      },
      {
       "output_type": "stream",
       "stream": "stdout",
       "text": [
        "\n",
        "toggling res: aaaa::212:7408:8:808 - /actuators/toggle\n",
        "2.05 - toggled"
       ]
      },
      {
       "output_type": "stream",
       "stream": "stdout",
       "text": [
        "\n",
        "toggling res: aaaa::212:740a:a:a0a - /actuators/toggle\n",
        "2.05 - toggled"
       ]
      },
      {
       "output_type": "stream",
       "stream": "stdout",
       "text": [
        "\n",
        "toggling res: aaaa::212:7405:5:505 - /actuators/toggle\n",
        "2.05 - toggled"
       ]
      },
      {
       "output_type": "stream",
       "stream": "stdout",
       "text": [
        "\n",
        "toggling res: aaaa::212:7403:3:303 - /actuators/toggle\n",
        "2.05 - toggled"
       ]
      },
      {
       "output_type": "stream",
       "stream": "stdout",
       "text": [
        "\n",
        "toggling res: aaaa::212:740b:b:b0b - /actuators/toggle\n",
        "2.05 - toggled"
       ]
      },
      {
       "output_type": "stream",
       "stream": "stdout",
       "text": [
        "\n",
        "toggling res: aaaa::212:7404:4:404 - /actuators/toggle\n",
        "2.05 - toggled"
       ]
      },
      {
       "output_type": "stream",
       "stream": "stdout",
       "text": [
        "\n",
        "toggling res: aaaa::212:7402:2:202 - /actuators/toggle\n",
        "2.05 - toggled"
       ]
      },
      {
       "output_type": "stream",
       "stream": "stdout",
       "text": [
        "\n",
        "toggling res: aaaa::212:7407:7:707 - /actuators/toggle\n",
        "2.05 - toggled"
       ]
      },
      {
       "output_type": "stream",
       "stream": "stdout",
       "text": [
        "\n",
        "toggling res: aaaa::212:7409:9:909 - /actuators/toggle\n",
        "2.05 - toggled"
       ]
      },
      {
       "output_type": "stream",
       "stream": "stdout",
       "text": [
        "\n",
        "toggling res: aaaa::212:7406:6:606 - /actuators/toggle\n",
        "8"
       ]
      },
      {
       "output_type": "stream",
       "stream": "stdout",
       "text": [
        "\n",
        "2.05 - toggled"
       ]
      },
      {
       "output_type": "stream",
       "stream": "stdout",
       "text": [
        "\n",
        "toggling res: aaaa::212:7408:8:808 - /actuators/toggle\n",
        "2.05 - toggled"
       ]
      },
      {
       "output_type": "stream",
       "stream": "stdout",
       "text": [
        "\n",
        "toggling res: aaaa::212:740a:a:a0a - /actuators/toggle\n",
        "2.05 - toggled"
       ]
      },
      {
       "output_type": "stream",
       "stream": "stdout",
       "text": [
        "\n",
        "toggling res: aaaa::212:7405:5:505 - /actuators/toggle\n",
        "2.05 - toggled"
       ]
      },
      {
       "output_type": "stream",
       "stream": "stdout",
       "text": [
        "\n",
        "toggling res: aaaa::212:7403:3:303 - /actuators/toggle\n",
        "2.05 - toggled"
       ]
      },
      {
       "output_type": "stream",
       "stream": "stdout",
       "text": [
        "\n",
        "toggling res: aaaa::212:740b:b:b0b - /actuators/toggle\n",
        "2.05 - toggled"
       ]
      },
      {
       "output_type": "stream",
       "stream": "stdout",
       "text": [
        "\n",
        "toggling res: aaaa::212:7404:4:404 - /actuators/toggle\n",
        "2.05 - toggled"
       ]
      },
      {
       "output_type": "stream",
       "stream": "stdout",
       "text": [
        "\n",
        "toggling res: aaaa::212:7402:2:202 - /actuators/toggle\n",
        "2.05 - toggled"
       ]
      },
      {
       "output_type": "stream",
       "stream": "stdout",
       "text": [
        "\n",
        "toggling res: aaaa::212:7407:7:707 - /actuators/toggle\n",
        "2.05 - toggled"
       ]
      },
      {
       "output_type": "stream",
       "stream": "stdout",
       "text": [
        "\n",
        "toggling res: aaaa::212:7409:9:909 - /actuators/toggle\n",
        "2.05 - toggled"
       ]
      },
      {
       "output_type": "stream",
       "stream": "stdout",
       "text": [
        "\n",
        "toggling res: aaaa::212:7406:6:606 - /actuators/toggle\n",
        "9"
       ]
      },
      {
       "output_type": "stream",
       "stream": "stdout",
       "text": [
        "\n",
        "2.05 - toggled"
       ]
      },
      {
       "output_type": "stream",
       "stream": "stdout",
       "text": [
        "\n",
        "toggling res: aaaa::212:7408:8:808 - /actuators/toggle\n",
        "2.05 - toggled"
       ]
      },
      {
       "output_type": "stream",
       "stream": "stdout",
       "text": [
        "\n",
        "toggling res: aaaa::212:740a:a:a0a - /actuators/toggle\n",
        "2.05 - toggled"
       ]
      },
      {
       "output_type": "stream",
       "stream": "stdout",
       "text": [
        "\n",
        "toggling res: aaaa::212:7405:5:505 - /actuators/toggle\n",
        "2.05 - toggled"
       ]
      },
      {
       "output_type": "stream",
       "stream": "stdout",
       "text": [
        "\n",
        "toggling res: aaaa::212:7403:3:303 - /actuators/toggle\n",
        "2.05 - toggled"
       ]
      },
      {
       "output_type": "stream",
       "stream": "stdout",
       "text": [
        "\n",
        "toggling res: aaaa::212:740b:b:b0b - /actuators/toggle\n",
        "2.05 - toggled"
       ]
      },
      {
       "output_type": "stream",
       "stream": "stdout",
       "text": [
        "\n",
        "toggling res: aaaa::212:7404:4:404 - /actuators/toggle\n",
        "2.05 - toggled"
       ]
      },
      {
       "output_type": "stream",
       "stream": "stdout",
       "text": [
        "\n",
        "toggling res: aaaa::212:7402:2:202 - /actuators/toggle\n",
        "2.05 - toggled"
       ]
      },
      {
       "output_type": "stream",
       "stream": "stdout",
       "text": [
        "\n",
        "toggling res: aaaa::212:7407:7:707 - /actuators/toggle\n",
        "2.05 - toggled"
       ]
      },
      {
       "output_type": "stream",
       "stream": "stdout",
       "text": [
        "\n",
        "toggling res: aaaa::212:7409:9:909 - /actuators/toggle\n",
        "2.05 - toggled"
       ]
      },
      {
       "output_type": "stream",
       "stream": "stdout",
       "text": [
        "\n",
        "toggling res: aaaa::212:7406:6:606 - /actuators/toggle\n",
        "10"
       ]
      },
      {
       "output_type": "stream",
       "stream": "stdout",
       "text": [
        "\n"
       ]
      }
     ],
     "prompt_number": 8
    }
   ],
   "metadata": {}
  }
 ]
}