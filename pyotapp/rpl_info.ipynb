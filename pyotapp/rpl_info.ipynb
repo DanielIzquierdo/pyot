{
 "metadata": {
  "name": ""
 },
 "nbformat": 3,
 "nbformat_minor": 0,
 "worksheets": [
  {
   "cells": [
    {
     "cell_type": "heading",
     "level": 1,
     "metadata": {},
     "source": [
      "PyoT RPL Information"
     ]
    },
    {
     "cell_type": "heading",
     "level": 3,
     "metadata": {},
     "source": [
      "Setup Environment and create a function to display images"
     ]
    },
    {
     "cell_type": "code",
     "collapsed": false,
     "input": [
      "%matplotlib inline\n",
      "import matplotlib.pyplot as plt\n",
      "from networkx import *\n",
      "from pyot.rplApp import *\n",
      "from pyot.models import *\n",
      "from IPython.display import Image, display\n",
      "from networkx.algorithms import *\n",
      "\n",
      "def pngShow(path):\n",
      "    i = Image(filename=path)\n",
      "    display(i)"
     ],
     "language": "python",
     "metadata": {},
     "outputs": [],
     "prompt_number": 1
    },
    {
     "cell_type": "heading",
     "level": 3,
     "metadata": {},
     "source": [
      "Update a rpl graph on a running network"
     ]
    },
    {
     "cell_type": "code",
     "collapsed": false,
     "input": [
      "n = Network.objects.get(hostname='celery@cooja')\n",
      "\n",
      "g = DAGupdate(n)\n",
      "pngShow(g.getPNG())"
     ],
     "language": "python",
     "metadata": {},
     "outputs": [
      {
       "output_type": "stream",
       "stream": "stdout",
       "text": [
        "Searching parents for resource:  bbbb::212:740b:b:b0b - /rplinfo/parents\n",
        "{\"eui\":\"0212740700070707\",\"pref\":true,\"etx\":185}"
       ]
      },
      {
       "output_type": "stream",
       "stream": "stdout",
       "text": [
        "\n",
        "Searching parents for resource:  bbbb::212:7402:2:202 - /rplinfo/parents\n",
        "{\"eui\":\"0212740100010101\",\"pref\":true,\"etx\":179}"
       ]
      },
      {
       "output_type": "stream",
       "stream": "stdout",
       "text": [
        "\n",
        "Searching parents for resource:  bbbb::212:7406:6:606 - /rplinfo/parents\n",
        "{\"eui\":\"0212740500050505\",\"pref\":true,\"etx\":185}"
       ]
      },
      {
       "output_type": "stream",
       "stream": "stdout",
       "text": [
        "\n",
        "Searching parents for resource:  bbbb::212:7404:4:404 - /rplinfo/parents\n",
        "{\"eui\":\"0212740800080808\",\"pref\":true,\"etx\":192}"
       ]
      },
      {
       "output_type": "stream",
       "stream": "stdout",
       "text": [
        "\n",
        "Searching parents for resource:  bbbb::212:7408:8:808 - /rplinfo/parents\n",
        "{\"eui\":\"0212740700070707\",\"pref\":true,\"etx\":132}"
       ]
      }
     ],
     "prompt_number": "*"
    },
    {
     "cell_type": "heading",
     "level": 3,
     "metadata": {},
     "source": [
      "nerworkx APIs"
     ]
    },
    {
     "cell_type": "code",
     "collapsed": false,
     "input": [
      "g = RplGraph.objects.all()[0]\n",
      "pngShow(g.getPNG())\n",
      "graph = g.graph\n",
      "#print info(graph)\n",
      "\n",
      "hs = Host.objects.filter(kqueue=g.net)\n",
      "\n",
      "print \n",
      "print 'Ancestors'\n",
      "for h in hs:\n",
      "    #node = g.find_node_from_host(h)\n",
      "    print h, len(g.get_ancestors(h)), g.get_ancestors(h)\n",
      "\n",
      "print \n",
      "print 'Descendant of each node in the graph'\n",
      "\n",
      "for h in hs:\n",
      "    print h, len(g.get_descendants(h)), g.get_descendants(h)\n",
      "\n",
      "print \n",
      "print 'Number of hops to reach every node'\n",
      "for h in hs:\n",
      "    print h, g.get_shortest_path_length(h)\n",
      "\n",
      "#create a reverted graph    \n",
      "rev = RplGraph.objects.create(graph=g.graph.reverse(), net = g.net)    \n",
      "\n",
      "pngShow(rev.getPNG())\n",
      "print \n",
      "print 'Descendant of each node in the reverted graph'\n",
      "\n",
      "for h in hs:\n",
      "    print h, len(rev.get_descendants(h)), rev.get_descendants(h)\n",
      "\n"
     ],
     "language": "python",
     "metadata": {},
     "outputs": []
    },
    {
     "cell_type": "heading",
     "level": 3,
     "metadata": {},
     "source": [
      "Display a rpl graph on a network from the db, highlighting a set of nodes"
     ]
    },
    {
     "cell_type": "code",
     "collapsed": false,
     "input": [
      "cooja = Network.objects.get(hostname='cooja')\n",
      "\n",
      "h = Host.objects.filter(kqueue=cooja)[2:7]\n",
      "graph = RplGraph.objects.filter(net=cooja)[0]\n",
      "\n",
      "pngShow(graph.getPNG(h))"
     ],
     "language": "python",
     "metadata": {},
     "outputs": []
    },
    {
     "cell_type": "heading",
     "level": 3,
     "metadata": {},
     "source": [
      "Display a rpl graph on a network from the db, highlighting a single node"
     ]
    },
    {
     "cell_type": "code",
     "collapsed": false,
     "input": [
      "h = Host.objects.filter(kqueue__hostname='cooja')[0]\n",
      "pngShow(graph.getPNG(h))    "
     ],
     "language": "python",
     "metadata": {},
     "outputs": []
    },
    {
     "cell_type": "code",
     "collapsed": false,
     "input": [
      "'''\n",
      "print\n",
      "print 'Number of inputs edges for each node'\n",
      "print graph.in_degree()\n",
      "\n",
      "print\n",
      "print 'List of edges, nodoX -> nodoY'\n",
      "print graph.out_edges()\n",
      "\n",
      "print\n",
      "print 'predecessor nodes for a specific node'\n",
      "print '0909', graph.predecessors(':0909')\n",
      "print '6LBR', graph.predecessors('6LBR')\n",
      "\n",
      "print\n",
      "print 'parents nodes'\n",
      "print '0909', graph.successors(':0909')\n",
      "\n",
      "print\n",
      "print 'degree, numer of input/output edges for each node'\n",
      "print graph.degree()\n",
      "\n",
      "\n",
      "\n",
      "#for i in graph.degree_iter():\n",
      "#    print i\n",
      "print \n",
      "print 'Shortest path between all nodes and 6LBR'\n",
      "for n in graph.nodes():\n",
      "    p = shortest_path(graph, n, '6LBR')\n",
      "    print n, p, 'hops = ', shortest_path_length(graph, n, '6LBR')\n",
      "'''    \n",
      "\n",
      "#print\n",
      "#print 'Average shortest path length', average_shortest_path_length(graph)    \n",
      "\n",
      "#print\n",
      "#print 'network density= ', function.density(graph)"
     ],
     "language": "python",
     "metadata": {},
     "outputs": []
    }
   ],
   "metadata": {}
  }
 ]
}