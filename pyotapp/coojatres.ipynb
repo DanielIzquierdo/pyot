{
 "metadata": {
  "name": ""
 },
 "nbformat": 3,
 "nbformat_minor": 0,
 "worksheets": [
  {
   "cells": [
    {
     "cell_type": "heading",
     "level": 3,
     "metadata": {},
     "source": [
      "Setup..."
     ]
    },
    {
     "cell_type": "code",
     "collapsed": false,
     "input": [
      "from pyot.models import *\n",
      "h = Host.objects.all()\n",
      "print h"
     ],
     "language": "python",
     "metadata": {},
     "outputs": [
      {
       "output_type": "stream",
       "stream": "stdout",
       "text": [
        "[<Host: aaaa::200:0:0:2 Network: aaaa::/64 - cooja>, <Host: aaaa::200:0:0:3 Network: aaaa::/64 - cooja>, <Host: aaaa::200:0:0:4 Network: aaaa::/64 - cooja>]\n"
       ]
      }
     ],
     "prompt_number": 5
    },
    {
     "cell_type": "heading",
     "level": 3,
     "metadata": {},
     "source": [
      "Discovery"
     ]
    },
    {
     "cell_type": "code",
     "collapsed": false,
     "input": [
      "for host in h:\n",
      "    host.DISCOVER()    "
     ],
     "language": "python",
     "metadata": {},
     "outputs": [],
     "prompt_number": 8
    },
    {
     "cell_type": "heading",
     "level": 3,
     "metadata": {},
     "source": [
      "Print resources"
     ]
    },
    {
     "cell_type": "code",
     "collapsed": false,
     "input": [
      "r = Resource.objects.all()\n",
      "print r"
     ],
     "language": "python",
     "metadata": {},
     "outputs": [
      {
       "output_type": "stream",
       "stream": "stdout",
       "text": [
        "[<Resource: aaaa::200:0:0:2 - /.well-known/core>, <Resource: aaaa::200:0:0:2 - /tasks>, <Resource: aaaa::200:0:0:2 - /actuator>, <Resource: aaaa::200:0:0:3 - /.well-known/core>, <Resource: aaaa::200:0:0:3 - /sensor>, <Resource: aaaa::200:0:0:4 - /.well-known/core>, <Resource: aaaa::200:0:0:4 - /sensor>]\n"
       ]
      }
     ],
     "prompt_number": 9
    }
   ],
   "metadata": {}
  }
 ]
}