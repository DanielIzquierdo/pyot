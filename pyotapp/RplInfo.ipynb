{
 "metadata": {
  "name": ""
 },
 "nbformat": 3,
 "nbformat_minor": 0,
 "worksheets": [
  {
   "cells": [
    {
     "cell_type": "heading",
     "level": 1,
     "metadata": {},
     "source": [
      "PyoT RPL Info Example"
     ]
    },
    {
     "cell_type": "heading",
     "level": 3,
     "metadata": {},
     "source": [
      "Setup Environment"
     ]
    },
    {
     "cell_type": "code",
     "collapsed": false,
     "input": [
      "%matplotlib inline\n",
      "import matplotlib.pyplot as plt\n",
      "import networkx as nx"
     ],
     "language": "python",
     "metadata": {},
     "outputs": [],
     "prompt_number": 37
    },
    {
     "cell_type": "heading",
     "level": 3,
     "metadata": {},
     "source": [
      "Show all registered hosts"
     ]
    },
    {
     "cell_type": "code",
     "collapsed": false,
     "input": [
      "from pyot.models import *\n",
      "h = Host.objects.filter(active=True)\n",
      "print h"
     ],
     "language": "python",
     "metadata": {},
     "outputs": [
      {
       "output_type": "stream",
       "stream": "stdout",
       "text": [
        "[<Host: aaaa::212:7402:2:202 Network: aaaa::/64 - cooja>, <Host: aaaa::212:7406:6:606 Network: aaaa::/64 - cooja>, <Host: aaaa::212:7404:4:404 Network: aaaa::/64 - cooja>, <Host: aaaa::212:7407:7:707 Network: aaaa::/64 - cooja>, <Host: aaaa::212:7405:5:505 Network: aaaa::/64 - cooja>, <Host: aaaa::212:7403:3:303 Network: aaaa::/64 - cooja>]\n"
       ]
      }
     ],
     "prompt_number": 38
    },
    {
     "cell_type": "heading",
     "level": 3,
     "metadata": {},
     "source": [
      "Plot RPL graph"
     ]
    },
    {
     "cell_type": "code",
     "collapsed": false,
     "input": [
      "G=nx.DiGraph(directed=True)\n",
      "\n",
      "\n",
      "def searchHost(eui, network):\n",
      "    h = Host.objects.filter(kqueue=network)\n",
      "    for i in h:\n",
      "        if i.ip6address.exploded[20:].replace(':','') == eui:\n",
      "            return i.ip6address.exploded[-5:]\n",
      "    return '6LBR'\n",
      "\n",
      "\n",
      "ns = Network.objects.all()\n",
      "\n",
      "for n in ns:\n",
      "    parents = Resource.objects.filter(uri='/rplinfo/parents', host__active=True, host__kqueue=n)\n",
      "    import json\n",
      "    parentsList = []\n",
      "    for p in parents:\n",
      "        print 'Searching parents for resource: ', p\n",
      "        \n",
      "        pNumber = p.GET()\n",
      "        \n",
      "        for index in range(int(pNumber)):\n",
      "            prefix = p.GET(query='index='+str(index))\n",
      "            l = json.loads(prefix)\n",
      "            pa = searchHost(l['eui'], n)\n",
      "            G.add_edge(p.host.ip6address.exploded[-5:], pa)\n",
      "    \n",
      "    pos=nx.spring_layout(G)      \n",
      "    \n",
      "    # nodes\n",
      "    nx.draw_networkx_nodes(G,pos,node_size=1000)\n",
      "    \n",
      "    # edges\n",
      "    nx.draw_networkx_edges(G,pos)\n",
      "    #nx.draw_networkx_edges(G,pos,width=6,alpha=0.5,edge_color='b',style='dashed')\n",
      "    \n",
      "    # labels\n",
      "    nx.draw_networkx_labels(G,pos,font_size=8,font_family='sans-serif')\n",
      "    \n",
      "    plt.axis('off')\n",
      "    #plt.savefig(\"dag.png\") # save as png\n",
      "    plt.show() # display"
     ],
     "language": "python",
     "metadata": {},
     "outputs": [
      {
       "output_type": "stream",
       "stream": "stdout",
       "text": [
        "Searching parents for resource:  aaaa::212:7402:2:202 - /rplinfo/parents\n",
        "Searching parents for resource: "
       ]
      },
      {
       "output_type": "stream",
       "stream": "stdout",
       "text": [
        " aaaa::212:7406:6:606 - /rplinfo/parents\n",
        "Searching parents for resource: "
       ]
      },
      {
       "output_type": "stream",
       "stream": "stdout",
       "text": [
        " aaaa::212:7404:4:404 - /rplinfo/parents"
       ]
      },
      {
       "output_type": "stream",
       "stream": "stdout",
       "text": [
        "\n",
        "Searching parents for resource: "
       ]
      },
      {
       "output_type": "stream",
       "stream": "stdout",
       "text": [
        " aaaa::212:7407:7:707 - /rplinfo/parents\n",
        "Searching parents for resource: "
       ]
      },
      {
       "output_type": "stream",
       "stream": "stdout",
       "text": [
        " aaaa::212:7405:5:505 - /rplinfo/parents\n",
        "Searching parents for resource: "
       ]
      },
      {
       "output_type": "stream",
       "stream": "stdout",
       "text": [
        " aaaa::212:7403:3:303 - /rplinfo/parents\n"
       ]
      },
      {
       "metadata": {},
       "output_type": "display_data",
       "png": "[encoded data removed]",
       "text": [
        "<matplotlib.figure.Figure at 0xc09ba4c>"
       ]
      }
     ],
     "prompt_number": 41
    },
    {
     "cell_type": "code",
     "collapsed": false,
     "input": [],
     "language": "python",
     "metadata": {},
     "outputs": [],
     "prompt_number": 21
    }
   ],
   "metadata": {}
  }
 ]
}