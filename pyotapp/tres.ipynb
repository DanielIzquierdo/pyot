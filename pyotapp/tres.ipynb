{
 "metadata": {
  "name": ""
 },
 "nbformat": 3,
 "nbformat_minor": 0,
 "worksheets": [
  {
   "cells": [
    {
     "cell_type": "heading",
     "level": 1,
     "metadata": {},
     "source": [
      "T-Res API demo"
     ]
    },
    {
     "cell_type": "heading",
     "level": 3,
     "metadata": {},
     "source": [
      "Create processing function"
     ]
    },
    {
     "cell_type": "code",
     "collapsed": false,
     "input": [
      "import os\n",
      "from pyot.models.tres import *\n",
      "from pyot.tresApp import *\n",
      "f = open('/home/andrea/Desktop/repos/icsi/apps/flow-demo_122013/pf/flow.py')\n",
      "t1 = TResPF(f, 'flow')\n",
      "#t2 = TResPF.fromSource(\"import xxx\", 'altronome')\n",
      "#print f\n",
      "#print t1\n",
      "#print t2\n"
     ],
     "language": "python",
     "metadata": {},
     "outputs": [
      {
       "output_type": "stream",
       "stream": "stdout",
       "text": [
        "Validating /home/andrea/Desktop/repos/icsi/apps/flow-demo_122013/pf/flow.py ...\n"
       ]
      }
     ],
     "prompt_number": 2
    },
    {
     "cell_type": "heading",
     "level": 3,
     "metadata": {},
     "source": [
      "Select input and output resources"
     ]
    },
    {
     "cell_type": "code",
     "collapsed": false,
     "input": [
      "rin = Resource.objects.filter(uri='/sensor')\n",
      "#t = TResTask(pf=t1.pf, inputS=rin, output=rout )\n",
      "rout = Resource.objects.filter(uri='/actuator')\n",
      "print rin, rout"
     ],
     "language": "python",
     "metadata": {},
     "outputs": [
      {
       "output_type": "stream",
       "stream": "stdout",
       "text": [
        "[<Resource: aaaa::200:0:0:3 - /sensor>, <Resource: aaaa::200:0:0:4 - /sensor>] [<Resource: aaaa::200:0:0:2 - /actuator>]\n"
       ]
      }
     ],
     "prompt_number": 3
    },
    {
     "cell_type": "heading",
     "level": 3,
     "metadata": {},
     "source": [
      "Create Tres task"
     ]
    },
    {
     "cell_type": "code",
     "collapsed": false,
     "input": [
      "tresTask = TResTask(pf=t1.pf, inputS=rin, output=rout[0] )\n",
      "print tresTask"
     ],
     "language": "python",
     "metadata": {},
     "outputs": [
      {
       "output_type": "stream",
       "stream": "stdout",
       "text": [
        "Pf=flow, inputs=[<Resource: aaaa::200:0:0:3 - /sensor>, <Resource: aaaa::200:0:0:4 - /sensor>], output=aaaa::200:0:0:2 - /actuator\n"
       ]
      }
     ],
     "prompt_number": 4
    },
    {
     "cell_type": "heading",
     "level": 3,
     "metadata": {},
     "source": [
      "Select Tres node"
     ]
    },
    {
     "cell_type": "code",
     "collapsed": false,
     "input": [
      "r = Resource.objects.get(uri='/tasks')\n",
      "print r.host, '    is a t-res node'"
     ],
     "language": "python",
     "metadata": {},
     "outputs": [
      {
       "output_type": "stream",
       "stream": "stdout",
       "text": [
        "aaaa::200:0:0:2 Network: aaaa::/64 - cooja     is a t-res node\n"
       ]
      }
     ],
     "prompt_number": 5
    },
    {
     "cell_type": "code",
     "collapsed": false,
     "input": [
      "print tresTask.deploy(r)"
     ],
     "language": "python",
     "metadata": {},
     "outputs": [
      {
       "output_type": "stream",
       "stream": "stdout",
       "text": [
        "/home/andrea/icsi/t-res/apps/tres/tools/tres-client-13 coap://[aaaa::200:0:0:2]/tasks/flow /home/andrea/Desktop/repos/icsi/apps/flow-demo_122013/pf/flow.py \"<coap://[aaaa::200:0:0:3]/sensor>,<coap://[aaaa::200:0:0:4]/sensor>\" coap://[aaaa::200:0:0:2]/actuator\n",
        "\n",
        "\n"
       ]
      },
      {
       "output_type": "stream",
       "stream": "stdout",
       "text": [
        "\n"
       ]
      }
     ],
     "prompt_number": 6
    },
    {
     "cell_type": "code",
     "collapsed": false,
     "input": [
      "lo = tresTask.getLastOutput()\n",
      "print lo.GET()"
     ],
     "language": "python",
     "metadata": {},
     "outputs": [
      {
       "ename": "DoesNotExist",
       "evalue": "Resource matching query does not exist.",
       "output_type": "pyerr",
       "traceback": [
        "\u001b[1;31m---------------------------------------------------------------------------\u001b[0m\n\u001b[1;31mDoesNotExist\u001b[0m                              Traceback (most recent call last)",
        "\u001b[1;32m<ipython-input-7-9a5ab6ad9c18>\u001b[0m in \u001b[0;36m<module>\u001b[1;34m()\u001b[0m\n\u001b[1;32m----> 1\u001b[1;33m \u001b[0mlo\u001b[0m \u001b[1;33m=\u001b[0m \u001b[0mtresTask\u001b[0m\u001b[1;33m.\u001b[0m\u001b[0mgetLastOutput\u001b[0m\u001b[1;33m(\u001b[0m\u001b[1;33m)\u001b[0m\u001b[1;33m\u001b[0m\u001b[0m\n\u001b[0m\u001b[0;32m      2\u001b[0m \u001b[1;32mprint\u001b[0m \u001b[0mlo\u001b[0m\u001b[1;33m.\u001b[0m\u001b[0mGET\u001b[0m\u001b[1;33m(\u001b[0m\u001b[1;33m)\u001b[0m\u001b[1;33m\u001b[0m\u001b[0m\n",
        "\u001b[1;32m/home/andrea/pyot/pyotapp/pyot/tresApp.pyc\u001b[0m in \u001b[0;36mgetLastOutput\u001b[1;34m(self)\u001b[0m\n\u001b[0;32m     80\u001b[0m         \u001b[1;32mreturn\u001b[0m \u001b[0mself\u001b[0m\u001b[1;33m.\u001b[0m\u001b[0mtask\u001b[0m\u001b[1;33m.\u001b[0m\u001b[0mgetStatus\u001b[0m\u001b[1;33m(\u001b[0m\u001b[1;33m)\u001b[0m\u001b[1;33m\u001b[0m\u001b[0m\n\u001b[0;32m     81\u001b[0m     \u001b[1;32mdef\u001b[0m \u001b[0mgetLastOutput\u001b[0m\u001b[1;33m(\u001b[0m\u001b[0mself\u001b[0m\u001b[1;33m)\u001b[0m\u001b[1;33m:\u001b[0m\u001b[1;33m\u001b[0m\u001b[0m\n\u001b[1;32m---> 82\u001b[1;33m         \u001b[1;32mreturn\u001b[0m \u001b[0mself\u001b[0m\u001b[1;33m.\u001b[0m\u001b[0mtask\u001b[0m\u001b[1;33m.\u001b[0m\u001b[0mgetLastOutput\u001b[0m\u001b[1;33m(\u001b[0m\u001b[1;33m)\u001b[0m\u001b[1;33m\u001b[0m\u001b[0m\n\u001b[0m",
        "\u001b[1;32m/home/andrea/pyot/pyotapp/pyot/models/tres.pyc\u001b[0m in \u001b[0;36mgetLastOutput\u001b[1;34m(self)\u001b[0m\n\u001b[0;32m    142\u001b[0m         \u001b[0mloUri\u001b[0m \u001b[1;33m=\u001b[0m \u001b[1;34m'/tasks/%s/lo'\u001b[0m \u001b[1;33m%\u001b[0m \u001b[0mself\u001b[0m\u001b[1;33m.\u001b[0m\u001b[0mpf\u001b[0m\u001b[1;33m.\u001b[0m\u001b[0mname\u001b[0m\u001b[1;33m\u001b[0m\u001b[0m\n\u001b[0;32m    143\u001b[0m         \u001b[1;32mprint\u001b[0m \u001b[0mloUri\u001b[0m\u001b[1;33m\u001b[0m\u001b[0m\n\u001b[1;32m--> 144\u001b[1;33m         \u001b[0mlo\u001b[0m \u001b[1;33m=\u001b[0m \u001b[0mResource\u001b[0m\u001b[1;33m.\u001b[0m\u001b[0mobjects\u001b[0m\u001b[1;33m.\u001b[0m\u001b[0mget\u001b[0m\u001b[1;33m(\u001b[0m\u001b[0muri\u001b[0m\u001b[1;33m=\u001b[0m\u001b[0mloUri\u001b[0m\u001b[1;33m,\u001b[0m \u001b[0mhost__ip6address\u001b[0m\u001b[1;33m=\u001b[0m\u001b[0mself\u001b[0m\u001b[1;33m.\u001b[0m\u001b[0mTResResource\u001b[0m\u001b[1;33m.\u001b[0m\u001b[0mhost\u001b[0m\u001b[1;33m.\u001b[0m\u001b[0mip6address\u001b[0m\u001b[1;33m)\u001b[0m\u001b[1;33m\u001b[0m\u001b[0m\n\u001b[0m\u001b[0;32m    145\u001b[0m         \u001b[1;32mreturn\u001b[0m \u001b[0mlo\u001b[0m\u001b[1;33m\u001b[0m\u001b[0m\n",
        "\u001b[1;32m/usr/local/lib/python2.7/dist-packages/django/db/models/manager.pyc\u001b[0m in \u001b[0;36mget\u001b[1;34m(self, *args, **kwargs)\u001b[0m\n\u001b[0;32m    149\u001b[0m \u001b[1;33m\u001b[0m\u001b[0m\n\u001b[0;32m    150\u001b[0m     \u001b[1;32mdef\u001b[0m \u001b[0mget\u001b[0m\u001b[1;33m(\u001b[0m\u001b[0mself\u001b[0m\u001b[1;33m,\u001b[0m \u001b[1;33m*\u001b[0m\u001b[0margs\u001b[0m\u001b[1;33m,\u001b[0m \u001b[1;33m**\u001b[0m\u001b[0mkwargs\u001b[0m\u001b[1;33m)\u001b[0m\u001b[1;33m:\u001b[0m\u001b[1;33m\u001b[0m\u001b[0m\n\u001b[1;32m--> 151\u001b[1;33m         \u001b[1;32mreturn\u001b[0m \u001b[0mself\u001b[0m\u001b[1;33m.\u001b[0m\u001b[0mget_queryset\u001b[0m\u001b[1;33m(\u001b[0m\u001b[1;33m)\u001b[0m\u001b[1;33m.\u001b[0m\u001b[0mget\u001b[0m\u001b[1;33m(\u001b[0m\u001b[1;33m*\u001b[0m\u001b[0margs\u001b[0m\u001b[1;33m,\u001b[0m \u001b[1;33m**\u001b[0m\u001b[0mkwargs\u001b[0m\u001b[1;33m)\u001b[0m\u001b[1;33m\u001b[0m\u001b[0m\n\u001b[0m\u001b[0;32m    152\u001b[0m \u001b[1;33m\u001b[0m\u001b[0m\n\u001b[0;32m    153\u001b[0m     \u001b[1;32mdef\u001b[0m \u001b[0mget_or_create\u001b[0m\u001b[1;33m(\u001b[0m\u001b[0mself\u001b[0m\u001b[1;33m,\u001b[0m \u001b[1;33m**\u001b[0m\u001b[0mkwargs\u001b[0m\u001b[1;33m)\u001b[0m\u001b[1;33m:\u001b[0m\u001b[1;33m\u001b[0m\u001b[0m\n",
        "\u001b[1;32m/usr/local/lib/python2.7/dist-packages/django/db/models/query.pyc\u001b[0m in \u001b[0;36mget\u001b[1;34m(self, *args, **kwargs)\u001b[0m\n\u001b[0;32m    305\u001b[0m             raise self.model.DoesNotExist(\n\u001b[0;32m    306\u001b[0m                 \u001b[1;34m\"%s matching query does not exist.\"\u001b[0m \u001b[1;33m%\u001b[0m\u001b[1;33m\u001b[0m\u001b[0m\n\u001b[1;32m--> 307\u001b[1;33m                 self.model._meta.object_name)\n\u001b[0m\u001b[0;32m    308\u001b[0m         raise self.model.MultipleObjectsReturned(\n\u001b[0;32m    309\u001b[0m             \u001b[1;34m\"get() returned more than one %s -- it returned %s!\"\u001b[0m \u001b[1;33m%\u001b[0m\u001b[1;33m\u001b[0m\u001b[0m\n",
        "\u001b[1;31mDoesNotExist\u001b[0m: Resource matching query does not exist."
       ]
      },
      {
       "output_type": "stream",
       "stream": "stdout",
       "text": [
        "/tasks/flow/lo\n"
       ]
      }
     ],
     "prompt_number": 7
    }
   ],
   "metadata": {}
  }
 ]
}