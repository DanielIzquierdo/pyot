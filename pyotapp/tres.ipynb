{
 "metadata": {
  "name": ""
 },
 "nbformat": 3,
 "nbformat_minor": 0,
 "worksheets": [
  {
   "cells": [
    {
     "cell_type": "heading",
     "level": 1,
     "metadata": {},
     "source": [
      "T-Res API demo"
     ]
    },
    {
     "cell_type": "heading",
     "level": 3,
     "metadata": {},
     "source": [
      "Create processing function"
     ]
    },
    {
     "cell_type": "code",
     "collapsed": false,
     "input": [
      "import os\n",
      "from pyot.models.tres import *\n",
      "from pyot.tresApp import *\n",
      "f = open('/home/andrea/icsi/apps/flow-demo_122013/pf/flow.py')\n",
      "t1 = TResPF(f, 'flow')\n",
      "#t2 = TResPF.fromSource(\"import xxx\", 'altronome')\n",
      "#print f\n",
      "#print t1\n",
      "#print t2\n"
     ],
     "language": "python",
     "metadata": {},
     "outputs": [
      {
       "output_type": "stream",
       "stream": "stdout",
       "text": [
        "Validating /home/andrea/icsi/apps/flow-demo_122013/pf/flow.py ...\n"
       ]
      }
     ],
     "prompt_number": 1
    },
    {
     "cell_type": "heading",
     "level": 3,
     "metadata": {},
     "source": [
      "Select input and output resources"
     ]
    },
    {
     "cell_type": "code",
     "collapsed": false,
     "input": [
      "rin = Resource.objects.filter(uri='/sensor')\n",
      "rout = Resource.objects.get(uri='/actuator')\n",
      "print rin, rout"
     ],
     "language": "python",
     "metadata": {},
     "outputs": [
      {
       "output_type": "stream",
       "stream": "stdout",
       "text": [
        "[<Resource: aaaa::200:0:0:3 - /sensor>, <Resource: aaaa::200:0:0:4 - /sensor>] aaaa::200:0:0:2 - /actuator\n"
       ]
      }
     ],
     "prompt_number": 2
    },
    {
     "cell_type": "heading",
     "level": 3,
     "metadata": {},
     "source": [
      "Create Tres task"
     ]
    },
    {
     "cell_type": "code",
     "collapsed": false,
     "input": [
      "tresTask = TResTask(pf=t1, inputS=rin, output=rout)\n",
      "print tresTask"
     ],
     "language": "python",
     "metadata": {},
     "outputs": [
      {
       "output_type": "stream",
       "stream": "stdout",
       "text": [
        "Pf=flow, inputs=[<Resource: aaaa::200:0:0:3 - /sensor>, <Resource: aaaa::200:0:0:4 - /sensor>], output=aaaa::200:0:0:2 - /actuator\n"
       ]
      }
     ],
     "prompt_number": 3
    },
    {
     "cell_type": "heading",
     "level": 3,
     "metadata": {},
     "source": [
      "Select Tres node"
     ]
    },
    {
     "cell_type": "code",
     "collapsed": false,
     "input": [
      "r = Resource.objects.get(uri='/tasks')\n",
      "print r.host, '    is a t-res node'"
     ],
     "language": "python",
     "metadata": {},
     "outputs": [
      {
       "output_type": "stream",
       "stream": "stdout",
       "text": [
        "aaaa::200:0:0:2 Network: aaaa::/64 - cooja     is a t-res node\n"
       ]
      }
     ],
     "prompt_number": 4
    },
    {
     "cell_type": "heading",
     "level": 3,
     "metadata": {},
     "source": [
      "Install all the required resources"
     ]
    },
    {
     "cell_type": "code",
     "collapsed": false,
     "input": [
      "tresTask.deploy(r)"
     ],
     "language": "python",
     "metadata": {},
     "outputs": []
    },
    {
     "cell_type": "heading",
     "level": 3,
     "metadata": {},
     "source": [
      "Start the task"
     ]
    },
    {
     "cell_type": "code",
     "collapsed": false,
     "input": [
      "tresTask.start()"
     ],
     "language": "python",
     "metadata": {},
     "outputs": []
    },
    {
     "cell_type": "heading",
     "level": 3,
     "metadata": {},
     "source": [
      "Get the last output"
     ]
    },
    {
     "cell_type": "code",
     "collapsed": false,
     "input": [
      "lo = tresTask.getLastOutput()\n",
      "print lo.GET()"
     ],
     "language": "python",
     "metadata": {},
     "outputs": []
    },
    {
     "cell_type": "heading",
     "level": 3,
     "metadata": {},
     "source": [
      "Check the content of *is* and *od*"
     ]
    },
    {
     "cell_type": "code",
     "collapsed": false,
     "input": [
      "r = Resource.objects.get(uri='/tasks/flow/is')\n",
      "print r.GET()\n",
      "r = Resource.objects.get(uri='/tasks/flow/od')\n",
      "print r.GET()"
     ],
     "language": "python",
     "metadata": {},
     "outputs": []
    }
   ],
   "metadata": {}
  }
 ]
}