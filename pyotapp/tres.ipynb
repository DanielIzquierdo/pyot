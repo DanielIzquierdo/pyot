{
 "metadata": {
  "name": ""
 },
 "nbformat": 3,
 "nbformat_minor": 0,
 "worksheets": [
  {
   "cells": [
    {
     "cell_type": "heading",
     "level": 1,
     "metadata": {},
     "source": [
      "T-Res API demo"
     ]
    },
    {
     "cell_type": "heading",
     "level": 3,
     "metadata": {},
     "source": [
      "Create processing function"
     ]
    },
    {
     "cell_type": "code",
     "collapsed": false,
     "input": [
      "import os\n",
      "from pyot.models.tres import *\n",
      "from pyot.tresApp import *\n",
      "f = open('/home/andrea/icsi/apps/flow-demo_122013/pf/flow.py')\n",
      "t1 = TResPF(f, 't2')\n",
      "#t1 = TResPF.fromSource(\"print 'ok'\", 'altro')\n",
      "\n",
      "rin = Resource.objects.filter(uri='/test/push', host__active=True)\n",
      "rout = Resource.objects.filter(uri='/actuator', host__active=True)[0]\n",
      "print rin, rout\n",
      "\n",
      "#tresTask = TResTask(TresPf=t1, inputS=rin, output=rout)\n",
      "tresTask = TResTask(TresPf=t1, inputS=rin)\n",
      "print tresTask\n",
      "\n",
      "r = Resource.objects.get(uri='/tasks')\n",
      "print r.host, '    is a t-res node'\n",
      "tresTask.deploy(r)\n"
     ],
     "language": "python",
     "metadata": {},
     "outputs": [
      {
       "output_type": "stream",
       "stream": "stdout",
       "text": [
        "Validating /home/andrea/icsi/apps/flow-demo_122013/pf/flow.py ...\n",
        "[<Resource: aaaa::200:0:0:4 - /test/push>, <Resource: aaaa::200:0:0:3 - /test/push>]"
       ]
      },
      {
       "output_type": "stream",
       "stream": "stdout",
       "text": [
        " aaaa::200:0:0:2 - /actuator\n",
        "Pf=t2, inputs=[<Resource: aaaa::200:0:0:4 - /test/push>, <Resource: aaaa::200:0:0:3 - /test/push>], output=None"
       ]
      },
      {
       "output_type": "stream",
       "stream": "stdout",
       "text": [
        "\n",
        "aaaa::200:0:0:2 Network: aaaa::/64 - cooja     is a t-res node\n"
       ]
      },
      {
       "metadata": {},
       "output_type": "pyout",
       "prompt_number": 1,
       "text": [
        "'Tres Task Pf=t2, inputs=[<Resource: aaaa::200:0:0:4 - /test/push>, <Resource: aaaa::200:0:0:3 - /test/push>], output=None Installed'"
       ]
      }
     ],
     "prompt_number": 1
    },
    {
     "cell_type": "code",
     "collapsed": false,
     "input": [
      "r = tresTask.start()\n",
      "print r"
     ],
     "language": "python",
     "metadata": {},
     "outputs": [
      {
       "output_type": "stream",
       "stream": "stdout",
       "text": [
        "2.05 - Task now running\n"
       ]
      }
     ],
     "prompt_number": 2
    },
    {
     "cell_type": "heading",
     "level": 3,
     "metadata": {},
     "source": [
      "Get the last output"
     ]
    },
    {
     "cell_type": "code",
     "collapsed": false,
     "input": [
      "lo = tresTask.getLastOutput()\n",
      "r = lo.GET()\n",
      "print r"
     ],
     "language": "python",
     "metadata": {},
     "outputs": [
      {
       "output_type": "stream",
       "stream": "stdout",
       "text": [
        "2.05 - \n"
       ]
      }
     ],
     "prompt_number": 3
    },
    {
     "cell_type": "heading",
     "level": 3,
     "metadata": {},
     "source": [
      "Check the content of *is* and *od*"
     ]
    },
    {
     "cell_type": "code",
     "collapsed": false,
     "input": [
      "Is = tresTask.getInputSource()\n",
      "r = Is.GET()\n",
      "print r\n",
      "\n",
      "Od = tresTask.getOutputDestination()\n",
      "r = Od.GET()\n",
      "print r"
     ],
     "language": "python",
     "metadata": {},
     "outputs": [
      {
       "output_type": "stream",
       "stream": "stdout",
       "text": [
        "2.05 - <coap://[aaaa::200:0:0:4]/test/push>,<coap://[aaaa::200:0:0:3]/test/push>\n",
        "2.05 - "
       ]
      },
      {
       "output_type": "stream",
       "stream": "stdout",
       "text": [
        "\n"
       ]
      }
     ],
     "prompt_number": 4
    },
    {
     "cell_type": "heading",
     "level": 3,
     "metadata": {},
     "source": [
      "Uninstall the task"
     ]
    },
    {
     "cell_type": "code",
     "collapsed": false,
     "input": [
      "r = tresTask.uninstall()\n",
      "print r"
     ],
     "language": "python",
     "metadata": {},
     "outputs": [
      {
       "output_type": "stream",
       "stream": "stdout",
       "text": [
        "Task t2 uninstalled\n"
       ]
      }
     ],
     "prompt_number": 5
    }
   ],
   "metadata": {}
  }
 ]
}