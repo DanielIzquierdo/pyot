{
 "metadata": {
  "name": ""
 },
 "nbformat": 3,
 "nbformat_minor": 0,
 "worksheets": [
  {
   "cells": [
    {
     "cell_type": "code",
     "collapsed": false,
     "input": [
      "%matplotlib inline\n",
      "from pylab import *\n",
      "import matplotlib.pyplot as plt\n",
      "import numpy as np\n",
      "from pyot.models import *\n",
      "from datetime import datetime\n",
      "import time"
     ],
     "language": "python",
     "metadata": {},
     "outputs": [],
     "prompt_number": 1
    },
    {
     "cell_type": "code",
     "collapsed": false,
     "input": [
      "actuators = Resource.objects.filter(uri='/actuators/toggle', host__active=True)\n",
      "tasks = []\n",
      "nodes = []\n",
      "\n",
      "for act in actuators:\n",
      "    loc = int(act.host.location)\n",
      "    if (loc >=  2): # and (loc <= 7):\n",
      "        nodes.append(act)\n",
      "\n",
      "for x in range(100):\n",
      "    try:\n",
      "        start = datetime.now()\n",
      "        j = 0\n",
      "        for node in nodes:\n",
      "            tasks.append(node.asyncPOST(payload=str(j), index=int(node.host.location)))\n",
      "            j += 1\n",
      "    \n",
      "        for task in tasks:\n",
      "            task.wait(timeout=15)\n",
      "    \n",
      "        end = datetime.now()\n",
      "        diff = str(end-start)+'\\n'\n",
      "        f = open('p_n14_d200.txt', 'a')\n",
      "        f.write(diff)\n",
      "        f.close()\n",
      "        print x\n",
      "        time.sleep(2)\n",
      "    except Exception as e:\n",
      "        print e\n",
      "        f = open('p_n14_d200.txt', 'a')\n",
      "        f.write(\"ERROR\\n\")\n",
      "        f.close()\n",
      "        continue"
     ],
     "language": "python",
     "metadata": {},
     "outputs": [
      {
       "output_type": "stream",
       "stream": "stdout",
       "text": [
        "0\n",
        "1"
       ]
      },
      {
       "output_type": "stream",
       "stream": "stdout",
       "text": [
        "\n",
        "2"
       ]
      },
      {
       "output_type": "stream",
       "stream": "stdout",
       "text": [
        "\n",
        "3"
       ]
      },
      {
       "output_type": "stream",
       "stream": "stdout",
       "text": [
        "\n",
        "4"
       ]
      },
      {
       "output_type": "stream",
       "stream": "stdout",
       "text": [
        "\n",
        "5"
       ]
      },
      {
       "output_type": "stream",
       "stream": "stdout",
       "text": [
        "\n",
        "6"
       ]
      },
      {
       "output_type": "stream",
       "stream": "stdout",
       "text": [
        "\n",
        "7"
       ]
      },
      {
       "output_type": "stream",
       "stream": "stdout",
       "text": [
        "\n",
        "8"
       ]
      },
      {
       "output_type": "stream",
       "stream": "stdout",
       "text": [
        "\n",
        "9"
       ]
      },
      {
       "ename": "KeyboardInterrupt",
       "evalue": "",
       "output_type": "pyerr",
       "traceback": [
        "\u001b[1;31m---------------------------------------------------------------------------\u001b[0m\n\u001b[1;31mKeyboardInterrupt\u001b[0m                         Traceback (most recent call last)",
        "\u001b[1;32m<ipython-input-2-6a77d8b4c4d7>\u001b[0m in \u001b[0;36m<module>\u001b[1;34m()\u001b[0m\n\u001b[0;32m     25\u001b[0m         \u001b[0mf\u001b[0m\u001b[1;33m.\u001b[0m\u001b[0mclose\u001b[0m\u001b[1;33m(\u001b[0m\u001b[1;33m)\u001b[0m\u001b[1;33m\u001b[0m\u001b[0m\n\u001b[0;32m     26\u001b[0m         \u001b[1;32mprint\u001b[0m \u001b[0mx\u001b[0m\u001b[1;33m\u001b[0m\u001b[0m\n\u001b[1;32m---> 27\u001b[1;33m         \u001b[0mtime\u001b[0m\u001b[1;33m.\u001b[0m\u001b[0msleep\u001b[0m\u001b[1;33m(\u001b[0m\u001b[1;36m2\u001b[0m\u001b[1;33m)\u001b[0m\u001b[1;33m\u001b[0m\u001b[0m\n\u001b[0m\u001b[0;32m     28\u001b[0m     \u001b[1;32mexcept\u001b[0m \u001b[0mException\u001b[0m \u001b[1;32mas\u001b[0m \u001b[0me\u001b[0m\u001b[1;33m:\u001b[0m\u001b[1;33m\u001b[0m\u001b[0m\n\u001b[0;32m     29\u001b[0m         \u001b[1;32mprint\u001b[0m \u001b[0me\u001b[0m\u001b[1;33m\u001b[0m\u001b[0m\n",
        "\u001b[1;31mKeyboardInterrupt\u001b[0m: "
       ]
      },
      {
       "output_type": "stream",
       "stream": "stdout",
       "text": [
        "\n"
       ]
      }
     ],
     "prompt_number": 2
    },
    {
     "cell_type": "code",
     "collapsed": false,
     "input": [
      "actuators = Resource.objects.filter(uri='/actuators/toggle', host__active=True)\n",
      "tasks = []\n",
      "nodes = []\n",
      "\n",
      "for act in actuators:\n",
      "    loc = int(act.host.location)\n",
      "    if (loc >=  2): #and (loc <= 7):\n",
      "        nodes.append(act)\n",
      "\n",
      "for x in range(100):\n",
      "    try:\n",
      "        start = datetime.now()\n",
      "        j = 0\n",
      "        for node in nodes:\n",
      "            node.POST()\n",
      "\n",
      "        end = datetime.now()\n",
      "        diff = str(end-start)+'\\n'\n",
      "        f = open('s_n14.txt', 'a')\n",
      "        f.write(diff)\n",
      "        f.close()\n",
      "        print x\n",
      "        time.sleep(2)\n",
      "    except Exception:\n",
      "        f = open('s_n14.txt', 'a')\n",
      "        f.write(\"ERROR\\n\")\n",
      "        f.close()\n",
      "        continue"
     ],
     "language": "python",
     "metadata": {},
     "outputs": []
    },
    {
     "cell_type": "code",
     "collapsed": false,
     "input": [
      "act1hop = Resource.objects.filter(uri='/actuators/toggle', host__active=True, host__location__in=[2, 3])\n",
      "act2hop = Resource.objects.filter(uri='/actuators/toggle', host__active=True, host__location__in=[4,5,6,7])\n",
      "list1hop = list(act1hop)\n",
      "list2hop = list(act2hop)\n",
      "#list1hop = list(act1hop)\n",
      "print list1hop[0], list2hop[0]\n",
      "print\n",
      "print list1hop[1], list2hop[1]\n",
      "print\n",
      "print list2hop[2]\n",
      "print\n",
      "print list2hop[3]\n",
      "\"\"\"\n",
      "tasks = []\n",
      "nodes = []\n",
      "\n",
      "for act in actuators:\n",
      "    loc = int(act.host.location)\n",
      "    if (loc =>  2) and (loc <= 7):\n",
      "        nodes.append(act)\n",
      "\"\"\"\n",
      "tasks = []\n",
      "\n",
      "for x in range(20):\n",
      "    try:    \n",
      "        start = datetime.now()\n",
      "        tasks.append(list1hop[0].asyncPOST())\n",
      "        tasks.append(list2hop[0].asyncPOST())\n",
      "        time.sleep(0.1)\n",
      "        tasks.append(list1hop[1].asyncPOST())\n",
      "        tasks.append(list2hop[1].asyncPOST())  \n",
      "        time.sleep(0.1)\n",
      "        tasks.append(list2hop[2].asyncPOST())  \n",
      "        time.sleep(0.1)    \n",
      "        tasks.append(list2hop[3].asyncPOST())   \n",
      "        \n",
      "        for task in tasks:\n",
      "            task.wait(timeout=15)\n",
      "            \n",
      "        end = datetime.now()   \n",
      "        diff = str(end-start)+'\\n'\n",
      "        f = open('p_n6_l1.txt', 'a')\n",
      "        f.write(diff)\n",
      "        f.close()\n",
      "        print x\n",
      "        time.sleep(2)\n",
      "    except Exception:\n",
      "        f = open('p_n6_l1.txt', 'a')\n",
      "        f.write(\"ERROR\\n\")\n",
      "        f.close()\n",
      "        continue            \n"
     ],
     "language": "python",
     "metadata": {},
     "outputs": []
    },
    {
     "cell_type": "code",
     "collapsed": false,
     "input": [
      "#print \"1 HOP\"\n",
      "#for x in range(1000):\n",
      "#    print x\n",
      "#    try:\n",
      "#        actuator = Resource.objects.get(host__id=3, uri='/actuators/toggle')\n",
      "#        start = datetime.now()\n",
      "#        actuator.POST()\n",
      "#        end = datetime.now()\n",
      "#        diff = str(end-start)+'\\n'\n",
      "#        f = open('notebook_1Hop.txt', 'a')\n",
      "#        f.write(diff)\n",
      "#        f.close()\n",
      "#        time.sleep(2)\n",
      "#    except Exception:\n",
      "#        f = open('notebook_1Hop.txt', 'a')\n",
      "#        f.write(\"ERROR\\n\")\n",
      "#        f.close()\n",
      "#        continue\n",
      "        \n",
      "print \"2 HOP\"\n",
      "for x in range(1000):\n",
      "    print x\n",
      "    try:\n",
      "        actuator = Resource.objects.get(host__id=14, uri='/actuators/toggle')\n",
      "        start = datetime.now()\n",
      "        actuator.POST()\n",
      "        end = datetime.now()\n",
      "        diff = str(end-start)+'\\n'\n",
      "        f = open('notebook_2Hop.txt', 'a')\n",
      "        f.write(diff)\n",
      "        f.close()\n",
      "        time.sleep(2)\n",
      "    except Exception:\n",
      "        f = open('notebook_2Hop.txt', 'a')\n",
      "        f.write(\"ERROR\\n\")\n",
      "        f.close()\n",
      "        continue\n",
      "        \n",
      "#print \"3 HOP\"        \n",
      "#for x in range(100):\n",
      "#    print x\n",
      "#    try:\n",
      "#        actuator = Resource.objects.get(host__id=6, uri='/actuators/toggle')\n",
      "#        start = datetime.now()\n",
      "#        actuator.POST()\n",
      "#        end = datetime.now()\n",
      "#        diff = str(end-start)+'\\n'\n",
      "#        f = open('notebook_3Hop.txt', 'a')\n",
      "#        f.write(diff)\n",
      "#        f.close()\n",
      "#        time.sleep(2)\n",
      "#    except Exception:\n",
      "#        f = open('notebook_3Hop.txt', 'a')\n",
      "#        f.write(\"ERROR\\n\")\n",
      "#        f.close()\n",
      "#        continue"
     ],
     "language": "python",
     "metadata": {},
     "outputs": []
    },
    {
     "cell_type": "code",
     "collapsed": false,
     "input": [
      "actuators = Resource.objects.filter(uri='/actuators/toggle', host__active=True)\n",
      "\n",
      "for act in actuators:\n",
      "    print \"\", act.host.id, str(act)"
     ],
     "language": "python",
     "metadata": {},
     "outputs": []
    },
    {
     "cell_type": "code",
     "collapsed": false,
     "input": [],
     "language": "python",
     "metadata": {},
     "outputs": []
    }
   ],
   "metadata": {}
  }
 ]
}