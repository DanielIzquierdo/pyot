{
 "metadata": {
  "name": ""
 },
 "nbformat": 3,
 "nbformat_minor": 0,
 "worksheets": [
  {
   "cells": [
    {
     "cell_type": "heading",
     "level": 1,
     "metadata": {},
     "source": [
      "T-Res API demo"
     ]
    },
    {
     "cell_type": "heading",
     "level": 3,
     "metadata": {},
     "source": [
      "Create processing function"
     ]
    },
    {
     "cell_type": "code",
     "collapsed": false,
     "input": [
      "import os\n",
      "from pyot.models.tres import *\n",
      "from pyot.tres.tresApp import *\n",
      "\n",
      "test= \"\"\"\n",
      "from tres_pymite import *\n",
      "\n",
      "print 'testing state'\n",
      "class state:\n",
      "  def __init__(self):\n",
      "    self.s1 = -1\n",
      "    self.s2 = -1\n",
      "\n",
      "s = getState(state)    \n",
      "\n",
      "print s.s1, s.s2\n",
      "print 'saving new state'\n",
      "s.s1 += 1\n",
      "s.s2 += 2\n",
      "saveState(s)\n",
      "\n",
      "'print testing getIntInput/pop/push'\n",
      "b = pop(0)\n",
      "print 'popped', b\n",
      "\n",
      "a = getIntInput()\n",
      "f = getFloatInput()\n",
      "print 'int input = ', a\n",
      "print 'float input = ', f\n",
      "push(a+3)\n",
      "setOutput(a)\n",
      "print 'end'\n",
      "\n",
      "\"\"\"\n",
      "\n",
      "\n",
      "ema = \"\"\"\n",
      "from tres_pymite import *\n",
      "\n",
      "class state:\n",
      "  def __init__(self):\n",
      "    self.m = 0.0\n",
      "\n",
      "print \"Exponential Moving Average:\",\n",
      "s = getState(state)\n",
      "x = getFloatInput()\n",
      "s.m = 0.1 * x + 0.9 * s.m\n",
      "print s.m\n",
      "setOutput(s.m)\n",
      "saveState(s)\n",
      "\"\"\"\n",
      "\n",
      "halve = \"\"\"\n",
      "from tres_pymite import *\n",
      "print \"Halve:\",\n",
      "i = getIntInput()\n",
      "print i/2.\n",
      "setOutput(i/2.)\n",
      "\"\"\"\n",
      "\n",
      "t1 = TResPF.fromSource(halve, 'halve')\n",
      "\n",
      "rin = Resource.objects.filter(uri='/test/push', host__active=True)\n",
      "rout = Resource.objects.filter(uri='/actuator', host__active=True)[0]\n",
      "print rin, rout\n",
      "\n",
      "tresTask = TResTask(TresPf=t1, inputS=rin)\n",
      "print tresTask\n",
      "\n",
      "tresTask.emulate(duration=40)\n"
     ],
     "language": "python",
     "metadata": {},
     "outputs": [
      {
       "output_type": "stream",
       "stream": "stdout",
       "text": [
        "Validating /home/andrea/pyot/pyotapp/media/scripts/halve.py ...\n",
        "[<Resource: aaaa::200:0:0:4 - /test/push>, <Resource: aaaa::200:0:0:3 - /test/push>]"
       ]
      },
      {
       "output_type": "stream",
       "stream": "stdout",
       "text": [
        " aaaa::200:0:0:2 - /actuator\n",
        "Pf=halve.py, inputs=[<Resource: aaaa::200:0:0:4 - /test/push>, <Resource: aaaa::200:0:0:3 - /test/push>], output=None"
       ]
      },
      {
       "output_type": "stream",
       "stream": "stdout",
       "text": [
        "\n",
        "Starting observe on "
       ]
      },
      {
       "output_type": "stream",
       "stream": "stdout",
       "text": [
        " aaaa::200:0:0:4 - /test/push\n",
        "Starting observe on  aaaa::200:0:0:3 - /test/push\n"
       ]
      }
     ],
     "prompt_number": 1
    },
    {
     "cell_type": "heading",
     "level": 3,
     "metadata": {},
     "source": [
      "Get the last output"
     ]
    },
    {
     "cell_type": "code",
     "collapsed": true,
     "input": [
      "r = tresTask.getEmuLastOutput()\n",
      "print r\n",
      "\n",
      "print tresTask.getEmuResult()\n",
      "\n",
      "\n"
     ],
     "language": "python",
     "metadata": {},
     "outputs": [
      {
       "output_type": "stream",
       "stream": "stdout",
       "text": [
        "236.5\n",
        "\n"
       ]
      }
     ],
     "prompt_number": 6
    },
    {
     "cell_type": "code",
     "collapsed": false,
     "input": [],
     "language": "python",
     "metadata": {},
     "outputs": [],
     "prompt_number": 3
    },
    {
     "cell_type": "code",
     "collapsed": false,
     "input": [],
     "language": "python",
     "metadata": {},
     "outputs": []
    }
   ],
   "metadata": {}
  }
 ]
}