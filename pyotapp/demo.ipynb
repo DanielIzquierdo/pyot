{
 "metadata": {
  "name": "demoGE"
 },
 "nbformat": 3,
 "nbformat_minor": 0,
 "worksheets": [
  {
   "cells": [
    {
     "cell_type": "heading",
     "level": 1,
     "metadata": {},
     "source": "PyoT & T-Res Demo"
    },
    {
     "cell_type": "heading",
     "level": 3,
     "metadata": {},
     "source": "Setup the environment"
    },
    {
     "cell_type": "code",
     "collapsed": false,
     "input": "%matplotlib inline\nimport matplotlib.pyplot as plt\nfrom networkx import *\nfrom pyot.rplApp import *\nfrom pyot.models import *\nfrom IPython.display import Image, display\nfrom networkx.algorithms import *\nimport numpy as np\nimport os\nfrom pyot.models.tres import *\nfrom pyot.tres.tresApp import *\n\ndef pngShow(path):\n    i = Image(filename=path)\n    display(i)",
     "language": "python",
     "metadata": {},
     "outputs": [],
     "prompt_number": 46
    },
    {
     "cell_type": "heading",
     "level": 3,
     "metadata": {},
     "source": "Dynamic RPL DAG visualizazion"
    },
    {
     "cell_type": "code",
     "collapsed": false,
     "input": "n = Network.objects.get(hostname='celery@rasp')\n\ng = DAGupdate(n)\npngShow(g.getPNG())",
     "language": "python",
     "metadata": {},
     "outputs": [
      {
       "output_type": "stream",
       "stream": "stdout",
       "text": "Searching parents for resource:  aaaa::200:0:0:4 - /rplinfo/parents\n{\"eui\":\"021274000bd878b2\",\"pref\":true,\"etx\":128}"
      },
      {
       "output_type": "stream",
       "stream": "stdout",
       "text": "\nSearching parents for resource:  aaaa::200:0:0:3 - /rplinfo/parents\n{\"eui\":\"021274000bd878b2\",\"pref\":true,\"etx\":128}"
      },
      {
       "output_type": "stream",
       "stream": "stdout",
       "text": "\nSearching parents for resource:  aaaa::201:2dcf:4629:4b4 - /rplinfo/parents\n{\"eui\":\"021274000bd878b2\",\"pref\":true,\"etx\":128}"
      },
      {
       "output_type": "stream",
       "stream": "stdout",
       "text": "\nSearching parents for resource:  aaaa::212:7400:eda:98f0 - /rplinfo/parents\n{\"eui\":\"021274000bd878b2\",\"pref\":true,\"etx\":128}"
      },
      {
       "output_type": "stream",
       "stream": "stdout",
       "text": "\nSearching parents for resource:  aaaa::212:7400:eda:e14a - /rplinfo/parents\n{\"eui\":\"021274000bd878b2\",\"pref\":true,\"etx\":128}"
      },
      {
       "output_type": "stream",
       "stream": "stdout",
       "text": "\n"
      },
      {
       "metadata": {},
       "output_type": "display_data",
       "png": "[encoded data removed]",
       "text": "<IPython.core.display.Image at 0x90a20ac>"
      }
     ],
     "prompt_number": 47
    },
    {
     "cell_type": "heading",
     "level": 3,
     "metadata": {},
     "source": "Toggle actuators on every node"
    },
    {
     "cell_type": "code",
     "collapsed": false,
     "input": "actuators = Resource.objects.filter(uri='/actuators/toggle', host__active=True, host__kqueue__hostname='celery@rasp')\n\nfor act in actuators:\n    act.POST()\n    print 'toggling res: ' + str(act) \nprint 'Done'",
     "language": "python",
     "metadata": {},
     "outputs": [
      {
       "output_type": "stream",
       "stream": "stdout",
       "text": "toggling res: aaaa::200:0:0:4 - /actuators/toggle\ntoggling res: aaaa::200:0:0:3 - /actuators/toggle"
      },
      {
       "output_type": "stream",
       "stream": "stdout",
       "text": "\ntoggling res: aaaa::201:2dcf:4629:4b4 - /actuators/toggle"
      },
      {
       "output_type": "stream",
       "stream": "stdout",
       "text": "\ntoggling res: aaaa::212:7400:eda:98f0 - /actuators/toggle"
      },
      {
       "output_type": "stream",
       "stream": "stdout",
       "text": "\ntoggling res: aaaa::212:7400:eda:e14a - /actuators/toggle"
      },
      {
       "output_type": "stream",
       "stream": "stdout",
       "text": "\nDone\n"
      }
     ],
     "prompt_number": 48
    },
    {
     "cell_type": "heading",
     "level": 3,
     "metadata": {},
     "source": "Retrieve and display light values"
    },
    {
     "cell_type": "code",
     "collapsed": false,
     "input": "r = Resource.objects.filter(uri='/sensors/light', host__active=True)\nprint r\ny = []\ny2 = []\nfor light in r:\n    resp= light.GET()\n    v = resp.content\n    print light, v\n    y.append(int(v.split(';')[0]))\n    y2.append(int(v.split(';')[1]))\n\n#plot everything\nx = np.arange(len(r))\nfig, axes = plt.subplots(nrows=1, ncols=2)\naxes[0].bar(x, y, align=\"center\", width=0.5, alpha=0.5)\naxes[0].set_xlabel('Nodes')\naxes[0].set_ylabel('lux')\naxes[0].set_ylim(0, 200)\naxes[0].set_title('Light sensor value 1')\n\naxes[1].bar(x, y2, align=\"center\", width=0.5, alpha=0.5)\naxes[1].set_xlabel('Nodes')\naxes[1].set_ylabel('lux')\naxes[1].set_ylim(0, 200)\naxes[1].set_title('Light sensor value 2')\n\nfig.tight_layout()",
     "language": "python",
     "metadata": {},
     "outputs": [
      {
       "output_type": "stream",
       "stream": "stdout",
       "text": "[<Resource: aaaa::212:7400:eda:98f0 - /sensors/light>, <Resource: aaaa::212:7400:eda:e14a - /sensors/light>]\naaaa::212:7400:eda:98f0 - /sensors/light"
      },
      {
       "output_type": "stream",
       "stream": "stdout",
       "text": " 137;163\naaaa::212:7400:eda:e14a - /sensors/light"
      },
      {
       "output_type": "stream",
       "stream": "stdout",
       "text": " 156;180\n"
      },
      {
       "metadata": {},
       "output_type": "display_data",
       "png": "[encoded data removed]",
       "text": "<matplotlib.figure.Figure at 0xa7f564c>"
      }
     ],
     "prompt_number": 49
    },
    {
     "cell_type": "heading",
     "level": 1,
     "metadata": {},
     "source": "In-network processig with T-Res"
    },
    {
     "cell_type": "heading",
     "level": 3,
     "metadata": {},
     "source": "Define a new processing function and install it on a T-Res Node"
    },
    {
     "cell_type": "code",
     "collapsed": false,
     "input": "halve = \"\"\"\nfrom tres_pymite import *\nprint \"Halve:\",\ni = getIntInput()\nprint i/2.\nsetOutput(i/2.)\n\"\"\"\n\nt1 = TResPF.fromSource(halve, 'halve')\n\nrin = Resource.objects.filter(uri='/test/push', host__active=True, host__kqueue__hostname='celery@cooja-node1')\n#rout = Resource.objects.filter(uri='/actuator', host__active=True)[0]\nprint rin\n\ntresTask = TResTask(TresPf=t1, inputS=rin)\nprint tresTask\n\n\nr = Resource.objects.get(uri='/tasks')\nprint r.host, '    is a t-res node'\ntresTask.deploy(r)",
     "language": "python",
     "metadata": {},
     "outputs": [
      {
       "output_type": "stream",
       "stream": "stdout",
       "text": "Validating /home/noes/pyot/pyotapp/media/scripts/halve.py ...\n[<Resource: bbbb::200:0:0:4 - /test/push>, <Resource: bbbb::200:0:0:3 - /test/push>]\nPf=halve.py, inputs=[<Resource: bbbb::200:0:0:3 - /test/push>, <Resource: bbbb::200:0:0:4 - /test/push>], output=None\nbbbb::200:0:0:2 Network: bbbb::/64 - celery@cooja-node1     is a t-res node\n"
      },
      {
       "metadata": {},
       "output_type": "pyout",
       "prompt_number": 50,
       "text": "'Tres Task Pf=halve.py, inputs=[<Resource: bbbb::200:0:0:3 - /test/push>, <Resource: bbbb::200:0:0:4 - /test/push>], output=None Installed'"
      }
     ],
     "prompt_number": 50
    },
    {
     "cell_type": "heading",
     "level": 3,
     "metadata": {},
     "source": "Activate the task"
    },
    {
     "cell_type": "code",
     "collapsed": false,
     "input": "tresTask.start()",
     "language": "python",
     "metadata": {},
     "outputs": [
      {
       "output_type": "stream",
       "stream": "stdout",
       "text": "Task now running 2.05\n"
      },
      {
       "metadata": {},
       "output_type": "pyout",
       "prompt_number": 51,
       "text": "<pyot.models.rest.Response at 0xa7e3c2c>"
      }
     ],
     "prompt_number": 51
    },
    {
     "cell_type": "heading",
     "level": 3,
     "metadata": {},
     "source": "Get the last output from the T-Res node"
    },
    {
     "cell_type": "code",
     "collapsed": false,
     "input": "lo = tresTask.getLastOutput()\nprint lo.GET()",
     "language": "python",
     "metadata": {},
     "outputs": [
      {
       "output_type": "stream",
       "stream": "stdout",
       "text": "2.05 - 57.500000\n"
      }
     ],
     "prompt_number": 52
    },
    {
     "cell_type": "heading",
     "level": 3,
     "metadata": {},
     "source": "Stop the task"
    },
    {
     "cell_type": "code",
     "collapsed": false,
     "input": "tresTask.stop()",
     "language": "python",
     "metadata": {},
     "outputs": [
      {
       "output_type": "stream",
       "stream": "stdout",
       "text": "Task now halted 2.05\n"
      },
      {
       "metadata": {},
       "output_type": "pyout",
       "prompt_number": 53,
       "text": "<pyot.models.rest.Response at 0xa7e346c>"
      }
     ],
     "prompt_number": 53
    },
    {
     "cell_type": "heading",
     "level": 3,
     "metadata": {},
     "source": "Uninstall the task"
    },
    {
     "cell_type": "code",
     "collapsed": false,
     "input": "tresTask.uninstall()",
     "language": "python",
     "metadata": {},
     "outputs": [
      {
       "metadata": {},
       "output_type": "pyout",
       "prompt_number": 54,
       "text": "u'Task halve.py uninstalled'"
      }
     ],
     "prompt_number": 54
    },
    {
     "cell_type": "code",
     "collapsed": false,
     "input": "",
     "language": "python",
     "metadata": {},
     "outputs": []
    }
   ],
   "metadata": {}
  }
 ]
}