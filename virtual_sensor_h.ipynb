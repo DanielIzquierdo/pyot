{
 "metadata": {
  "name": ""
 },
 "nbformat": 3,
 "nbformat_minor": 0,
 "worksheets": [
  {
   "cells": [
    {
     "cell_type": "code",
     "collapsed": false,
     "input": [
      "from pyot.models import *\n",
      "from pyot.vres.vresApp import *\n",
      "\n",
      "print '\\nLL programmer'\n",
      "template = resource_template(uri='/sensors/light')\n",
      "\n",
      "hist = VirtualSensorHistTemplate(input_template=template, name='hi')\n",
      "hist.GET()"
     ],
     "language": "python",
     "metadata": {},
     "outputs": [
      {
       "output_type": "stream",
       "stream": "stdout",
       "text": [
        "\n",
        "LL programmer\n",
        "Past virtual sensor \n",
        "Subresources: \n",
        "  -processing \n",
        "  -startTime \n",
        "  -endTime"
       ]
      },
      {
       "output_type": "stream",
       "stream": "stdout",
       "text": [
        "\n"
       ]
      },
      {
       "metadata": {},
       "output_type": "pyout",
       "prompt_number": 1,
       "text": [
        "'virtual resource Past sensor template'"
       ]
      }
     ],
     "prompt_number": 1
    },
    {
     "cell_type": "code",
     "collapsed": false,
     "input": [
      "print '\\n*******************\\nHL programmer'\n",
      "hlTemplate = Resource.objects.get(title='hi')\n",
      "hlTemplate.GET()\n",
      "instance = hlTemplate.POST('inst')\n"
     ],
     "language": "python",
     "metadata": {},
     "outputs": [
      {
       "output_type": "stream",
       "stream": "stdout",
       "text": [
        "\n",
        "*******************\n",
        "HL programmer\n",
        "Past virtual sensor \n",
        "Subresources: \n",
        "  -processing \n",
        "  -startTime \n",
        "  -endTime\n"
       ]
      }
     ],
     "prompt_number": 2
    },
    {
     "cell_type": "code",
     "collapsed": false,
     "input": [
      "proc = \"\"\"\n",
      "input = get_input_list()\n",
      "if len(input) != 0:\n",
      "  print input\n",
      "  output = sum(input)/len(input)\n",
      "  set_output(output)\n",
      "\"\"\"\n",
      "instance.processing.PUT(proc)\n"
     ],
     "language": "python",
     "metadata": {},
     "outputs": [
      {
       "output_type": "stream",
       "stream": "stdout",
       "text": [
        "virtual PUT\n"
       ]
      }
     ],
     "prompt_number": 3
    },
    {
     "cell_type": "code",
     "collapsed": false,
     "input": [
      "print instance.GET()"
     ],
     "language": "python",
     "metadata": {},
     "outputs": [
      {
       "output_type": "stream",
       "stream": "stdout",
       "text": [
        "{'uri': '/sensors/light'}\n",
        "before filtering 17\n",
        "after filtering 17\n",
        "running the pf\n",
        "[58, 91, 64, 65, 62, 19, 96, 17, 70, 11, 48, 81, 54, 19, 88, 1, 38]\n",
        "(51, None)\n"
       ]
      }
     ],
     "prompt_number": 6
    },
    {
     "cell_type": "code",
     "collapsed": false,
     "input": [],
     "language": "python",
     "metadata": {},
     "outputs": [],
     "prompt_number": 4
    },
    {
     "cell_type": "code",
     "collapsed": false,
     "input": [],
     "language": "python",
     "metadata": {},
     "outputs": []
    }
   ],
   "metadata": {}
  }
 ]
}