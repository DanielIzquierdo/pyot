{
 "metadata": {
  "name": ""
 },
 "nbformat": 3,
 "nbformat_minor": 0,
 "worksheets": [
  {
   "cells": [
    {
     "cell_type": "code",
     "collapsed": false,
     "input": [
      "from pyot.models import *\n",
      "from pyot.vres.vresApp import *\n",
      "\n",
      "print '\\nLL programmer'\n",
      "template = resource_template(uri='/sensors/light')\n",
      "\n",
      "hist = VsHistTemplate(input_template=template, name='hi')\n",
      "hist.GET()"
     ],
     "language": "python",
     "metadata": {},
     "outputs": []
    },
    {
     "cell_type": "code",
     "collapsed": false,
     "input": [
      "print '\\n*******************\\nHL programmer'\n",
      "hlTemplate = Resource.objects.get(title='hi')\n",
      "hlTemplate.GET()\n",
      "instance = hlTemplate.POST('inst')\n"
     ],
     "language": "python",
     "metadata": {},
     "outputs": []
    },
    {
     "cell_type": "code",
     "collapsed": false,
     "input": [
      "proc = \"\"\"\n",
      "input = get_input_list()\n",
      "if len(input) != 0:\n",
      "  print input\n",
      "  output = sum(input)/len(input)\n",
      "  set_output(output)\n",
      "\"\"\"\n",
      "instance.processing.PUT(proc)\n"
     ],
     "language": "python",
     "metadata": {},
     "outputs": []
    },
    {
     "cell_type": "code",
     "collapsed": false,
     "input": [
      "print instance.GET()"
     ],
     "language": "python",
     "metadata": {},
     "outputs": []
    }
   ],
   "metadata": {}
  }
 ]
}