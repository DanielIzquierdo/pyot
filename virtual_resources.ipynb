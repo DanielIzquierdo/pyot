{
 "metadata": {
  "name": ""
 },
 "nbformat": 3,
 "nbformat_minor": 0,
 "worksheets": [
  {
   "cells": [
    {
     "cell_type": "code",
     "collapsed": false,
     "input": [
      "from pyot.models import *\n",
      "from pyot.vresApp import *\n",
      "\n",
      "print\n",
      "print 'LL programmer'\n",
      "template = resource_template(title='ciao', uri='bau')\n",
      "\n",
      "per = PeriodicVsTemplate(input_template=template)\n",
      "per.GET()\n",
      "\n",
      "print\n",
      "print 'HL programmer'\n",
      "hlTemplate = Resource.objects.filter(title='periodicVs')[0]\n",
      "hlTemplate.GET()\n",
      "instance = hlTemplate.POST('test')\n",
      "instance.GET()\n",
      "\n",
      "s = instance.getSubResources()\n",
      "print s\n",
      "#print instance.template\n",
      "#print instance.template.inputSet"
     ],
     "language": "python",
     "metadata": {},
     "outputs": [
      {
       "output_type": "stream",
       "stream": "stdout",
       "text": [
        "\n",
        "LL programmer\n",
        "supported methods: GET\n",
        "subresource: period"
       ]
      },
      {
       "output_type": "stream",
       "stream": "stdout",
       "text": [
        "\n",
        "\n",
        "HL programmer\n",
        "supported methods: GET\n",
        "subresource: period\n",
        "return the VALUE of the virtual resource"
       ]
      },
      {
       "output_type": "stream",
       "stream": "stdout",
       "text": [
        "\n",
        "[<Resource: ::1 - /periodicVs/test/period>]\n"
       ]
      }
     ],
     "prompt_number": 1
    },
    {
     "cell_type": "code",
     "collapsed": false,
     "input": [],
     "language": "python",
     "metadata": {},
     "outputs": []
    },
    {
     "cell_type": "code",
     "collapsed": false,
     "input": [],
     "language": "python",
     "metadata": {},
     "outputs": []
    }
   ],
   "metadata": {}
  }
 ]
}