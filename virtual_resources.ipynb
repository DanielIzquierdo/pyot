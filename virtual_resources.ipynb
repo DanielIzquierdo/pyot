{
 "metadata": {
  "name": ""
 },
 "nbformat": 3,
 "nbformat_minor": 0,
 "worksheets": [
  {
   "cells": [
    {
     "cell_type": "code",
     "collapsed": false,
     "input": [
      "from pyot.models import *\n",
      "from pyot.vres.vresApp import *\n",
      "\n",
      "print '\\nLL programmer'\n",
      "template = resource_template(title='light', uri='/sensors/light')\n",
      "\n",
      "per = VirtualSensorTemplate(input_template=template, name='t')\n",
      "per.GET()"
     ],
     "language": "python",
     "metadata": {},
     "outputs": [
      {
       "output_type": "stream",
       "stream": "stdout",
       "text": [
        "\n",
        "LL programmer\n",
        "/rd/t\n",
        "The vr is going to be created  *********************************\n",
        "\n",
        "\n",
        "post coap://[bbbb::1]/rd/t\n",
        "response= 2.01 \n"
       ]
      },
      {
       "output_type": "stream",
       "stream": "stdout",
       "text": [
        "\n",
        "Periodic Virtual Sensor \n",
        ">> supported methods: GET|POST\n",
        "  >> Configuration\\  >>   subresource: period\n",
        ">>   subresource: processing"
       ]
      },
      {
       "output_type": "stream",
       "stream": "stdout",
       "text": [
        "\n"
       ]
      },
      {
       "metadata": {},
       "output_type": "pyout",
       "prompt_number": 1,
       "text": [
        "'virtual resource template sample'"
       ]
      }
     ],
     "prompt_number": 1
    },
    {
     "cell_type": "code",
     "collapsed": false,
     "input": [
      "print '\\n*******************\\nHL programmer'\n",
      "hlTemplate = Resource.objects.get(title='t')\n",
      "hlTemplate.GET()\n",
      "instance = hlTemplate.POST('n')\n",
      "\n",
      "#print '\\ninstance configuration'\n",
      "#print instance.period.GET()\n",
      "#instance.period.PUT('120')\n",
      "#print instance.period.GET()\n",
      "\n",
      "\n",
      "\n",
      "#print '\\ninstance retrieval'\n",
      "#print instance.GET()\n",
      "#s = instance.getSubResources()\n",
      "#print s\n",
      "#print instance.template\n",
      "#print instance.template.inputSet"
     ],
     "language": "python",
     "metadata": {},
     "outputs": [
      {
       "output_type": "stream",
       "stream": "stdout",
       "text": [
        "\n",
        "*******************\n",
        "HL programmer\n",
        "Periodic Virtual Sensor \n",
        ">> supported methods: GET|POST\n",
        "  >> Configuration\\  >>   subresource: period\n",
        ">>   subresource: processing\n",
        "/rd/t/n\n",
        "The vr is going to be created  *********************************\n",
        "\n",
        "\n",
        "post coap://[bbbb::1]/rd/t/n\n",
        "response= 2.01 \n",
        "\n",
        "/rd/t/n/processing"
       ]
      },
      {
       "output_type": "stream",
       "stream": "stdout",
       "text": [
        "\n",
        "The vr is going to be created  *********************************\n",
        "\n",
        "\n",
        "post coap://[bbbb::1]/rd/t/n/processing\n",
        "response= 2.01 \n",
        "\n"
       ]
      }
     ],
     "prompt_number": 2
    },
    {
     "cell_type": "code",
     "collapsed": false,
     "input": [
      "proc = \"\"\"\n",
      "print 'this is a user-defined processing function'\n",
      "\n",
      "input = get_input_list()\n",
      "print input\n",
      "output = sum(input)/len(input)\n",
      "set_output(output)\n",
      "\"\"\"\n",
      "instance.processing.PUT(proc)\n",
      "print instance.processing.GET()"
     ],
     "language": "python",
     "metadata": {},
     "outputs": [
      {
       "output_type": "stream",
       "stream": "stdout",
       "text": [
        "virtual PUT\n",
        "virtual GET"
       ]
      },
      {
       "output_type": "stream",
       "stream": "stdout",
       "text": [
        "\n",
        "\n",
        "print 'this is a user-defined processing function'\n",
        "\n",
        "input = get_input_list()\n",
        "print input\n",
        "output = sum(input)/len(input)\n",
        "set_output(output)\n",
        "\n"
       ]
      }
     ],
     "prompt_number": 3
    },
    {
     "cell_type": "code",
     "collapsed": false,
     "input": [
      "print instance.GET()"
     ],
     "language": "python",
     "metadata": {},
     "outputs": [
      {
       "output_type": "stream",
       "stream": "stdout",
       "text": [
        "return the VALUE of the virtual resource\n",
        "{'uri': '/sensors/light', 'title': 'light'}\n",
        "running the pf"
       ]
      },
      {
       "output_type": "stream",
       "stream": "stdout",
       "text": [
        "\n",
        "this is a user-defined processing function\n",
        "[4, 48, 65443]\n",
        "65495\n"
       ]
      }
     ],
     "prompt_number": 6
    },
    {
     "cell_type": "code",
     "collapsed": false,
     "input": [
      "proc2 = \"\"\"\n",
      "print 'this is a user-defined processing function'\n",
      "input = get_input_list()\n",
      "print input\n",
      "output = sum(input)\n",
      "set_output(output)\n",
      "\"\"\"\n",
      "instance.processing.PUT(proc2)\n",
      "#print instance.processing.GET()\n",
      "print instance.GET()"
     ],
     "language": "python",
     "metadata": {},
     "outputs": [
      {
       "output_type": "stream",
       "stream": "stdout",
       "text": [
        "virtual PUT\n",
        "return the VALUE of the virtual resource"
       ]
      },
      {
       "output_type": "stream",
       "stream": "stdout",
       "text": [
        "\n",
        "{'uri': '/sensors/light', 'title': 'light'}\n",
        "running the pf"
       ]
      },
      {
       "output_type": "stream",
       "stream": "stdout",
       "text": [
        "\n",
        "this is a user-defined processing function\n",
        "[73, 9, 4]\n",
        "86\n"
       ]
      }
     ],
     "prompt_number": 7
    },
    {
     "cell_type": "code",
     "collapsed": false,
     "input": [],
     "language": "python",
     "metadata": {},
     "outputs": []
    }
   ],
   "metadata": {}
  }
 ]
}