{
 "metadata": {
  "name": ""
 },
 "nbformat": 3,
 "nbformat_minor": 0,
 "worksheets": [
  {
   "cells": [
    {
     "cell_type": "code",
     "collapsed": false,
     "input": [
      "from pyot.models import *\n",
      "from pyot.vresApp import *\n",
      "\n",
      "print '\\nLL programmer'\n",
      "template = resource_template(title='ciao', uri='bau')\n",
      "\n",
      "per = PeriodicVsTemplate(input_template=template)\n",
      "per.GET()\n",
      "\n",
      "\n",
      "print '\\n*******************\\nHL programmer'\n",
      "hlTemplate = Resource.objects.filter(title='perT')[0]\n",
      "hlTemplate.GET()\n",
      "instance = hlTemplate.POST('t')\n",
      "\n",
      "print '\\ninstance configuration'\n",
      "print instance.period.GET()\n",
      "instance.period.PUT('120')\n",
      "print instance.period.GET()\n",
      "\n",
      "print '\\ninstance retrieval'\n",
      "instance.GET()\n",
      "s = instance.getSubResources()\n",
      "print s\n",
      "#print instance.template\n",
      "#print instance.template.inputSet"
     ],
     "language": "python",
     "metadata": {},
     "outputs": [
      {
       "output_type": "stream",
       "stream": "stdout",
       "text": [
        "\n",
        "LL programmer\n",
        "/rd/perT"
       ]
      },
      {
       "output_type": "stream",
       "stream": "stdout",
       "text": [
        "\n",
        "The vr is going to be created  *********************************\n",
        "\n",
        "\n",
        "PATH ====================rd/perT\n"
       ]
      },
      {
       "output_type": "stream",
       "stream": "stdout",
       "text": [
        "Message sent to bbbb::1:5683\n",
        "----------------------------------------\n",
        "Source: None\n",
        "Destination: ('bbbb::1', 5683)\n",
        "Type: CON\n",
        "MID: 2\n",
        "Code: POST\n",
        "Token: None\n",
        "Uri-Path: rd\n",
        "Uri-Path: perT\n",
        "Payload: \n",
        "/rd/perT\n",
        "\n",
        "----------------------------------------\n",
        "Periodic Virtual Sensor \n",
        ">> supported methods: GET|POST\n",
        "  >> Configuration\\  >>   subresource: period\n",
        ">>   subresource: processing\n",
        "\n",
        "*******************\n",
        "HL programmer\n",
        "Periodic Virtual Sensor \n",
        ">> supported methods: GET|POST\n",
        "  >> Configuration\\  >>   subresource: period\n",
        ">>   subresource: processing\n",
        "instance uri ===== /rd/perT/t\n",
        "/rd/perT/t"
       ]
      },
      {
       "output_type": "stream",
       "stream": "stdout",
       "text": [
        "\n",
        "The vr is going to be created  *********************************\n",
        "\n",
        "\n",
        "PATH ====================rd/perT/t\n"
       ]
      },
      {
       "output_type": "stream",
       "stream": "stdout",
       "text": [
        "Message sent to bbbb::1:5683\n",
        "----------------------------------------\n",
        "Source: None\n",
        "Destination: ('bbbb::1', 5683)\n",
        "Type: CON\n",
        "MID: 2\n",
        "Code: POST\n",
        "Token: None\n",
        "Uri-Path: rd\n",
        "Uri-Path: perT\n",
        "Uri-Path: t\n",
        "Payload: \n",
        "/rd/perT/t\n",
        "\n",
        "----------------------------------------\n",
        "/rd/perT/t/period"
       ]
      },
      {
       "output_type": "stream",
       "stream": "stdout",
       "text": [
        "\n",
        "The vr is going to be created  *********************************\n",
        "\n",
        "\n",
        "PATH ====================rd/perT/t/period\n"
       ]
      },
      {
       "output_type": "stream",
       "stream": "stdout",
       "text": [
        "Message sent to bbbb::1:5683\n",
        "----------------------------------------\n",
        "Source: None\n",
        "Destination: ('bbbb::1', 5683)\n",
        "Type: CON\n",
        "MID: 2\n",
        "Code: POST\n",
        "Token: None\n",
        "Uri-Path: rd\n",
        "Uri-Path: perT\n",
        "Uri-Path: t\n",
        "Uri-Path: period\n",
        "Payload: \n",
        "/rd/perT/t/period\n",
        "\n",
        "----------------------------------------\n",
        "/rd/perT/t/processing"
       ]
      },
      {
       "output_type": "stream",
       "stream": "stdout",
       "text": [
        "\n",
        "The vr is going to be created  *********************************\n",
        "\n",
        "\n",
        "PATH ====================rd/perT/t/processing\n"
       ]
      },
      {
       "output_type": "stream",
       "stream": "stdout",
       "text": [
        "Message sent to bbbb::1:5683\n",
        "----------------------------------------\n",
        "Source: None\n",
        "Destination: ('bbbb::1', 5683)\n",
        "Type: CON\n",
        "MID: 2\n",
        "Code: POST\n",
        "Token: None\n",
        "Uri-Path: rd\n",
        "Uri-Path: perT\n",
        "Uri-Path: t\n",
        "Uri-Path: processing\n",
        "Payload: \n",
        "/rd/perT/t/processing\n",
        "\n",
        "----------------------------------------\n",
        "\n",
        "instance configuration"
       ]
      },
      {
       "output_type": "stream",
       "stream": "stdout",
       "text": [
        "\n",
        "virtual GET\n",
        "60\n",
        "virtual PUT\n",
        "virtual GET"
       ]
      },
      {
       "output_type": "stream",
       "stream": "stdout",
       "text": [
        "\n",
        "120\n",
        "\n",
        "instance retrieval\n",
        "return the VALUE of the virtual resource\n",
        "period = virtual GET\n",
        "120\n",
        "[<SubResource: ::1 - /rd/perT/t/period>, <SubResource: ::1 - /rd/perT/t/processing>]\n"
       ]
      }
     ],
     "prompt_number": 2
    },
    {
     "cell_type": "code",
     "collapsed": false,
     "input": [],
     "language": "python",
     "metadata": {},
     "outputs": [],
     "prompt_number": 12
    }
   ],
   "metadata": {}
  }
 ]
}