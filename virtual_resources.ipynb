{
 "metadata": {
  "name": ""
 },
 "nbformat": 3,
 "nbformat_minor": 0,
 "worksheets": [
  {
   "cells": [
    {
     "cell_type": "code",
     "collapsed": false,
     "input": [
      "from pyot.models import *\n",
      "from pyot.vres.vresApp import *\n",
      "\n",
      "print '\\nLL programmer'\n",
      "template = resource_template(title='light', uri='/sensors/light')\n",
      "\n",
      "per = VirtualSensorTemplate(input_template=template, name='templ')\n",
      "per.GET()"
     ],
     "language": "python",
     "metadata": {},
     "outputs": [
      {
       "output_type": "stream",
       "stream": "stdout",
       "text": [
        "\n",
        "LL programmer\n",
        "/rd/templ\n",
        "The vr is going to be created  *********************************\n",
        "\n",
        "\n",
        "post coap://[bbbb::1]/rd/templ\n",
        "response= 2.01 \n",
        "\n",
        "Periodic Virtual Sensor \n",
        ">> supported methods: GET|POST\n",
        "  >> Configuration\\  >>   subresource: period\n",
        ">>   subresource: processing"
       ]
      },
      {
       "output_type": "stream",
       "stream": "stdout",
       "text": [
        "\n"
       ]
      },
      {
       "metadata": {},
       "output_type": "pyout",
       "prompt_number": 4,
       "text": [
        "'virtual resource template sample'"
       ]
      }
     ],
     "prompt_number": 4
    },
    {
     "cell_type": "code",
     "collapsed": false,
     "input": [
      "print '\\n*******************\\nHL programmer'\n",
      "hlTemplate = Resource.objects.get(title='templ')\n",
      "hlTemplate.GET()\n",
      "instance = hlTemplate.POST('inst')\n"
     ],
     "language": "python",
     "metadata": {},
     "outputs": [
      {
       "output_type": "stream",
       "stream": "stdout",
       "text": [
        "\n",
        "*******************\n",
        "HL programmer\n",
        "Periodic Virtual Sensor \n",
        ">> supported methods: GET|POST\n",
        "  >> Configuration\\  >>   subresource: period\n",
        ">>   subresource: processing\n",
        "/rd/templ/inst\n",
        "The vr is going to be created  *********************************\n",
        "\n",
        "\n",
        "post coap://[bbbb::1]/rd/templ/inst\n",
        "response= 2.01 \n",
        "\n",
        "/rd/templ/inst/proc"
       ]
      },
      {
       "output_type": "stream",
       "stream": "stdout",
       "text": [
        "\n",
        "The vr is going to be created  *********************************\n",
        "\n",
        "\n",
        "post coap://[bbbb::1]/rd/templ/inst/proc\n",
        "response= 2.01 \n",
        "\n"
       ]
      }
     ],
     "prompt_number": 5
    },
    {
     "cell_type": "code",
     "collapsed": false,
     "input": [
      "proc = \"\"\"\n",
      "print 'this is a user-defined processing function'\n",
      "\n",
      "input = get_input_list()\n",
      "if len(input) != 0:\n",
      "  print input\n",
      "  output = sum(input)/len(input)\n",
      "  set_output(output)\n",
      "\"\"\"\n",
      "instance.processing.PUT(proc)\n",
      "#print instance.processing.GET()"
     ],
     "language": "python",
     "metadata": {},
     "outputs": [
      {
       "output_type": "stream",
       "stream": "stdout",
       "text": [
        "virtual PUT\n"
       ]
      }
     ],
     "prompt_number": 8
    },
    {
     "cell_type": "code",
     "collapsed": false,
     "input": [
      "print instance.GET()"
     ],
     "language": "python",
     "metadata": {},
     "outputs": [
      {
       "output_type": "stream",
       "stream": "stdout",
       "text": [
        "{'uri': '/sensors/light', 'title': 'light'}\n",
        "running the pf"
       ]
      },
      {
       "output_type": "stream",
       "stream": "stdout",
       "text": [
        "\n",
        "this is a user-defined processing function\n",
        "[38, 73, 88, 52]\n",
        "62\n"
       ]
      }
     ],
     "prompt_number": 9
    },
    {
     "cell_type": "code",
     "collapsed": false,
     "input": [
      "proc2 = \"\"\"\n",
      "print 'this is a user-defined processing function'\n",
      "input = get_input_list()\n",
      "if len(input) != 0:\n",
      "  print input\n",
      "  output = sum(input)\n",
      "  set_output(output)\n",
      "\"\"\"\n",
      "instance.processing.PUT(proc2)\n",
      "#print instance.processing.GET()\n",
      "print instance.GET()"
     ],
     "language": "python",
     "metadata": {},
     "outputs": [
      {
       "output_type": "stream",
       "stream": "stdout",
       "text": [
        "virtual PUT\n",
        "{'uri': '/sensors/light', 'title': 'light'}"
       ]
      },
      {
       "output_type": "stream",
       "stream": "stdout",
       "text": [
        "\n",
        "running the pf"
       ]
      },
      {
       "output_type": "stream",
       "stream": "stdout",
       "text": [
        "\n",
        "this is a user-defined processing function\n",
        "[31, 20, 20, 20]\n",
        "91\n"
       ]
      }
     ],
     "prompt_number": 5
    },
    {
     "cell_type": "code",
     "collapsed": false,
     "input": [
      "instance = hlTemplate.POST('e')"
     ],
     "language": "python",
     "metadata": {},
     "outputs": [
      {
       "output_type": "stream",
       "stream": "stdout",
       "text": [
        "/rd/t/e\n",
        "The vr is going to be created  *********************************\n",
        "\n",
        "\n",
        "post coap://[bbbb::1]/rd/t/e\n",
        "response= 2.01 \n",
        "\n",
        "/rd/t/e/processing"
       ]
      },
      {
       "output_type": "stream",
       "stream": "stdout",
       "text": [
        "\n",
        "The vr is going to be created  *********************************\n",
        "\n",
        "\n",
        "post coap://[bbbb::1]/rd/t/e/processing\n",
        "response= 2.01 \n",
        "\n"
       ]
      }
     ],
     "prompt_number": 13
    },
    {
     "cell_type": "code",
     "collapsed": false,
     "input": [
      "proc = \"\"\"\n",
      "print 'this is a user-defined processing function'\n",
      "\n",
      "input = get_input_list()\n",
      "if len(input) != 0:\n",
      "  print input\n",
      "  exp = [x**2 for x in input]\n",
      "  output = sum(exp)/len(exp)\n",
      "  set_output(output)\n",
      "\"\"\"\n",
      "instance.processing.PUT(proc)"
     ],
     "language": "python",
     "metadata": {},
     "outputs": [
      {
       "output_type": "stream",
       "stream": "stdout",
       "text": [
        "virtual PUT\n"
       ]
      }
     ],
     "prompt_number": 15
    },
    {
     "cell_type": "code",
     "collapsed": false,
     "input": [
      "print instance.GET()"
     ],
     "language": "python",
     "metadata": {},
     "outputs": [
      {
       "output_type": "stream",
       "stream": "stdout",
       "text": [
        "return the VALUE of the virtual resource\n",
        "{'uri': '/sensors/light', 'title': 'light'}\n",
        "running the pf"
       ]
      },
      {
       "output_type": "stream",
       "stream": "stdout",
       "text": [
        "\n",
        "this is a user-defined processing function\n",
        "[71, 86, 88]\n",
        "6727\n"
       ]
      }
     ],
     "prompt_number": 16
    },
    {
     "cell_type": "code",
     "collapsed": false,
     "input": [],
     "language": "python",
     "metadata": {},
     "outputs": []
    }
   ],
   "metadata": {}
  }
 ]
}