{
 "metadata": {
  "name": ""
 },
 "nbformat": 3,
 "nbformat_minor": 0,
 "worksheets": [
  {
   "cells": [
    {
     "cell_type": "code",
     "collapsed": false,
     "input": [
      "from pyot.models import *\n",
      "from pyot.vres.vresApp import *\n",
      "\n",
      "print '\\nLL programmer'\n",
      "template = resource_template(title='ciao', uri='bau')\n",
      "\n",
      "per = VirtualSensorTemplate(input_template=template, name='t')\n",
      "per.GET()"
     ],
     "language": "python",
     "metadata": {},
     "outputs": [
      {
       "output_type": "stream",
       "stream": "stdout",
       "text": [
        "\n",
        "LL programmer\n",
        "/rd/t\n",
        "The vr is going to be created  *********************************\n",
        "\n",
        "\n",
        "PATH ====================rd/t\n",
        "Message sent to bbbb::1:5683\n",
        "----------------------------------------\n",
        "Source: None\n",
        "Destination: ('bbbb::1', 5683)\n",
        "Type: CON\n",
        "MID: 2\n",
        "Code: POST\n",
        "Token: None\n",
        "Uri-Query: pyot\n",
        "Uri-Path: rd\n",
        "Uri-Path: t\n",
        "Payload: \n",
        "/rd/t\n",
        "\n",
        "----------------------------------------\n",
        "Message received from bbbb::1:5683\n",
        "----------------------------------------\n",
        "Source: ('bbbb::1', 5683)\n",
        "Destination: None\n",
        "Type: ACK\n",
        "MID: 2\n",
        "Code: CREATED\n",
        "Token: None\n",
        "Location-Path: rd/t\n",
        "Location-Query: pyot\n",
        "Payload: \n",
        "None\n",
        "\n",
        "----------------------------------------\n",
        "Code ==  65\n",
        "Periodic Virtual Sensor \n",
        ">> supported methods: GET|POST\n",
        "  >> Configuration\\  >>   subresource: period\n",
        ">>   subresource: processing"
       ]
      },
      {
       "output_type": "stream",
       "stream": "stdout",
       "text": [
        "\n"
       ]
      },
      {
       "metadata": {},
       "output_type": "pyout",
       "prompt_number": 1,
       "text": [
        "'virtual resource template sample'"
       ]
      }
     ],
     "prompt_number": 1
    },
    {
     "cell_type": "code",
     "collapsed": false,
     "input": [
      "print '\\n*******************\\nHL programmer'\n",
      "hlTemplate = Resource.objects.get(title='t')\n",
      "hlTemplate.GET()\n",
      "instance = hlTemplate.POST('n')\n",
      "\n",
      "#print '\\ninstance configuration'\n",
      "#print instance.period.GET()\n",
      "#instance.period.PUT('120')\n",
      "#print instance.period.GET()\n",
      "\n",
      "\n",
      "\n",
      "#print '\\ninstance retrieval'\n",
      "#print instance.GET()\n",
      "#s = instance.getSubResources()\n",
      "#print s\n",
      "#print instance.template\n",
      "#print instance.template.inputSet"
     ],
     "language": "python",
     "metadata": {},
     "outputs": [
      {
       "output_type": "stream",
       "stream": "stdout",
       "text": [
        "\n",
        "*******************\n",
        "HL programmer\n",
        "Periodic Virtual Sensor \n",
        ">> supported methods: GET|POST\n",
        "  >> Configuration\\  >>   subresource: period\n",
        ">>   subresource: processing\n",
        "/rd/t/n\n",
        "The vr is going to be created  *********************************\n",
        "\n",
        "\n",
        "PATH ====================rd/t/n\n",
        "Message sent to bbbb::1:5683\n",
        "----------------------------------------\n",
        "Source: None\n",
        "Destination: ('bbbb::1', 5683)\n",
        "Type: CON\n",
        "MID: 2\n",
        "Code: POST\n",
        "Token: None\n",
        "Uri-Query: pyot\n",
        "Uri-Path: rd\n",
        "Uri-Path: t\n",
        "Uri-Path: n\n",
        "Payload: \n",
        "/rd/t/n\n",
        "\n",
        "----------------------------------------\n",
        "/rd/t/n/period"
       ]
      },
      {
       "output_type": "stream",
       "stream": "stdout",
       "text": [
        "\n",
        "The vr is going to be created  *********************************\n",
        "\n",
        "\n",
        "PATH ====================rd/t/n/period\n",
        "Message sent to bbbb::1:5683\n",
        "----------------------------------------\n",
        "Source: None\n",
        "Destination: ('bbbb::1', 5683)\n",
        "Type: CON\n",
        "MID: 2\n",
        "Code: POST\n",
        "Token: None\n",
        "Uri-Query: pyot\n",
        "Uri-Path: rd\n",
        "Uri-Path: t\n",
        "Uri-Path: n\n",
        "Uri-Path: period\n",
        "Payload: \n",
        "/rd/t/n/period\n",
        "\n",
        "----------------------------------------\n",
        "/rd/t/n/processing"
       ]
      },
      {
       "output_type": "stream",
       "stream": "stdout",
       "text": [
        "\n",
        "The vr is going to be created  *********************************\n",
        "\n",
        "\n",
        "PATH ====================rd/t/n/processing\n",
        "Message sent to bbbb::1:5683\n",
        "----------------------------------------\n",
        "Source: None\n",
        "Destination: ('bbbb::1', 5683)\n",
        "Type: CON\n",
        "MID: 2\n",
        "Code: POST\n",
        "Token: None\n",
        "Uri-Query: pyot\n",
        "Uri-Path: rd\n",
        "Uri-Path: t\n",
        "Uri-Path: n\n",
        "Uri-Path: processing\n",
        "Payload: \n",
        "/rd/t/n/processing\n",
        "\n",
        "----------------------------------------\n"
       ]
      }
     ],
     "prompt_number": 2
    },
    {
     "cell_type": "code",
     "collapsed": false,
     "input": [
      "proc = \"\"\"\n",
      "print 'this is a user-defined processing function'\n",
      "\n",
      "input = get_input_list()\n",
      "print input\n",
      "output = sum(input)/len(input)\n",
      "set_output(output)\n",
      "\"\"\"\n",
      "instance.processing.PUT(proc)\n",
      "print instance.processing.GET()"
     ],
     "language": "python",
     "metadata": {},
     "outputs": [
      {
       "output_type": "stream",
       "stream": "stdout",
       "text": [
        "virtual PUT\n",
        "virtual GET"
       ]
      },
      {
       "output_type": "stream",
       "stream": "stdout",
       "text": [
        "\n",
        "\n",
        "print 'this is a user-defined processing function'\n",
        "\n",
        "input = get_input_list()\n",
        "print input\n",
        "output = sum(input)/len(input)\n",
        "set_output(output)\n",
        "\n"
       ]
      }
     ],
     "prompt_number": 5
    },
    {
     "cell_type": "code",
     "collapsed": false,
     "input": [
      "print instance.GET()"
     ],
     "language": "python",
     "metadata": {},
     "outputs": [
      {
       "output_type": "stream",
       "stream": "stdout",
       "text": [
        "return the VALUE of the virtual resource\n",
        "running the pf\n",
        "this is a user-defined processing function\n",
        "[1, 2, 3, 4, 5]\n",
        "3\n"
       ]
      }
     ],
     "prompt_number": 6
    },
    {
     "cell_type": "code",
     "collapsed": false,
     "input": [
      "proc2 = \"\"\"\n",
      "print 'this is a user-defined processing function'\n",
      "input = get_input_list()\n",
      "print input\n",
      "output = sum(input)\n",
      "set_output(output)\n",
      "\"\"\"\n",
      "instance.processing.PUT(proc2)\n",
      "#print instance.processing.GET()\n",
      "print instance.GET()"
     ],
     "language": "python",
     "metadata": {},
     "outputs": [
      {
       "output_type": "stream",
       "stream": "stdout",
       "text": [
        "virtual PUT\n",
        "return the VALUE of the virtual resource"
       ]
      },
      {
       "output_type": "stream",
       "stream": "stdout",
       "text": [
        "\n",
        "running the pf\n",
        "this is a user-defined processing function\n",
        "[1, 2, 3, 4, 5]\n",
        "15\n"
       ]
      }
     ],
     "prompt_number": 10
    },
    {
     "cell_type": "code",
     "collapsed": false,
     "input": [],
     "language": "python",
     "metadata": {},
     "outputs": []
    }
   ],
   "metadata": {}
  }
 ]
}