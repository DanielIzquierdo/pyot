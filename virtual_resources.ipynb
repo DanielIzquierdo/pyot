{
 "metadata": {
  "name": ""
 },
 "nbformat": 3,
 "nbformat_minor": 0,
 "worksheets": [
  {
   "cells": [
    {
     "cell_type": "code",
     "collapsed": false,
     "input": [
      "from pyot.models import *\n",
      "from pyot.vres.vresApp import *\n",
      "\n",
      "print '\\nLL programmer'\n",
      "template = resource_template(title='light', uri='/sensors/light')\n",
      "\n",
      "per = VsTemplate(input_template=template, name='templ')\n",
      "per.GET()"
     ],
     "language": "python",
     "metadata": {},
     "outputs": []
    },
    {
     "cell_type": "code",
     "collapsed": false,
     "input": [
      "print '\\n*******************\\nHL programmer'\n",
      "hlTemplate = Resource.objects.get(title='templ')\n",
      "hlTemplate.GET()\n",
      "instance = hlTemplate.POST('inst')\n"
     ],
     "language": "python",
     "metadata": {},
     "outputs": []
    },
    {
     "cell_type": "code",
     "collapsed": false,
     "input": [
      "proc = \"\"\"\n",
      "print 'this is a user-defined processing function'\n",
      "\n",
      "input = get_input_list()\n",
      "if len(input) != 0:\n",
      "  print input\n",
      "  output = sum(input)/len(input)\n",
      "  set_output(output)\n",
      "\"\"\"\n",
      "instance.processing.PUT(proc)\n",
      "#print instance.processing.GET()"
     ],
     "language": "python",
     "metadata": {},
     "outputs": []
    },
    {
     "cell_type": "code",
     "collapsed": false,
     "input": [
      "print instance.GET()"
     ],
     "language": "python",
     "metadata": {},
     "outputs": []
    },
    {
     "cell_type": "code",
     "collapsed": false,
     "input": [
      "proc2 = \"\"\"\n",
      "print 'this is a user-defined processing function'\n",
      "input = get_input_list()\n",
      "if len(input) != 0:\n",
      "  print input\n",
      "  output = sum(input)\n",
      "  set_output(output)\n",
      "\"\"\"\n",
      "instance.processing.PUT(proc2)\n",
      "#print instance.processing.GET()\n",
      "print instance.GET()"
     ],
     "language": "python",
     "metadata": {},
     "outputs": []
    },
    {
     "cell_type": "code",
     "collapsed": false,
     "input": [
      "instance = hlTemplate.POST('e')"
     ],
     "language": "python",
     "metadata": {},
     "outputs": []
    },
    {
     "cell_type": "code",
     "collapsed": false,
     "input": [
      "proc = \"\"\"\n",
      "print 'this is a user-defined processing function'\n",
      "\n",
      "input = get_input_list()\n",
      "if len(input) != 0:\n",
      "  print input\n",
      "  exp = [x**2 for x in input]\n",
      "  output = sum(exp)/len(exp)\n",
      "  set_output(output)\n",
      "\"\"\"\n",
      "instance.processing.PUT(proc)"
     ],
     "language": "python",
     "metadata": {},
     "outputs": []
    },
    {
     "cell_type": "code",
     "collapsed": false,
     "input": [
      "print instance.GET()"
     ],
     "language": "python",
     "metadata": {},
     "outputs": []
    },
    {
     "cell_type": "code",
     "collapsed": false,
     "input": [],
     "language": "python",
     "metadata": {},
     "outputs": []
    }
   ],
   "metadata": {}
  }
 ]
}