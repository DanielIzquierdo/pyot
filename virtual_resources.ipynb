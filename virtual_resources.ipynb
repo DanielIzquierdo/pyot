{
 "metadata": {
  "name": ""
 },
 "nbformat": 3,
 "nbformat_minor": 0,
 "worksheets": [
  {
   "cells": [
    {
     "cell_type": "code",
     "collapsed": false,
     "input": [
      "from pyot.models import *\n",
      "from pyot.vresApp import *\n",
      "\n",
      "print '\\nLL programmer'\n",
      "template = resource_template(title='ciao', uri='bau')\n",
      "\n",
      "per = PeriodicVsTemplate(input_template=template)\n",
      "per.GET()\n",
      "\n",
      "\n",
      "print '\\n*******************\\nHL programmer'\n",
      "hlTemplate = Resource.objects.filter(title='periodicVs')[0]\n",
      "hlTemplate.GET()\n",
      "instance = hlTemplate.POST('test')\n",
      "\n",
      "print '\\ninstance configuration'\n",
      "print instance.period.GET()\n",
      "instance.period.PUT('120')\n",
      "print instance.period.GET()\n",
      "\n",
      "print '\\ninstance retrieval'\n",
      "instance.GET()\n",
      "s = instance.getSubResources()\n",
      "print s\n",
      "#print instance.template\n",
      "#print instance.template.inputSet"
     ],
     "language": "python",
     "metadata": {},
     "outputs": [
      {
       "output_type": "stream",
       "stream": "stdout",
       "text": [
        "\n",
        "LL programmer\n",
        "Periodic Virtual Sensor \n",
        ">> supported methods: GET|POST\n",
        "  >> Configuration\\  >>   subresource: period"
       ]
      },
      {
       "output_type": "stream",
       "stream": "stdout",
       "text": [
        "\n",
        "\n",
        "*******************\n",
        "HL programmer\n",
        "Periodic Virtual Sensor \n",
        ">> supported methods: GET|POST\n",
        "  >> Configuration\\  >>   subresource: period\n",
        "The instance has been saved in the db, time to deploy!"
       ]
      },
      {
       "output_type": "stream",
       "stream": "stdout",
       "text": [
        "\n",
        "activate a task which get the value from the input set with the specified period\n",
        "the task could be deployed in-network or as a simple process on the pyot node\n",
        "\n",
        "instance configuration\n",
        "virtual GET\n",
        "60\n",
        "virtual PUT\n",
        "virtual GET"
       ]
      },
      {
       "output_type": "stream",
       "stream": "stdout",
       "text": [
        "\n",
        "120\n",
        "\n",
        "instance retrieval\n",
        "return the VALUE of the virtual resource\n",
        "period = virtual GET\n",
        "120\n",
        "[<SubResource: ::1 - /periodicVs/test/period>]\n"
       ]
      }
     ],
     "prompt_number": 1
    },
    {
     "cell_type": "code",
     "collapsed": false,
     "input": [],
     "language": "python",
     "metadata": {},
     "outputs": []
    },
    {
     "cell_type": "code",
     "collapsed": false,
     "input": [],
     "language": "python",
     "metadata": {},
     "outputs": []
    }
   ],
   "metadata": {}
  }
 ]
}