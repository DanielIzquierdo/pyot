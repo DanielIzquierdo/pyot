{
 "metadata": {
  "name": ""
 },
 "nbformat": 3,
 "nbformat_minor": 0,
 "worksheets": [
  {
   "cells": [
    {
     "cell_type": "code",
     "collapsed": false,
     "input": [
      "from pyot.models import *\n",
      "from pyot.vres.vresApp import *\n",
      "\n",
      "print '\\nLL programmer'\n",
      "template = resource_template(title='light', uri='/sensors/light')\n",
      "\n",
      "per = VsPeriodicTemplate(input_template=template, name='templ')\n",
      "per.GET()"
     ],
     "language": "python",
     "metadata": {},
     "outputs": [
      {
       "output_type": "stream",
       "stream": "stdout",
       "text": [
        "\n",
        "LL programmer\n",
        "Periodic Virtual Sensor \n",
        ">> supported methods: GET|POST\n",
        "  >> Configuration\\  >>   subresource: period\n",
        ">>   subresource: processing"
       ]
      },
      {
       "output_type": "stream",
       "stream": "stdout",
       "text": [
        "\n"
       ]
      },
      {
       "metadata": {},
       "output_type": "pyout",
       "prompt_number": 1,
       "text": [
        "'virtual sensor periodic template'"
       ]
      }
     ],
     "prompt_number": 1
    },
    {
     "cell_type": "code",
     "collapsed": false,
     "input": [
      "print '\\n*******************\\nHL programmer'\n",
      "hlTemplate = Resource.objects.get(title='templ')\n",
      "hlTemplate.GET()\n",
      "instance = hlTemplate.POST('inst')\n"
     ],
     "language": "python",
     "metadata": {},
     "outputs": [
      {
       "output_type": "stream",
       "stream": "stdout",
       "text": [
        "\n",
        "*******************\n",
        "HL programmer\n",
        "Periodic Virtual Sensor \n",
        ">> supported methods: GET|POST\n",
        "  >> Configuration\\  >>   subresource: period\n",
        ">>   subresource: processing\n"
       ]
      }
     ],
     "prompt_number": 2
    },
    {
     "cell_type": "code",
     "collapsed": false,
     "input": [
      "proc = \"\"\"\n",
      "from tres_pymite import *\n",
      "i = getInputList()\n",
      "print \"list:\",\n",
      "print len(i), i\n",
      "if len(i) != 0:\n",
      "  a = sum(i) / len(i)\n",
      "  setOutput(a)\n",
      "  print a\n",
      "\"\"\"\n",
      "instance.processing.PUT(proc)\n",
      "#print instance.processing.GET()"
     ],
     "language": "python",
     "metadata": {},
     "outputs": [
      {
       "output_type": "stream",
       "stream": "stdout",
       "text": [
        "virtual PUT\n"
       ]
      }
     ],
     "prompt_number": 3
    },
    {
     "cell_type": "code",
     "collapsed": false,
     "input": [
      "print instance.PUT('on')\n"
     ],
     "language": "python",
     "metadata": {},
     "outputs": [
      {
       "output_type": "stream",
       "stream": "stdout",
       "text": [
        "put\n",
        "stopping\n",
        "bbbb::200:0:0:2 - /tasks"
       ]
      },
      {
       "output_type": "stream",
       "stream": "stdout",
       "text": [
        " Task now halted 2.05\n",
        "removed"
       ]
      },
      {
       "output_type": "stream",
       "stream": "stdout",
       "text": [
        "\n",
        "task removed\n"
       ]
      }
     ],
     "prompt_number": 8
    },
    {
     "cell_type": "code",
     "collapsed": false,
     "input": [
      "print instance.GET()"
     ],
     "language": "python",
     "metadata": {},
     "outputs": [
      {
       "output_type": "stream",
       "stream": "stdout",
       "text": [
        "None\n"
       ]
      }
     ],
     "prompt_number": 7
    },
    {
     "cell_type": "code",
     "collapsed": false,
     "input": [
      "proc2 = \"\"\"\n",
      "print 'this is a user-defined processing function'\n",
      "input = get_input_list()\n",
      "if len(input) != 0:\n",
      "  print input\n",
      "  output = sum(input)\n",
      "  set_output(output)\n",
      "\"\"\"\n",
      "instance.processing.PUT(proc2)\n",
      "#print instance.processing.GET()\n",
      "print instance.GET()"
     ],
     "language": "python",
     "metadata": {},
     "outputs": []
    },
    {
     "cell_type": "code",
     "collapsed": false,
     "input": [
      "instance = hlTemplate.POST('e')"
     ],
     "language": "python",
     "metadata": {},
     "outputs": []
    },
    {
     "cell_type": "code",
     "collapsed": false,
     "input": [
      "proc = \"\"\"\n",
      "print 'this is a user-defined processing function'\n",
      "\n",
      "input = get_input_list()\n",
      "if len(input) != 0:\n",
      "  print input\n",
      "  exp = [x**2 for x in input]\n",
      "  output = sum(exp)/len(exp)\n",
      "  set_output(output)\n",
      "\"\"\"\n",
      "instance.processing.PUT(proc)"
     ],
     "language": "python",
     "metadata": {},
     "outputs": []
    },
    {
     "cell_type": "code",
     "collapsed": false,
     "input": [
      "print instance.GET()"
     ],
     "language": "python",
     "metadata": {},
     "outputs": []
    }
   ],
   "metadata": {}
  }
 ]
}